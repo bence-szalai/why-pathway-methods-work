{
 "cells": [
  {
   "cell_type": "code",
   "execution_count": 1,
   "metadata": {
    "collapsed": true,
    "deletable": true,
    "editable": true
   },
   "outputs": [],
   "source": [
    "import pandas as pd\n",
    "import numpy as np\n",
    "\n",
    "from matplotlib import pyplot as plt\n",
    "import seaborn as sns\n",
    "%matplotlib inline\n",
    "sns.set_style('whitegrid')"
   ]
  },
  {
   "cell_type": "code",
   "execution_count": 2,
   "metadata": {
    "collapsed": true,
    "deletable": true,
    "editable": true
   },
   "outputs": [],
   "source": [
    "DM=pd.read_csv('../data/omnipath/DM_GC.csv',sep=',',header=0,index_col=0)"
   ]
  },
  {
   "cell_type": "code",
   "execution_count": 12,
   "metadata": {
    "collapsed": true
   },
   "outputs": [],
   "source": [
    "AM=pd.read_csv('../data/omnipath/AM_GC.csv',sep=',',header=0,index_col=0)"
   ]
  },
  {
   "cell_type": "code",
   "execution_count": 19,
   "metadata": {
    "collapsed": false
   },
   "outputs": [],
   "source": [
    "degree=(AM.sum()-1).astype(int)"
   ]
  },
  {
   "cell_type": "code",
   "execution_count": 24,
   "metadata": {
    "collapsed": false
   },
   "outputs": [],
   "source": [
    "degree_dict={}\n",
    "for i in range(1,degree.max()+1):\n",
    "    fil=degree==i\n",
    "    degree_dict[i]=degree.index[fil]"
   ]
  },
  {
   "cell_type": "code",
   "execution_count": 33,
   "metadata": {
    "collapsed": false
   },
   "outputs": [
    {
     "data": {
      "text/plain": [
       "Index(['TP53'], dtype='object')"
      ]
     },
     "execution_count": 33,
     "metadata": {},
     "output_type": "execute_result"
    }
   ],
   "source": [
    "degree_dict[481]"
   ]
  },
  {
   "cell_type": "code",
   "execution_count": 3,
   "metadata": {
    "collapsed": false,
    "deletable": true,
    "editable": true
   },
   "outputs": [
    {
     "data": {
      "text/plain": [
       "<matplotlib.text.Text at 0x1188afb00>"
      ]
     },
     "execution_count": 3,
     "metadata": {},
     "output_type": "execute_result"
    },
    {
     "data": {
      "image/png": "[encoded data removed]",
      "text/plain": [
       "<matplotlib.figure.Figure at 0x128608cc0>"
      ]
     },
     "metadata": {},
     "output_type": "display_data"
    }
   ],
   "source": [
    "plt.hist(DM.values[np.triu_indices_from(DM,1)])\n",
    "plt.xlabel('Shortest path distance')\n",
    "plt.ylabel('Number of protein pairs')"
   ]
  },
  {
   "cell_type": "code",
   "execution_count": 38,
   "metadata": {
    "collapsed": false,
    "deletable": true,
    "editable": true
   },
   "outputs": [],
   "source": [
    "set_name='KEGG'\n",
    "gene_sets=pd.read_csv('../results/genesets/single/csvs/%s.csv' % set_name,sep=',',header=0,index_col=0)\n",
    "#overlap with DM\n",
    "fil=np.in1d(gene_sets['Gene'],DM.index)\n",
    "gene_sets=gene_sets[fil]\n",
    "distances=[]\n",
    "bg=[]\n",
    "for gene_set in gene_sets['Set'].unique():\n",
    "    fil=gene_sets['Set']==gene_set\n",
    "    genes=gene_sets[fil]['Gene'].unique()\n",
    "    if len(genes)>1:\n",
    "        distances+=list(DM.loc[genes,genes].values[np.triu_indices_from(DM.loc[genes,genes],1)])\n",
    "        degree_counts=degree[genes].value_counts()\n",
    "        genes=[]\n",
    "        for d in degree_counts.index:\n",
    "            genes+=list(np.random.choice(degree_dict[d],degree_counts[d],False))\n",
    "        bg+=list(DM.loc[genes,genes].values[np.triu_indices_from(DM.loc[genes,genes],1)])"
   ]
  },
  {
   "cell_type": "code",
   "execution_count": 39,
   "metadata": {
    "collapsed": false,
    "deletable": true,
    "editable": true
   },
   "outputs": [
    {
     "data": {
      "text/plain": [
       "<matplotlib.legend.Legend at 0x1095287b8>"
      ]
     },
     "execution_count": 39,
     "metadata": {},
     "output_type": "execute_result"
    },
    {
     "data": {
      "image/png": "[encoded data removed]",
      "text/plain": [
       "<matplotlib.figure.Figure at 0x109528278>"
      ]
     },
     "metadata": {},
     "output_type": "display_data"
    }
   ],
   "source": [
    "plt.hist([DM.values[np.triu_indices_from(DM,1)],bg,distances],normed=True)\n",
    "plt.xlabel('Shortest path distance')\n",
    "plt.ylabel('Density')\n",
    "plt.legend(['all distances','degree matched bg',set_name+ ' distances'])"
   ]
  },
  {
   "cell_type": "code",
   "execution_count": 40,
   "metadata": {
    "collapsed": true,
    "deletable": true,
    "editable": true
   },
   "outputs": [],
   "source": [
    "DM=pd.read_csv('../data/omnipath/DSD_conv.csv',sep=',',header=0,index_col=0)"
   ]
  },
  {
   "cell_type": "code",
   "execution_count": 19,
   "metadata": {
    "collapsed": false,
    "deletable": true,
    "editable": true
   },
   "outputs": [
    {
     "name": "stderr",
     "output_type": "stream",
     "text": [
      "/Users/benceszalai/Library/Enthought/Canopy/edm/envs/Python3/lib/python3.5/site-packages/scipy/stats/stats.py:1706: FutureWarning: Using a non-tuple sequence for multidimensional indexing is deprecated; use `arr[tuple(seq)]` instead of `arr[seq]`. In the future this will be interpreted as an array index, `arr[np.array(seq)]`, which will result either in an error or a different result.\n",
      "  return np.add.reduce(sorted[indexer] * weights, axis=axis) / sumval\n"
     ]
    },
    {
     "data": {
      "text/plain": [
       "<matplotlib.text.Text at 0x313b1b048>"
      ]
     },
     "execution_count": 19,
     "metadata": {},
     "output_type": "execute_result"
    },
    {
     "data": {
      "image/png": "[encoded data removed]",
      "text/plain": [
       "<matplotlib.figure.Figure at 0x13a2b60f0>"
      ]
     },
     "metadata": {},
     "output_type": "display_data"
    }
   ],
   "source": [
    "sns.distplot(DM.values[np.triu_indices_from(DM,1)])\n",
    "plt.xlabel('DSD')\n",
    "plt.ylabel('Density')"
   ]
  },
  {
   "cell_type": "code",
   "execution_count": 58,
   "metadata": {
    "collapsed": false,
    "deletable": true,
    "editable": true
   },
   "outputs": [
    {
     "name": "stderr",
     "output_type": "stream",
     "text": [
      "/Users/benceszalai/Library/Enthought/Canopy/edm/envs/Python3/lib/python3.5/site-packages/ipykernel/__main__.py:1: RuntimeWarning: divide by zero encountered in log2\n",
      "  if __name__ == '__main__':\n"
     ]
    }
   ],
   "source": [
    "DM2=np.log2(DM)"
   ]
  },
  {
   "cell_type": "code",
   "execution_count": 59,
   "metadata": {
    "collapsed": false,
    "deletable": true,
    "editable": true
   },
   "outputs": [
    {
     "name": "stderr",
     "output_type": "stream",
     "text": [
      "/Users/benceszalai/Library/Enthought/Canopy/edm/envs/Python3/lib/python3.5/site-packages/scipy/stats/stats.py:1706: FutureWarning: Using a non-tuple sequence for multidimensional indexing is deprecated; use `arr[tuple(seq)]` instead of `arr[seq]`. In the future this will be interpreted as an array index, `arr[np.array(seq)]`, which will result either in an error or a different result.\n",
      "  return np.add.reduce(sorted[indexer] * weights, axis=axis) / sumval\n"
     ]
    },
    {
     "data": {
      "text/plain": [
       "<matplotlib.text.Text at 0x129a76160>"
      ]
     },
     "execution_count": 59,
     "metadata": {},
     "output_type": "execute_result"
    },
    {
     "data": {
      "image/png": "[encoded data removed]",
      "text/plain": [
       "<matplotlib.figure.Figure at 0x1bae399e8>"
      ]
     },
     "metadata": {},
     "output_type": "display_data"
    }
   ],
   "source": [
    "sns.distplot(DM2.values[np.triu_indices_from(DM,1)])\n",
    "plt.xlabel('log2(DSD)')\n",
    "plt.ylabel('Density')"
   ]
  },
  {
   "cell_type": "code",
   "execution_count": 62,
   "metadata": {
    "collapsed": false,
    "deletable": true,
    "editable": true
   },
   "outputs": [],
   "source": [
    "set_name='KEGG'\n",
    "gene_sets=pd.read_csv('../results/genesets/single/csvs/%s.csv' % set_name,sep=',',header=0,index_col=0)\n",
    "#overlap with DM\n",
    "fil=np.in1d(gene_sets['Gene'],DM2.index)\n",
    "gene_sets=gene_sets[fil]\n",
    "distances=[]\n",
    "bg=[]\n",
    "for gene_set in gene_sets['Set'].unique():\n",
    "    fil=gene_sets['Set']==gene_set\n",
    "    genes=gene_sets[fil]['Gene'].unique()\n",
    "    if len(genes)>1:\n",
    "        distances+=list(DM2.loc[genes,genes].values[np.triu_indices_from(DM2.loc[genes,genes],1)])\n",
    "        degree_counts=degree[genes].value_counts()\n",
    "        genes=[]\n",
    "        for d in degree_counts.index:\n",
    "            genes+=list(np.random.choice(degree_dict[d],degree_counts[d],False))\n",
    "        bg+=list(DM2.loc[genes,genes].values[np.triu_indices_from(DM2.loc[genes,genes],1)])"
   ]
  },
  {
   "cell_type": "code",
   "execution_count": 63,
   "metadata": {
    "collapsed": false,
    "deletable": true,
    "editable": true
   },
   "outputs": [
    {
     "name": "stderr",
     "output_type": "stream",
     "text": [
      "/Users/benceszalai/Library/Enthought/Canopy/edm/envs/Python3/lib/python3.5/site-packages/scipy/stats/stats.py:1706: FutureWarning: Using a non-tuple sequence for multidimensional indexing is deprecated; use `arr[tuple(seq)]` instead of `arr[seq]`. In the future this will be interpreted as an array index, `arr[np.array(seq)]`, which will result either in an error or a different result.\n",
      "  return np.add.reduce(sorted[indexer] * weights, axis=axis) / sumval\n"
     ]
    },
    {
     "data": {
      "text/plain": [
       "<matplotlib.legend.Legend at 0x121ef8a58>"
      ]
     },
     "execution_count": 63,
     "metadata": {},
     "output_type": "execute_result"
    },
    {
     "data": {
      "image/png": "[encoded data removed]",
      "text/plain": [
       "<matplotlib.figure.Figure at 0x121ef8860>"
      ]
     },
     "metadata": {},
     "output_type": "display_data"
    }
   ],
   "source": [
    "sns.distplot(DM2.values[np.triu_indices_from(DM,1)])\n",
    "sns.distplot(bg)\n",
    "sns.distplot(distances)\n",
    "plt.xlabel('log2(DSD)')\n",
    "plt.ylabel('Density')\n",
    "plt.legend(['all distances','degree matched bg',set_name+ ' distances'])"
   ]
  },
  {
   "cell_type": "code",
   "execution_count": 28,
   "metadata": {
    "collapsed": true,
    "deletable": true,
    "editable": true
   },
   "outputs": [],
   "source": [
    "AM=pd.read_csv('../data/omnipath/AM_GC.csv',sep=',',header=0,index_col=0)"
   ]
  },
  {
   "cell_type": "code",
   "execution_count": 32,
   "metadata": {
    "collapsed": false,
    "deletable": true,
    "editable": true
   },
   "outputs": [
    {
     "data": {
      "text/plain": [
       "<matplotlib.text.Text at 0x35013d048>"
      ]
     },
     "execution_count": 32,
     "metadata": {},
     "output_type": "execute_result"
    },
    {
     "data": {
      "image/png": "[encoded data removed]",
      "text/plain": [
       "<matplotlib.figure.Figure at 0x311345898>"
      ]
     },
     "metadata": {},
     "output_type": "display_data"
    }
   ],
   "source": [
    "plt.plot(AM.sum(),DM.median(),'.')\n",
    "plt.xlabel('Degree of protein')\n",
    "plt.ylabel('Median DSD for protein')"
   ]
  },
  {
   "cell_type": "code",
   "execution_count": 166,
   "metadata": {
    "collapsed": false,
    "deletable": true,
    "editable": true
   },
   "outputs": [
    {
     "name": "stderr",
     "output_type": "stream",
     "text": [
      "/Users/benceszalai/Library/Enthought/Canopy/edm/envs/Python3/lib/python3.5/site-packages/ipykernel/__main__.py:1: RuntimeWarning: divide by zero encountered in log2\n",
      "  if __name__ == '__main__':\n"
     ]
    }
   ],
   "source": [
    "DM=np.log2(DM)"
   ]
  },
  {
   "cell_type": "code",
   "execution_count": 65,
   "metadata": {
    "collapsed": true,
    "deletable": true,
    "editable": true
   },
   "outputs": [],
   "source": [
    "kegg=pd.read_csv('../results/genesets/single/csvs/dorothea_AB.csv',sep=',',header=0,index_col=0)"
   ]
  },
  {
   "cell_type": "code",
   "execution_count": 66,
   "metadata": {
    "collapsed": false,
    "deletable": true,
    "editable": true
   },
   "outputs": [],
   "source": [
    "fil=np.in1d(kegg['Gene'],DM.index)"
   ]
  },
  {
   "cell_type": "code",
   "execution_count": 67,
   "metadata": {
    "collapsed": false,
    "deletable": true,
    "editable": true
   },
   "outputs": [],
   "source": [
    "kegg=kegg[fil]"
   ]
  },
  {
   "cell_type": "code",
   "execution_count": 102,
   "metadata": {
    "collapsed": false,
    "deletable": true,
    "editable": true
   },
   "outputs": [],
   "source": [
    "gene_set=kegg['Set'].unique()[9]"
   ]
  },
  {
   "cell_type": "code",
   "execution_count": 103,
   "metadata": {
    "collapsed": false,
    "deletable": true,
    "editable": true
   },
   "outputs": [],
   "source": [
    "fil=kegg['Set']==gene_set\n",
    "genes=kegg[fil]['Gene'].values"
   ]
  },
  {
   "cell_type": "code",
   "execution_count": 104,
   "metadata": {
    "collapsed": false,
    "deletable": true,
    "editable": true
   },
   "outputs": [
    {
     "data": {
      "text/plain": [
       "3.567737652243567"
      ]
     },
     "execution_count": 104,
     "metadata": {},
     "output_type": "execute_result"
    }
   ],
   "source": [
    "np.median(DM.values[np.triu_indices_from(DM.loc[genes,genes],1)])"
   ]
  },
  {
   "cell_type": "code",
   "execution_count": 101,
   "metadata": {
    "collapsed": false,
    "deletable": true,
    "editable": true
   },
   "outputs": [
    {
     "data": {
      "text/plain": [
       "3.6598339562094737"
      ]
     },
     "execution_count": 101,
     "metadata": {},
     "output_type": "execute_result"
    }
   ],
   "source": [
    "np.median(DM.values[np.triu_indices_from(DM,1)])"
   ]
  },
  {
   "cell_type": "code",
   "execution_count": 105,
   "metadata": {
    "collapsed": true,
    "deletable": true,
    "editable": true
   },
   "outputs": [],
   "source": [
    "def get_distance_distribution(set_name='KEGG'):\n",
    "    pass"
   ]
  },
  {
   "cell_type": "code",
   "execution_count": 230,
   "metadata": {
    "collapsed": false,
    "deletable": true,
    "editable": true
   },
   "outputs": [],
   "source": [
    "set_name='dorothea_AB'\n",
    "gene_sets=pd.read_csv('../results/genesets/single/csvs/%s.csv' % set_name,sep=',',header=0,index_col=0)\n",
    "#overlap with DM\n",
    "fil=np.in1d(gene_sets['Gene'],DM.index)\n",
    "gene_sets=gene_sets[fil]\n",
    "medians_true=[]\n",
    "medians_random=[]\n",
    "for gene_set in gene_sets['Set'].unique():\n",
    "    fil=gene_sets['Set']==gene_set\n",
    "    genes=gene_sets[fil]['Gene'].unique()\n",
    "    if len(genes)>1:\n",
    "        medians_true+=list(DM.loc[genes,genes].values[np.triu_indices_from(DM.loc[genes,genes],1)])\n",
    "        genes=np.random.choice(DM.index,len(genes),False)\n",
    "        medians_random+=list(DM.loc[genes,genes].values[np.triu_indices_from(DM.loc[genes,genes],1)])"
   ]
  },
  {
   "cell_type": "code",
   "execution_count": 231,
   "metadata": {
    "collapsed": false,
    "deletable": true,
    "editable": true
   },
   "outputs": [
    {
     "name": "stdout",
     "output_type": "stream",
     "text": [
      "3.391658341964466 3.977894085273551\n"
     ]
    }
   ],
   "source": [
    "#sns.distplot(medians_true)\n",
    "#sns.distplot(medians_random)\n",
    "print(np.mean(medians_true),np.mean(medians_random))"
   ]
  },
  {
   "cell_type": "code",
   "execution_count": 177,
   "metadata": {
    "collapsed": false,
    "deletable": true,
    "editable": true
   },
   "outputs": [
    {
     "name": "stderr",
     "output_type": "stream",
     "text": [
      "/Users/benceszalai/Library/Enthought/Canopy/edm/envs/Python3/lib/python3.5/site-packages/scipy/stats/stats.py:1706: FutureWarning: Using a non-tuple sequence for multidimensional indexing is deprecated; use `arr[tuple(seq)]` instead of `arr[seq]`. In the future this will be interpreted as an array index, `arr[np.array(seq)]`, which will result either in an error or a different result.\n",
      "  return np.add.reduce(sorted[indexer] * weights, axis=axis) / sumval\n"
     ]
    },
    {
     "data": {
      "text/plain": [
       "<matplotlib.axes._subplots.AxesSubplot at 0x1c6267668>"
      ]
     },
     "execution_count": 177,
     "metadata": {},
     "output_type": "execute_result"
    },
    {
     "data": {
      "image/png": "[encoded data removed]",
      "text/plain": [
       "<matplotlib.figure.Figure at 0x2512008d0>"
      ]
     },
     "metadata": {},
     "output_type": "display_data"
    }
   ],
   "source": [
    "sns.distplot(DM.values[np.triu_indices_from(DM,1)])"
   ]
  },
  {
   "cell_type": "code",
   "execution_count": 31,
   "metadata": {
    "collapsed": false,
    "deletable": true,
    "editable": true
   },
   "outputs": [
    {
     "data": {
      "text/plain": [
       "A1CF       212.924649\n",
       "A2M        207.312266\n",
       "AAAS       210.235048\n",
       "AAK1       208.602174\n",
       "AAMP       210.116972\n",
       "AANAT      210.535626\n",
       "AATF       212.745360\n",
       "AATK       178.411393\n",
       "ABCA1      219.123065\n",
       "ABCB1      210.088757\n",
       "ABCB6      210.149527\n",
       "ABCC1      210.841829\n",
       "ABCC2      210.643410\n",
       "ABCC3      211.457012\n",
       "ABCC4      210.971093\n",
       "ABCC8      214.266032\n",
       "ABCC9      211.303743\n",
       "ABCD3      215.596269\n",
       "ABCE1      210.660544\n",
       "ABCF1      210.128487\n",
       "ABCF2      210.235048\n",
       "ABCG2      210.278174\n",
       "ABHD5      212.425679\n",
       "ABI1       204.970171\n",
       "ABI2       208.139101\n",
       "ABI3       209.325372\n",
       "ABI3BP     209.793753\n",
       "ABL1       209.616679\n",
       "ABL2       205.294071\n",
       "ABLIM1     210.002218\n",
       "              ...    \n",
       "ZNF652     209.297974\n",
       "ZNF653     210.329097\n",
       "ZNF655     210.217327\n",
       "ZNF668     210.217178\n",
       "ZNF675     210.094783\n",
       "ZNF692     211.423888\n",
       "ZNF7       210.431577\n",
       "ZNF703     210.351370\n",
       "ZNF74      210.773560\n",
       "ZNF746     210.468984\n",
       "ZNF76      210.526571\n",
       "ZNHIT1     210.221081\n",
       "ZNHIT3     210.206557\n",
       "ZNRD1      210.447023\n",
       "ZNRF1      210.589412\n",
       "ZNRF2      210.154749\n",
       "ZNRF3      210.845879\n",
       "ZNRF4      210.076872\n",
       "ZP3        210.318778\n",
       "ZPR1       208.360866\n",
       "ZRANB1     210.243344\n",
       "ZRANB2     210.381574\n",
       "ZRANB3     210.348445\n",
       "ZSCAN21    213.111563\n",
       "ZSCAN4     210.440995\n",
       "ZW10       215.016801\n",
       "ZWILCH     212.845809\n",
       "ZWINT      211.791349\n",
       "ZXDC       210.340757\n",
       "ZYX        209.666927\n",
       "Name: EGFR, Length: 8651, dtype: float64"
      ]
     },
     "execution_count": 31,
     "metadata": {},
     "output_type": "execute_result"
    }
   ],
   "source": [
    "DM.loc[\"EGFR\"]"
   ]
  },
  {
   "cell_type": "code",
   "execution_count": null,
   "metadata": {
    "collapsed": true,
    "deletable": true,
    "editable": true
   },
   "outputs": [],
   "source": []
  }
 ],
 "metadata": {
  "kernelspec": {
   "display_name": "Python 3",
   "language": "python",
   "name": "python3"
  },
  "language_info": {
   "codemirror_mode": {
    "name": "ipython",
    "version": 3
   },
   "file_extension": ".py",
   "mimetype": "text/x-python",
   "name": "python",
   "nbconvert_exporter": "python",
   "pygments_lexer": "ipython3",
   "version": "3.5.2"
  }
 },
 "nbformat": 4,
 "nbformat_minor": 2
}
