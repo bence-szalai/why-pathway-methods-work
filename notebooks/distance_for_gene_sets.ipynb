{
 "cells": [
  {
   "cell_type": "code",
   "execution_count": 1,
   "metadata": {
    "collapsed": true
   },
   "outputs": [],
   "source": [
    "import pandas as pd\n",
    "import numpy as np\n",
    "\n",
    "from matplotlib import pyplot as plt\n",
    "import seaborn as sns\n",
    "%matplotlib inline\n",
    "sns.set_style('whitegrid')"
   ]
  },
  {
   "cell_type": "code",
   "execution_count": 232,
   "metadata": {
    "collapsed": true
   },
   "outputs": [],
   "source": [
    "DM=pd.read_csv('../data/omnipath/DSD_conv.csv',sep=',',header=0,index_col=0)"
   ]
  },
  {
   "cell_type": "code",
   "execution_count": 233,
   "metadata": {
    "collapsed": true
   },
   "outputs": [],
   "source": [
    "AM=pd.read_csv('../data/omnipath/AM_GC.csv',sep=',',header=0,index_col=0)"
   ]
  },
  {
   "cell_type": "code",
   "execution_count": 243,
   "metadata": {
    "collapsed": false
   },
   "outputs": [
    {
     "data": {
      "text/plain": [
       "[<matplotlib.lines.Line2D at 0x4ea3277f0>]"
      ]
     },
     "execution_count": 243,
     "metadata": {},
     "output_type": "execute_result"
    },
    {
     "data": {
      "image/png": "[encoded data removed]",
      "text/plain": [
       "<matplotlib.figure.Figure at 0x5705629e8>"
      ]
     },
     "metadata": {},
     "output_type": "display_data"
    }
   ],
   "source": [
    "plt.plot(AM.sum(),DM.median(),'.')"
   ]
  },
  {
   "cell_type": "code",
   "execution_count": 166,
   "metadata": {
    "collapsed": false
   },
   "outputs": [
    {
     "name": "stderr",
     "output_type": "stream",
     "text": [
      "/Users/benceszalai/Library/Enthought/Canopy/edm/envs/Python3/lib/python3.5/site-packages/ipykernel/__main__.py:1: RuntimeWarning: divide by zero encountered in log2\n",
      "  if __name__ == '__main__':\n"
     ]
    }
   ],
   "source": [
    "DM=np.log2(DM)"
   ]
  },
  {
   "cell_type": "code",
   "execution_count": 65,
   "metadata": {
    "collapsed": true
   },
   "outputs": [],
   "source": [
    "kegg=pd.read_csv('../results/genesets/single/csvs/dorothea_AB.csv',sep=',',header=0,index_col=0)"
   ]
  },
  {
   "cell_type": "code",
   "execution_count": 66,
   "metadata": {
    "collapsed": false
   },
   "outputs": [],
   "source": [
    "fil=np.in1d(kegg['Gene'],DM.index)"
   ]
  },
  {
   "cell_type": "code",
   "execution_count": 67,
   "metadata": {
    "collapsed": false
   },
   "outputs": [],
   "source": [
    "kegg=kegg[fil]"
   ]
  },
  {
   "cell_type": "code",
   "execution_count": 102,
   "metadata": {
    "collapsed": false
   },
   "outputs": [],
   "source": [
    "gene_set=kegg['Set'].unique()[9]"
   ]
  },
  {
   "cell_type": "code",
   "execution_count": 103,
   "metadata": {
    "collapsed": false
   },
   "outputs": [],
   "source": [
    "fil=kegg['Set']==gene_set\n",
    "genes=kegg[fil]['Gene'].values"
   ]
  },
  {
   "cell_type": "code",
   "execution_count": 104,
   "metadata": {
    "collapsed": false
   },
   "outputs": [
    {
     "data": {
      "text/plain": [
       "3.567737652243567"
      ]
     },
     "execution_count": 104,
     "metadata": {},
     "output_type": "execute_result"
    }
   ],
   "source": [
    "np.median(DM.values[np.triu_indices_from(DM.loc[genes,genes],1)])"
   ]
  },
  {
   "cell_type": "code",
   "execution_count": 101,
   "metadata": {
    "collapsed": false
   },
   "outputs": [
    {
     "data": {
      "text/plain": [
       "3.6598339562094737"
      ]
     },
     "execution_count": 101,
     "metadata": {},
     "output_type": "execute_result"
    }
   ],
   "source": [
    "np.median(DM.values[np.triu_indices_from(DM,1)])"
   ]
  },
  {
   "cell_type": "code",
   "execution_count": 105,
   "metadata": {
    "collapsed": true
   },
   "outputs": [],
   "source": [
    "def get_distance_distribution(set_name='KEGG'):\n",
    "    pass"
   ]
  },
  {
   "cell_type": "code",
   "execution_count": 230,
   "metadata": {
    "collapsed": false
   },
   "outputs": [],
   "source": [
    "set_name='dorothea_AB'\n",
    "gene_sets=pd.read_csv('../results/genesets/single/csvs/%s.csv' % set_name,sep=',',header=0,index_col=0)\n",
    "#overlap with DM\n",
    "fil=np.in1d(gene_sets['Gene'],DM.index)\n",
    "gene_sets=gene_sets[fil]\n",
    "medians_true=[]\n",
    "medians_random=[]\n",
    "for gene_set in gene_sets['Set'].unique():\n",
    "    fil=gene_sets['Set']==gene_set\n",
    "    genes=gene_sets[fil]['Gene'].unique()\n",
    "    if len(genes)>1:\n",
    "        medians_true+=list(DM.loc[genes,genes].values[np.triu_indices_from(DM.loc[genes,genes],1)])\n",
    "        genes=np.random.choice(DM.index,len(genes),False)\n",
    "        medians_random+=list(DM.loc[genes,genes].values[np.triu_indices_from(DM.loc[genes,genes],1)])"
   ]
  },
  {
   "cell_type": "code",
   "execution_count": 231,
   "metadata": {
    "collapsed": false
   },
   "outputs": [
    {
     "name": "stdout",
     "output_type": "stream",
     "text": [
      "3.391658341964466 3.977894085273551\n"
     ]
    }
   ],
   "source": [
    "#sns.distplot(medians_true)\n",
    "#sns.distplot(medians_random)\n",
    "print(np.mean(medians_true),np.mean(medians_random))"
   ]
  },
  {
   "cell_type": "code",
   "execution_count": 177,
   "metadata": {
    "collapsed": false
   },
   "outputs": [
    {
     "name": "stderr",
     "output_type": "stream",
     "text": [
      "/Users/benceszalai/Library/Enthought/Canopy/edm/envs/Python3/lib/python3.5/site-packages/scipy/stats/stats.py:1706: FutureWarning: Using a non-tuple sequence for multidimensional indexing is deprecated; use `arr[tuple(seq)]` instead of `arr[seq]`. In the future this will be interpreted as an array index, `arr[np.array(seq)]`, which will result either in an error or a different result.\n",
      "  return np.add.reduce(sorted[indexer] * weights, axis=axis) / sumval\n"
     ]
    },
    {
     "data": {
      "text/plain": [
       "<matplotlib.axes._subplots.AxesSubplot at 0x1c6267668>"
      ]
     },
     "execution_count": 177,
     "metadata": {},
     "output_type": "execute_result"
    },
    {
     "data": {
      "image/png": "[encoded data removed]",
      "text/plain": [
       "<matplotlib.figure.Figure at 0x2512008d0>"
      ]
     },
     "metadata": {},
     "output_type": "display_data"
    }
   ],
   "source": [
    "sns.distplot(DM.values[np.triu_indices_from(DM,1)])"
   ]
  },
  {
   "cell_type": "code",
   "execution_count": 191,
   "metadata": {
    "collapsed": false
   },
   "outputs": [
    {
     "data": {
      "text/plain": [
       "source\n",
       "EGFR           -inf\n",
       "ERBB2      7.140031\n",
       "GRB2       7.225613\n",
       "ERBB3      7.267568\n",
       "INSR       7.313610\n",
       "PDGFRB     7.325344\n",
       "ERBB4      7.326881\n",
       "KIT        7.332072\n",
       "MET        7.350328\n",
       "PIK3R1     7.350366\n",
       "IGF1R      7.381443\n",
       "KDR        7.385199\n",
       "PIK3CA     7.391045\n",
       "NTRK1      7.398072\n",
       "FGFR1      7.413797\n",
       "AXL        7.415217\n",
       "SHC1       7.417585\n",
       "PDGFRA     7.420332\n",
       "NTRK2      7.420872\n",
       "RET        7.422934\n",
       "CSF1R      7.425757\n",
       "EPHB2      7.430519\n",
       "FLT1       7.434339\n",
       "FLT3       7.435110\n",
       "FGFR2      7.438133\n",
       "TEK        7.438502\n",
       "EPHA2      7.441933\n",
       "NTRK3      7.445969\n",
       "EPHB1      7.452674\n",
       "MST1R      7.453749\n",
       "             ...   \n",
       "RXFP2      7.987510\n",
       "MAPK1      8.003872\n",
       "H3C10      8.013131\n",
       "PCNA       8.014627\n",
       "CREBBP     8.016494\n",
       "ESR1       8.022365\n",
       "SP1        8.028777\n",
       "HDAC1      8.034930\n",
       "RELA       8.039483\n",
       "CHCHD4     8.040778\n",
       "RB1        8.048594\n",
       "MAP3K3     8.048970\n",
       "MAP3K14    8.054246\n",
       "PRKCA      8.066039\n",
       "CUL3       8.096415\n",
       "GSK3B      8.110544\n",
       "AKT1       8.135083\n",
       "PLK1       8.141602\n",
       "IKBKG      8.145458\n",
       "TGFBR1     8.150888\n",
       "EP300      8.173486\n",
       "ISG15      8.186558\n",
       "ATM        8.194599\n",
       "AR         8.204628\n",
       "CDK2       8.224971\n",
       "NDUFS3     8.344605\n",
       "CSNK2A1    8.353933\n",
       "PRKACA     8.399718\n",
       "CDK1       8.471415\n",
       "TP53       8.750613\n",
       "Name: EGFR, Length: 8651, dtype: float64"
      ]
     },
     "execution_count": 191,
     "metadata": {},
     "output_type": "execute_result"
    }
   ],
   "source": [
    "DM['EGFR'].sort_values()"
   ]
  },
  {
   "cell_type": "code",
   "execution_count": null,
   "metadata": {
    "collapsed": true
   },
   "outputs": [],
   "source": []
  }
 ],
 "metadata": {
  "kernelspec": {
   "display_name": "Python 3",
   "language": "python",
   "name": "python3"
  },
  "language_info": {
   "codemirror_mode": {
    "name": "ipython",
    "version": 3
   },
   "file_extension": ".py",
   "mimetype": "text/x-python",
   "name": "python",
   "nbconvert_exporter": "python",
   "pygments_lexer": "ipython3",
   "version": "3.5.2"
  }
 },
 "nbformat": 4,
 "nbformat_minor": 2
}
