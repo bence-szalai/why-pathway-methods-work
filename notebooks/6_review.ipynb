{
 "cells": [
  {
   "cell_type": "code",
   "execution_count": 1,
   "metadata": {},
   "outputs": [],
   "source": [
    "import pandas as pd\n",
    "import numpy as np\n",
    "\n",
    "from matplotlib import pyplot as plt\n",
    "%matplotlib inline\n",
    "import seaborn as sns\n",
    "sns.set_style('whitegrid')"
   ]
  },
  {
   "cell_type": "code",
   "execution_count": 22,
   "metadata": {},
   "outputs": [],
   "source": [
    "data1 = pd.read_csv('../results/benchmark/z_scores/gdsc/single/REACTOME_filtered_abs.csv',\n",
    "                  sep=',', header=0, index_col=0)\n",
    "data2 = pd.read_csv('../results/benchmark/z_scores/gdsc/single/BEST_dorothea_AB_filtered_abs.csv',\n",
    "                   sep=',', header=0, index_col=0)"
   ]
  },
  {
   "cell_type": "code",
   "execution_count": 23,
   "metadata": {},
   "outputs": [
    {
     "data": {
      "text/plain": [
       "[<matplotlib.lines.Line2D at 0x7fb413c228d0>]"
      ]
     },
     "execution_count": 23,
     "metadata": {},
     "output_type": "execute_result"
    },
    {
     "data": {
      "image/png": "[encoded data removed]",
      "text/plain": [
       "<Figure size 432x288 with 1 Axes>"
      ]
     },
     "metadata": {},
     "output_type": "display_data"
    }
   ],
   "source": [
    "plt.plot(data1.abs().max(), data2.abs().max(), '.')"
   ]
  },
  {
   "cell_type": "code",
   "execution_count": 25,
   "metadata": {},
   "outputs": [
    {
     "data": {
      "text/plain": [
       "SOS1_mut     0.626423\n",
       "STAG2_mut    0.640042\n",
       "CLSPN_mut    0.642659\n",
       "LPHN2_mut    0.675770\n",
       "ATM_mut      0.676575\n",
       "               ...   \n",
       "APC_mut      1.867573\n",
       "BRAF_mut     1.901511\n",
       "NRAS_mut     1.973234\n",
       "KRAS_mut     2.051222\n",
       "RB1_mut      2.306281\n",
       "Length: 172, dtype: float64"
      ]
     },
     "execution_count": 25,
     "metadata": {},
     "output_type": "execute_result"
    }
   ],
   "source": [
    "data2.abs().mean().sort_values()"
   ]
  },
  {
   "cell_type": "code",
   "execution_count": 28,
   "metadata": {},
   "outputs": [
    {
     "data": {
      "text/plain": [
       "RFX5     -4.125378\n",
       "ETS2     -4.064519\n",
       "RFXANK   -3.558985\n",
       "RFXAP    -3.558985\n",
       "MITF     -3.340705\n",
       "            ...   \n",
       "FOXA2     6.052650\n",
       "HNF1A     6.330977\n",
       "TCF7L2    6.450261\n",
       "HNF4A     6.907107\n",
       "CDX2      8.878933\n",
       "Name: APC_mut, Length: 109, dtype: float64"
      ]
     },
     "execution_count": 28,
     "metadata": {},
     "output_type": "execute_result"
    }
   ],
   "source": [
    "data2['APC_mut'].sort_values()"
   ]
  },
  {
   "cell_type": "code",
   "execution_count": null,
   "metadata": {},
   "outputs": [],
   "source": []
  }
 ],
 "metadata": {
  "kernelspec": {
   "display_name": "pycharm",
   "language": "python",
   "name": "pycharm"
  },
  "language_info": {
   "codemirror_mode": {
    "name": "ipython",
    "version": 3
   },
   "file_extension": ".py",
   "mimetype": "text/x-python",
   "name": "python",
   "nbconvert_exporter": "python",
   "pygments_lexer": "ipython3",
   "version": "3.7.7"
  }
 },
 "nbformat": 4,
 "nbformat_minor": 4
}
