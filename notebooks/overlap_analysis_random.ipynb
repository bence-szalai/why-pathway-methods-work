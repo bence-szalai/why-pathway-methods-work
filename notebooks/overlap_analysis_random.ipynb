{
 "cells": [
  {
   "cell_type": "code",
   "execution_count": 2,
   "metadata": {
    "collapsed": true,
    "deletable": true,
    "editable": true
   },
   "outputs": [],
   "source": [
    "import pandas as pd\n",
    "import numpy as np\n",
    "\n",
    "from matplotlib import pyplot as plt\n",
    "import seaborn as sns\n",
    "import pickle as pckl\n",
    "%matplotlib inline\n",
    "sns.set_style(\"whitegrid\")\n",
    "\n",
    "import os"
   ]
  },
  {
   "cell_type": "code",
   "execution_count": 3,
   "metadata": {
    "collapsed": true,
    "deletable": true,
    "editable": true
   },
   "outputs": [],
   "source": [
    "import sys\n",
    "sys.path.append('../code/')\n",
    "import make_genesets"
   ]
  },
  {
   "cell_type": "code",
   "execution_count": 3,
   "metadata": {
    "collapsed": true,
    "deletable": true,
    "editable": true
   },
   "outputs": [],
   "source": [
    "datasets=['BEST_dorothea_AB','BEST_dorothea_CD','CGP','KEGG','BIOCARTA','REACTOME']\n",
    "for dataset in datasets:\n",
    "    make_genesets.make_pickle_from_genese(dataset+'_random')"
   ]
  },
  {
   "cell_type": "code",
   "execution_count": 4,
   "metadata": {
    "collapsed": true,
    "deletable": true,
    "editable": true
   },
   "outputs": [],
   "source": [
    "datasets=['BEST_dorothea_AB','BEST_dorothea_CD','CGP','KEGG','BIOCARTA','REACTOME']\n",
    "for dataset1 in datasets:\n",
    "    for dataset2 in datasets:\n",
    "        if dataset1<dataset2:\n",
    "            make_genesets.make_overlap_gene_sets(dataset1+'_random',dataset2+'_random')"
   ]
  },
  {
   "cell_type": "code",
   "execution_count": 6,
   "metadata": {
    "collapsed": false,
    "deletable": true,
    "editable": true
   },
   "outputs": [
    {
     "data": {
      "text/plain": [
       "0"
      ]
     },
     "execution_count": 6,
     "metadata": {},
     "output_type": "execute_result"
    }
   ],
   "source": [
    "from subprocess import call\n",
    "call(['Rscript','../code/make_viper_regulon_overlap.R'])"
   ]
  },
  {
   "cell_type": "code",
   "execution_count": null,
   "metadata": {
    "collapsed": true,
    "deletable": true,
    "editable": true
   },
   "outputs": [],
   "source": [
    "call(['Rscript','../code/run_viper_overlap_random.R'])"
   ]
  },
  {
   "cell_type": "code",
   "execution_count": null,
   "metadata": {
    "collapsed": true,
    "deletable": true,
    "editable": true
   },
   "outputs": [],
   "source": [
    "call(['python3','../code/benchmark_progeny_overlap_random.py'])\n",
    "call(['python3','../code/benchmark_gdsc_genomic_overlap_random.py'])"
   ]
  },
  {
   "cell_type": "code",
   "execution_count": 4,
   "metadata": {
    "collapsed": true
   },
   "outputs": [],
   "source": [
    "def merge_gene_sets(setname,fnames):\n",
    "        setnames=[x for x in fnames if (setname in x)]\n",
    "        data=pd.read_csv('../results/genesets/overlap/csvs/%s' % (setnames[0]),\n",
    "                        sep=',',header=0,index_col=0)\n",
    "        for s in setnames[1:]:\n",
    "            new_data=pd.read_csv('../results/genesets/overlap/csvs/%s' % (s),\n",
    "                        sep=',',header=0,index_col=0)\n",
    "            data=pd.concat([data,new_data],0)\n",
    "        data.to_csv('../results/genesets/overlap/csvs_final/%s.csv' % (setname),sep=',')"
   ]
  },
  {
   "cell_type": "code",
   "execution_count": 5,
   "metadata": {
    "collapsed": true
   },
   "outputs": [],
   "source": [
    "fnames=os.listdir('../results/genesets/overlap/csvs/')\n",
    "datasets=['BEST_dorothea_AB','BEST_dorothea_CD','CGP','KEGG','BIOCARTA','REACTOME']\n",
    "for dataset1 in datasets:\n",
    "    for dataset2 in datasets:\n",
    "        if dataset1<dataset2:\n",
    "            setname=dataset1+'_random_overlap_'+dataset2+'_random'\n",
    "            merge_gene_sets(setname,fnames)\n",
    "        if dataset1!=dataset2:\n",
    "            setname=dataset1+'_random_minus_'+dataset2+'_random'\n",
    "            merge_gene_sets(setname,fnames)\n",
    "\n",
    "            setname=dataset2+'_random_minus_'+dataset1+'_random'\n",
    "            merge_gene_sets(setname,fnames)"
   ]
  },
  {
   "cell_type": "code",
   "execution_count": 6,
   "metadata": {
    "collapsed": true
   },
   "outputs": [],
   "source": [
    "def merge_gene_set_scores(setname,fnames,benchmark):\n",
    "        setnames=[x for x in fnames if (setname in x) & ~('_abs' in x)]\n",
    "        data=pd.read_csv('../results/benchmark/rocaucs/%s/overlap_random/%s' % (benchmark,setnames[0]),\n",
    "                        sep=',',header=0,index_col=0)\n",
    "        for s in setnames[1:]:\n",
    "            new_data=pd.read_csv('../results/benchmark/rocaucs/%s/overlap_random/%s' % (benchmark,s),\n",
    "                        sep=',',header=0,index_col=0)\n",
    "            data=pd.concat([data,new_data],1)\n",
    "        data.to_csv('../results/benchmark/rocaucs/%s/overlap_final/%s.csv' % (benchmark,setname),sep=',')\n",
    "            \n",
    "            \n",
    "        setnames=[x for x in fnames if (setname in x) & ('_abs' in x)]\n",
    "        data=pd.read_csv('../results/benchmark/rocaucs/%s/overlap_random/%s' % (benchmark,setnames[0]),\n",
    "                        sep=',',header=0,index_col=0)\n",
    "        for s in setnames[1:]:\n",
    "            new_data=pd.read_csv('../results/benchmark/rocaucs/%s/overlap_random/%s' % (benchmark,s),\n",
    "                                    sep=',',header=0,index_col=0)\n",
    "            data=pd.concat([data,new_data],1)\n",
    "        data.to_csv('../results/benchmark/rocaucs/%s/overlap_final/%s_abs.csv' % (benchmark,setname),sep=',')"
   ]
  },
  {
   "cell_type": "code",
   "execution_count": 12,
   "metadata": {
    "collapsed": false
   },
   "outputs": [],
   "source": [
    "#merge small files to large ones\n",
    "datasets=['BEST_dorothea_AB','BEST_dorothea_CD','CGP','KEGG','BIOCARTA','REACTOME']\n",
    "for benchmark in ['progeny','gdsc']:\n",
    "    fnames=os.listdir('../results/benchmark/rocaucs/%s/overlap_random/' % benchmark)\n",
    "    for dataset1 in datasets:\n",
    "        for dataset2 in datasets:\n",
    "            if dataset1<dataset2:\n",
    "                setname=dataset1+'_random_overlap_'+dataset2+'_random'\n",
    "                merge_gene_set_scores(setname,fnames,benchmark)\n",
    "            if dataset1!=dataset2:\n",
    "                setname=dataset1+'_random_minus_'+dataset2+'_random'\n",
    "                merge_gene_set_scores(setname,fnames,benchmark)\n",
    "\n",
    "                setname=dataset2+'_random_minus_'+dataset1+'_random'\n",
    "                merge_gene_set_scores(setname,fnames,benchmark)       "
   ]
  },
  {
   "cell_type": "code",
   "execution_count": 13,
   "metadata": {
    "collapsed": true
   },
   "outputs": [],
   "source": [
    "results=pd.read_csv('../results/benchmark/rocaucs/gdsc/random_dist.csv',sep=',',header=0,index_col=0)\n",
    "gdsc=pd.read_csv('../results/benchmark/datasets/gdsc_mut.csv',\n",
    "                        sep=',',header=0,index_col=0)\n",
    "gdsc=gdsc.sum(1)\n",
    "gdsc=gdsc[results.index]\n",
    "background=pd.DataFrame(index=results.index,columns=['Mean','Sd','Size'])\n",
    "background['Mean']=np.mean(results,1)\n",
    "background['Sd']=np.std(results,1)\n",
    "background['Size']=gdsc"
   ]
  },
  {
   "cell_type": "code",
   "execution_count": 21,
   "metadata": {
    "collapsed": false
   },
   "outputs": [],
   "source": [
    "fnames=os.listdir('../results/benchmark/rocaucs/gdsc/overlap_final/')\n",
    "fnames=[x for x in fnames if 'random' in x]\n",
    "try:\n",
    "    fnames.remove('.DS_Store')\n",
    "except:\n",
    "    pass\n",
    "data={}\n",
    "for fname in fnames:\n",
    "    data[fname[:-4]]=pd.read_csv('../results/benchmark/rocaucs/gdsc/overlap_final/'+fname,sep=',',header=0,index_col=0)\n",
    "for method in data.keys():\n",
    "    for pw in background.index:\n",
    "        data[method].loc[pw,:]=(data[method].loc[pw,:]-0.5)/background.loc[pw,'Sd']\n",
    "for method in data.keys():\n",
    "    data[method].to_csv('../results/benchmark/z_scores/gdsc/overlap/%s.csv' % method, sep=',')"
   ]
  },
  {
   "cell_type": "code",
   "execution_count": 22,
   "metadata": {
    "collapsed": true
   },
   "outputs": [],
   "source": [
    "results=pd.read_csv('../results/benchmark/rocaucs/progeny/random_dist.csv',sep=',',header=0,index_col=0)\n",
    "progeny=pd.read_csv('../results/benchmark/datasets/progeny_meta.csv',\n",
    "                        sep=',',header=0,index_col=0)\n",
    "progeny=progeny['pathway'].value_counts()\n",
    "progeny=progeny[results.index]\n",
    "background=pd.DataFrame(index=results.index,columns=['Mean','Sd','Size'])\n",
    "background['Mean']=np.mean(results,1)\n",
    "background['Sd']=np.std(results,1)\n",
    "background['Size']=progeny"
   ]
  },
  {
   "cell_type": "code",
   "execution_count": 23,
   "metadata": {
    "collapsed": true
   },
   "outputs": [],
   "source": [
    "#normalise ROCAUCS\n",
    "fnames=os.listdir('../results/benchmark/rocaucs/progeny/overlap_final/')\n",
    "fnames=[x for x in fnames if 'random' in x]\n",
    "try:\n",
    "    fnames.remove('.DS_Store')\n",
    "except:\n",
    "    pass\n",
    "data={}\n",
    "for fname in fnames:\n",
    "    data[fname[:-4]]=pd.read_csv('../results/benchmark/rocaucs/progeny/overlap_final//'+fname,sep=',',header=0,index_col=0)\n",
    "for method in data.keys():\n",
    "    for pw in background.index:\n",
    "        data[method].loc[pw,:]=(data[method].loc[pw,:]-0.5)/background.loc[pw,'Sd']\n",
    "for method in data.keys():\n",
    "    data[method].to_csv('../results/benchmark/z_scores/progeny/overlap/%s.csv' % method, sep=',')"
   ]
  },
  {
   "cell_type": "code",
   "execution_count": 59,
   "metadata": {
    "collapsed": true
   },
   "outputs": [],
   "source": [
    "dname1='BEST_dorothea_AB'\n",
    "dname2='BIOCARTA'\n",
    "bname='progeny'\n",
    "atype='_abs'"
   ]
  },
  {
   "cell_type": "code",
   "execution_count": 60,
   "metadata": {
    "collapsed": true
   },
   "outputs": [],
   "source": [
    "good1=pd.read_csv('../results/genesets/good/%s/%s_random%s.csv' % (bname,dname1,atype),\n",
    "                 sep=',',header=0,index_col=0)\n",
    "good2=pd.read_csv('../results/genesets/good/%s/%s_random%s.csv' % (bname,dname2,atype),\n",
    "                 sep=',',header=0,index_col=0)"
   ]
  },
  {
   "cell_type": "code",
   "execution_count": 61,
   "metadata": {
    "collapsed": true
   },
   "outputs": [],
   "source": [
    "pathways=[]\n",
    "good1set=[]\n",
    "good2set=[]"
   ]
  },
  {
   "cell_type": "code",
   "execution_count": 62,
   "metadata": {
    "collapsed": true
   },
   "outputs": [],
   "source": [
    "for s1 in good1.columns:\n",
    "    good_pathways=good1.index[good1[s1]==1]\n",
    "    for pw in good_pathways:\n",
    "        good2.columns[good2.loc[pw]==1]\n",
    "        for pw in good_pathways:\n",
    "            s2=list(good2.columns[good2.loc[pw]==1])\n",
    "            n=len(s2)\n",
    "            pathways+=[pw]*n\n",
    "            good1set+=[s1]*n\n",
    "            good2set+=s2\n",
    "goods=pd.DataFrame(index=range(len(pathways)))\n",
    "goods[dname1]=good1set\n",
    "goods[dname2]=good2set\n",
    "goods['Group']=pathways\n",
    "if dname1<dname2:\n",
    "    goods['Name']=goods[dname1]+'*'+goods[dname2]\n",
    "else:\n",
    "    goods['Name']=goods[dname2]+'*'+goods[dname1]"
   ]
  },
  {
   "cell_type": "code",
   "execution_count": 63,
   "metadata": {
    "collapsed": false
   },
   "outputs": [],
   "source": [
    "if dname1<dname2:\n",
    "    score_overlap=pd.read_csv('../results/benchmark/z_scores/%s/overlap/%s_random_overlap_%s_random%s.csv' % (bname,dname1,dname2,atype),\n",
    "                             sep=',',header=0,index_col=0).abs()\n",
    "else:\n",
    "    score_overlap=pd.read_csv('../results/benchmark/z_scores/%s/overlap/%s_random_overlap_%s_random%s.csv' % (bname,dname2,dname1,atype),\n",
    "                             sep=',',header=0,index_col=0).abs()\n",
    "score_1minus2=pd.read_csv('../results/benchmark/z_scores/%s/overlap/%s_random_minus_%s_random%s.csv' % (bname,dname1,dname2,atype),\n",
    "                             sep=',',header=0,index_col=0).abs()\n",
    "score_2minus1=pd.read_csv('../results/benchmark/z_scores/%s/overlap/%s_random_minus_%s_random%s.csv' % (bname,dname2,dname1,atype),\n",
    "                             sep=',',header=0,index_col=0).abs()\n",
    "score1=pd.read_csv('../results/benchmark/z_scores/%s/single/%s_random%s.csv' % (bname,dname1,atype),\n",
    "                  sep=',',header=0,index_col=0).abs()\n",
    "score2=pd.read_csv('../results/benchmark/z_scores/%s/single/%s_random%s.csv' % (bname,dname2,atype),\n",
    "                  sep=',',header=0,index_col=0).abs()"
   ]
  },
  {
   "cell_type": "code",
   "execution_count": 64,
   "metadata": {
    "collapsed": true
   },
   "outputs": [],
   "source": [
    "all_sets=list(set(score_overlap.columns)&set(score_1minus2.columns)&set(score_2minus1.columns)&set(goods['Name']))"
   ]
  },
  {
   "cell_type": "code",
   "execution_count": 65,
   "metadata": {
    "collapsed": false
   },
   "outputs": [],
   "source": [
    "score_overlap=score_overlap[all_sets]\n",
    "score_1minus2=score_1minus2[all_sets]\n",
    "score_2minus1=score_2minus1[all_sets]\n",
    "fil=np.in1d(goods['Name'],all_sets)\n",
    "goods=goods[fil]"
   ]
  },
  {
   "cell_type": "code",
   "execution_count": 66,
   "metadata": {
    "collapsed": false
   },
   "outputs": [],
   "source": [
    "geneset1=pd.read_csv('../results/genesets/single/csvs/%s_random.csv' % dname1,sep=',',header=0,index_col=0)\n",
    "geneset2=pd.read_csv('../results/genesets/single/csvs/%s_random.csv' % dname2,sep=',',header=0,index_col=0)\n",
    "if dname1 < dname2:\n",
    "    geneset_overlap=pd.read_csv('../results/genesets/overlap/csvs_final/%s_random_overlap_%s_random.csv' % (dname1,dname2),\n",
    "                               sep=',',header=0,index_col=0)\n",
    "else:\n",
    "    geneset_overlap=pd.read_csv('../results/genesets/overlap/csvs_final/%s_random_overlap_%s_random.csv' % (dname2,dname1),\n",
    "                               sep=',',header=0,index_col=0)\n",
    "geneset_1minus2=pd.read_csv('../results/genesets/overlap/csvs_final/%s_random_minus_%s_random.csv' % (dname1,dname2),\n",
    "                            sep=',',header=0,index_col=0)\n",
    "geneset_2minus1=pd.read_csv('../results/genesets/overlap/csvs_final/%s_random_minus_%s_random.csv' % (dname2,dname1),\n",
    "                            sep=',',header=0,index_col=0)"
   ]
  },
  {
   "cell_type": "code",
   "execution_count": 67,
   "metadata": {
    "collapsed": false
   },
   "outputs": [],
   "source": [
    "geneset1=geneset1['Set'].value_counts()\n",
    "geneset2=geneset2['Set'].value_counts()\n",
    "geneset_overlap=geneset_overlap['Set'].value_counts()\n",
    "geneset_1minus2=geneset_1minus2['Set'].value_counts()\n",
    "geneset_2minus1=geneset_2minus1['Set'].value_counts()"
   ]
  },
  {
   "cell_type": "code",
   "execution_count": 68,
   "metadata": {
    "collapsed": true
   },
   "outputs": [],
   "source": [
    "geneset1=geneset1[goods[dname1]].values\n",
    "geneset2=geneset2[goods[dname2]].values\n",
    "geneset_overlap=geneset_overlap[goods['Name']].values\n",
    "geneset_1minus2=geneset_1minus2[goods['Name']].values\n",
    "geneset_2minus1=geneset_2minus1[goods['Name']].values"
   ]
  },
  {
   "cell_type": "code",
   "execution_count": 69,
   "metadata": {
    "collapsed": true
   },
   "outputs": [],
   "source": [
    "results_genesets=pd.DataFrame(index=range(len(geneset_overlap)))\n",
    "results_genesets[dname1]=geneset1\n",
    "results_genesets[dname2]=geneset2\n",
    "results_genesets[dname1+' & '+dname2]=geneset_overlap\n",
    "results_genesets[dname1+' - '+dname2]=geneset_1minus2\n",
    "results_genesets[dname2+' - '+dname1]=geneset_2minus1"
   ]
  },
  {
   "cell_type": "code",
   "execution_count": 70,
   "metadata": {
    "collapsed": true
   },
   "outputs": [],
   "source": [
    "row_index=pd.Series(range(len(score_overlap.index)),index=score_overlap.index)\n",
    "col_index=pd.Series(range(len(score_overlap.columns)),index=score_overlap.columns)\n",
    "score_overlap=score_overlap.values[list(row_index[goods['Group']].values),list(col_index[goods['Name']].values)]\n",
    "\n",
    "row_index=pd.Series(range(len(score_1minus2.index)),index=score_1minus2.index)\n",
    "col_index=pd.Series(range(len(score_1minus2.columns)),index=score_1minus2.columns)\n",
    "score_1minus2=score_1minus2.values[list(row_index[goods['Group']].values),list(col_index[goods['Name']].values)]\n",
    "\n",
    "row_index=pd.Series(range(len(score_2minus1.index)),index=score_2minus1.index)\n",
    "col_index=pd.Series(range(len(score_2minus1.columns)),index=score_2minus1.columns)\n",
    "score_2minus1=score_2minus1.values[list(row_index[goods['Group']].values),list(col_index[goods['Name']].values)]\n",
    "\n",
    "row_index=pd.Series(range(len(score1.index)),index=score1.index)\n",
    "col_index=pd.Series(range(len(score1.columns)),index=score1.columns)\n",
    "score1=score1.values[list(row_index[goods['Group']].values),list(col_index[goods[dname1]].values)]\n",
    "\n",
    "row_index=pd.Series(range(len(score2.index)),index=score2.index)\n",
    "col_index=pd.Series(range(len(score2.columns)),index=score2.columns)\n",
    "score2=score2.values[list(row_index[goods['Group']].values),list(col_index[goods[dname2]].values)]"
   ]
  },
  {
   "cell_type": "code",
   "execution_count": 71,
   "metadata": {
    "collapsed": true
   },
   "outputs": [],
   "source": [
    "results=pd.DataFrame(index=range(len(score_overlap)))\n",
    "results[dname1]=score1\n",
    "results[dname2]=score2\n",
    "results[dname1+' & '+dname2]=score_overlap\n",
    "results[dname1+' - '+dname2]=score_1minus2\n",
    "results[dname2+' - '+dname1]=score_2minus1"
   ]
  },
  {
   "cell_type": "code",
   "execution_count": 72,
   "metadata": {
    "collapsed": false
   },
   "outputs": [],
   "source": [
    "results=pd.melt(results)\n",
    "results_genesets=pd.melt(results_genesets)"
   ]
  },
  {
   "cell_type": "code",
   "execution_count": 73,
   "metadata": {
    "collapsed": false
   },
   "outputs": [
    {
     "data": {
      "text/html": [
       "<div>\n",
       "<style scoped>\n",
       "    .dataframe tbody tr th:only-of-type {\n",
       "        vertical-align: middle;\n",
       "    }\n",
       "\n",
       "    .dataframe tbody tr th {\n",
       "        vertical-align: top;\n",
       "    }\n",
       "\n",
       "    .dataframe thead th {\n",
       "        text-align: right;\n",
       "    }\n",
       "</style>\n",
       "<table border=\"1\" class=\"dataframe\">\n",
       "  <thead>\n",
       "    <tr style=\"text-align: right;\">\n",
       "      <th></th>\n",
       "      <th>variable</th>\n",
       "      <th>value</th>\n",
       "    </tr>\n",
       "  </thead>\n",
       "  <tbody>\n",
       "    <tr>\n",
       "      <th>0</th>\n",
       "      <td>BEST_dorothea_AB</td>\n",
       "      <td>4.889411</td>\n",
       "    </tr>\n",
       "    <tr>\n",
       "      <th>1</th>\n",
       "      <td>BEST_dorothea_AB</td>\n",
       "      <td>4.792050</td>\n",
       "    </tr>\n",
       "    <tr>\n",
       "      <th>2</th>\n",
       "      <td>BEST_dorothea_AB</td>\n",
       "      <td>4.792050</td>\n",
       "    </tr>\n",
       "    <tr>\n",
       "      <th>3</th>\n",
       "      <td>BEST_dorothea_AB</td>\n",
       "      <td>4.745988</td>\n",
       "    </tr>\n",
       "    <tr>\n",
       "      <th>4</th>\n",
       "      <td>BEST_dorothea_AB</td>\n",
       "      <td>5.841409</td>\n",
       "    </tr>\n",
       "    <tr>\n",
       "      <th>5</th>\n",
       "      <td>BEST_dorothea_AB</td>\n",
       "      <td>5.044131</td>\n",
       "    </tr>\n",
       "    <tr>\n",
       "      <th>6</th>\n",
       "      <td>BEST_dorothea_AB</td>\n",
       "      <td>4.955211</td>\n",
       "    </tr>\n",
       "    <tr>\n",
       "      <th>7</th>\n",
       "      <td>BEST_dorothea_AB</td>\n",
       "      <td>5.044131</td>\n",
       "    </tr>\n",
       "    <tr>\n",
       "      <th>8</th>\n",
       "      <td>BEST_dorothea_AB</td>\n",
       "      <td>4.955211</td>\n",
       "    </tr>\n",
       "    <tr>\n",
       "      <th>9</th>\n",
       "      <td>BIOCARTA</td>\n",
       "      <td>4.987437</td>\n",
       "    </tr>\n",
       "    <tr>\n",
       "      <th>10</th>\n",
       "      <td>BIOCARTA</td>\n",
       "      <td>7.830420</td>\n",
       "    </tr>\n",
       "    <tr>\n",
       "      <th>11</th>\n",
       "      <td>BIOCARTA</td>\n",
       "      <td>7.830420</td>\n",
       "    </tr>\n",
       "    <tr>\n",
       "      <th>12</th>\n",
       "      <td>BIOCARTA</td>\n",
       "      <td>5.238425</td>\n",
       "    </tr>\n",
       "    <tr>\n",
       "      <th>13</th>\n",
       "      <td>BIOCARTA</td>\n",
       "      <td>6.618980</td>\n",
       "    </tr>\n",
       "    <tr>\n",
       "      <th>14</th>\n",
       "      <td>BIOCARTA</td>\n",
       "      <td>4.813824</td>\n",
       "    </tr>\n",
       "    <tr>\n",
       "      <th>15</th>\n",
       "      <td>BIOCARTA</td>\n",
       "      <td>4.911211</td>\n",
       "    </tr>\n",
       "    <tr>\n",
       "      <th>16</th>\n",
       "      <td>BIOCARTA</td>\n",
       "      <td>4.813824</td>\n",
       "    </tr>\n",
       "    <tr>\n",
       "      <th>17</th>\n",
       "      <td>BIOCARTA</td>\n",
       "      <td>4.911211</td>\n",
       "    </tr>\n",
       "    <tr>\n",
       "      <th>18</th>\n",
       "      <td>BEST_dorothea_AB &amp; BIOCARTA</td>\n",
       "      <td>2.793749</td>\n",
       "    </tr>\n",
       "    <tr>\n",
       "      <th>19</th>\n",
       "      <td>BEST_dorothea_AB &amp; BIOCARTA</td>\n",
       "      <td>6.938506</td>\n",
       "    </tr>\n",
       "    <tr>\n",
       "      <th>20</th>\n",
       "      <td>BEST_dorothea_AB &amp; BIOCARTA</td>\n",
       "      <td>6.938506</td>\n",
       "    </tr>\n",
       "    <tr>\n",
       "      <th>21</th>\n",
       "      <td>BEST_dorothea_AB &amp; BIOCARTA</td>\n",
       "      <td>0.837478</td>\n",
       "    </tr>\n",
       "    <tr>\n",
       "      <th>22</th>\n",
       "      <td>BEST_dorothea_AB &amp; BIOCARTA</td>\n",
       "      <td>6.511729</td>\n",
       "    </tr>\n",
       "    <tr>\n",
       "      <th>23</th>\n",
       "      <td>BEST_dorothea_AB &amp; BIOCARTA</td>\n",
       "      <td>7.292759</td>\n",
       "    </tr>\n",
       "    <tr>\n",
       "      <th>24</th>\n",
       "      <td>BEST_dorothea_AB &amp; BIOCARTA</td>\n",
       "      <td>3.366381</td>\n",
       "    </tr>\n",
       "    <tr>\n",
       "      <th>25</th>\n",
       "      <td>BEST_dorothea_AB &amp; BIOCARTA</td>\n",
       "      <td>7.292759</td>\n",
       "    </tr>\n",
       "    <tr>\n",
       "      <th>26</th>\n",
       "      <td>BEST_dorothea_AB &amp; BIOCARTA</td>\n",
       "      <td>3.366381</td>\n",
       "    </tr>\n",
       "    <tr>\n",
       "      <th>27</th>\n",
       "      <td>BEST_dorothea_AB - BIOCARTA</td>\n",
       "      <td>4.621239</td>\n",
       "    </tr>\n",
       "    <tr>\n",
       "      <th>28</th>\n",
       "      <td>BEST_dorothea_AB - BIOCARTA</td>\n",
       "      <td>3.900973</td>\n",
       "    </tr>\n",
       "    <tr>\n",
       "      <th>29</th>\n",
       "      <td>BEST_dorothea_AB - BIOCARTA</td>\n",
       "      <td>3.900973</td>\n",
       "    </tr>\n",
       "    <tr>\n",
       "      <th>30</th>\n",
       "      <td>BEST_dorothea_AB - BIOCARTA</td>\n",
       "      <td>4.767763</td>\n",
       "    </tr>\n",
       "    <tr>\n",
       "      <th>31</th>\n",
       "      <td>BEST_dorothea_AB - BIOCARTA</td>\n",
       "      <td>4.864460</td>\n",
       "    </tr>\n",
       "    <tr>\n",
       "      <th>32</th>\n",
       "      <td>BEST_dorothea_AB - BIOCARTA</td>\n",
       "      <td>3.415236</td>\n",
       "    </tr>\n",
       "    <tr>\n",
       "      <th>33</th>\n",
       "      <td>BEST_dorothea_AB - BIOCARTA</td>\n",
       "      <td>4.456768</td>\n",
       "    </tr>\n",
       "    <tr>\n",
       "      <th>34</th>\n",
       "      <td>BEST_dorothea_AB - BIOCARTA</td>\n",
       "      <td>3.415236</td>\n",
       "    </tr>\n",
       "    <tr>\n",
       "      <th>35</th>\n",
       "      <td>BEST_dorothea_AB - BIOCARTA</td>\n",
       "      <td>4.456768</td>\n",
       "    </tr>\n",
       "    <tr>\n",
       "      <th>36</th>\n",
       "      <td>BIOCARTA - BEST_dorothea_AB</td>\n",
       "      <td>4.491004</td>\n",
       "    </tr>\n",
       "    <tr>\n",
       "      <th>37</th>\n",
       "      <td>BIOCARTA - BEST_dorothea_AB</td>\n",
       "      <td>6.624452</td>\n",
       "    </tr>\n",
       "    <tr>\n",
       "      <th>38</th>\n",
       "      <td>BIOCARTA - BEST_dorothea_AB</td>\n",
       "      <td>6.624452</td>\n",
       "    </tr>\n",
       "    <tr>\n",
       "      <th>39</th>\n",
       "      <td>BIOCARTA - BEST_dorothea_AB</td>\n",
       "      <td>5.384147</td>\n",
       "    </tr>\n",
       "    <tr>\n",
       "      <th>40</th>\n",
       "      <td>BIOCARTA - BEST_dorothea_AB</td>\n",
       "      <td>4.870648</td>\n",
       "    </tr>\n",
       "    <tr>\n",
       "      <th>41</th>\n",
       "      <td>BIOCARTA - BEST_dorothea_AB</td>\n",
       "      <td>1.256217</td>\n",
       "    </tr>\n",
       "    <tr>\n",
       "      <th>42</th>\n",
       "      <td>BIOCARTA - BEST_dorothea_AB</td>\n",
       "      <td>3.690197</td>\n",
       "    </tr>\n",
       "    <tr>\n",
       "      <th>43</th>\n",
       "      <td>BIOCARTA - BEST_dorothea_AB</td>\n",
       "      <td>1.256217</td>\n",
       "    </tr>\n",
       "    <tr>\n",
       "      <th>44</th>\n",
       "      <td>BIOCARTA - BEST_dorothea_AB</td>\n",
       "      <td>3.690197</td>\n",
       "    </tr>\n",
       "  </tbody>\n",
       "</table>\n",
       "</div>"
      ],
      "text/plain": [
       "                       variable     value\n",
       "0              BEST_dorothea_AB  4.889411\n",
       "1              BEST_dorothea_AB  4.792050\n",
       "2              BEST_dorothea_AB  4.792050\n",
       "3              BEST_dorothea_AB  4.745988\n",
       "4              BEST_dorothea_AB  5.841409\n",
       "5              BEST_dorothea_AB  5.044131\n",
       "6              BEST_dorothea_AB  4.955211\n",
       "7              BEST_dorothea_AB  5.044131\n",
       "8              BEST_dorothea_AB  4.955211\n",
       "9                      BIOCARTA  4.987437\n",
       "10                     BIOCARTA  7.830420\n",
       "11                     BIOCARTA  7.830420\n",
       "12                     BIOCARTA  5.238425\n",
       "13                     BIOCARTA  6.618980\n",
       "14                     BIOCARTA  4.813824\n",
       "15                     BIOCARTA  4.911211\n",
       "16                     BIOCARTA  4.813824\n",
       "17                     BIOCARTA  4.911211\n",
       "18  BEST_dorothea_AB & BIOCARTA  2.793749\n",
       "19  BEST_dorothea_AB & BIOCARTA  6.938506\n",
       "20  BEST_dorothea_AB & BIOCARTA  6.938506\n",
       "21  BEST_dorothea_AB & BIOCARTA  0.837478\n",
       "22  BEST_dorothea_AB & BIOCARTA  6.511729\n",
       "23  BEST_dorothea_AB & BIOCARTA  7.292759\n",
       "24  BEST_dorothea_AB & BIOCARTA  3.366381\n",
       "25  BEST_dorothea_AB & BIOCARTA  7.292759\n",
       "26  BEST_dorothea_AB & BIOCARTA  3.366381\n",
       "27  BEST_dorothea_AB - BIOCARTA  4.621239\n",
       "28  BEST_dorothea_AB - BIOCARTA  3.900973\n",
       "29  BEST_dorothea_AB - BIOCARTA  3.900973\n",
       "30  BEST_dorothea_AB - BIOCARTA  4.767763\n",
       "31  BEST_dorothea_AB - BIOCARTA  4.864460\n",
       "32  BEST_dorothea_AB - BIOCARTA  3.415236\n",
       "33  BEST_dorothea_AB - BIOCARTA  4.456768\n",
       "34  BEST_dorothea_AB - BIOCARTA  3.415236\n",
       "35  BEST_dorothea_AB - BIOCARTA  4.456768\n",
       "36  BIOCARTA - BEST_dorothea_AB  4.491004\n",
       "37  BIOCARTA - BEST_dorothea_AB  6.624452\n",
       "38  BIOCARTA - BEST_dorothea_AB  6.624452\n",
       "39  BIOCARTA - BEST_dorothea_AB  5.384147\n",
       "40  BIOCARTA - BEST_dorothea_AB  4.870648\n",
       "41  BIOCARTA - BEST_dorothea_AB  1.256217\n",
       "42  BIOCARTA - BEST_dorothea_AB  3.690197\n",
       "43  BIOCARTA - BEST_dorothea_AB  1.256217\n",
       "44  BIOCARTA - BEST_dorothea_AB  3.690197"
      ]
     },
     "execution_count": 73,
     "metadata": {},
     "output_type": "execute_result"
    }
   ],
   "source": [
    "results"
   ]
  },
  {
   "cell_type": "code",
   "execution_count": 75,
   "metadata": {
    "collapsed": false
   },
   "outputs": [
    {
     "name": "stderr",
     "output_type": "stream",
     "text": [
      "/Users/benceszalai/Library/Enthought/Canopy/edm/envs/Python3/lib/python3.5/site-packages/scipy/stats/stats.py:1706: FutureWarning: Using a non-tuple sequence for multidimensional indexing is deprecated; use `arr[tuple(seq)]` instead of `arr[seq]`. In the future this will be interpreted as an array index, `arr[np.array(seq)]`, which will result either in an error or a different result.\n",
      "  return np.add.reduce(sorted[indexer] * weights, axis=axis) / sumval\n"
     ]
    },
    {
     "data": {
      "text/plain": [
       "<matplotlib.axes._subplots.AxesSubplot at 0x1132cbc18>"
      ]
     },
     "execution_count": 75,
     "metadata": {},
     "output_type": "execute_result"
    },
    {
     "data": {
      "image/png": "[encoded data removed]",
      "text/plain": [
       "<matplotlib.figure.Figure at 0x122621208>"
      ]
     },
     "metadata": {},
     "output_type": "display_data"
    }
   ],
   "source": [
    "sns.violinplot(x='variable',y='value',data=results_genesets)"
   ]
  },
  {
   "cell_type": "code",
   "execution_count": null,
   "metadata": {
    "collapsed": true
   },
   "outputs": [],
   "source": []
  },
  {
   "cell_type": "code",
   "execution_count": null,
   "metadata": {
    "collapsed": true
   },
   "outputs": [],
   "source": []
  }
 ],
 "metadata": {
  "kernelspec": {
   "display_name": "Python 3",
   "language": "python",
   "name": "python3"
  },
  "language_info": {
   "codemirror_mode": {
    "name": "ipython",
    "version": 3
   },
   "file_extension": ".py",
   "mimetype": "text/x-python",
   "name": "python",
   "nbconvert_exporter": "python",
   "pygments_lexer": "ipython3",
   "version": "3.5.2"
  }
 },
 "nbformat": 4,
 "nbformat_minor": 2
}
