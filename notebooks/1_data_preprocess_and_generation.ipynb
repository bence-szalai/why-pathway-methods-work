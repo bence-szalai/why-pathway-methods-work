{
 "cells": [
  {
   "cell_type": "markdown",
   "metadata": {},
   "source": [
    "## Analysis pipline for *Why pathway methods work?* project"
   ]
  },
  {
   "cell_type": "markdown",
   "metadata": {},
   "source": [
    "### Preprocess gene sets"
   ]
  },
  {
   "cell_type": "code",
   "execution_count": 1,
   "metadata": {},
   "outputs": [],
   "source": [
    "from subprocess import call\n",
    "import os\n",
    "import sys\n",
    "import pickle as pckl\n",
    "\n",
    "sys.path.append('../code/')"
   ]
  },
  {
   "cell_type": "code",
   "execution_count": 2,
   "metadata": {},
   "outputs": [],
   "source": [
    "import numpy as np\n",
    "import pandas as pd"
   ]
  },
  {
   "cell_type": "markdown",
   "metadata": {},
   "source": [
    "At first we create pickled Pyhton dict-s from the original (R based) DoRothEA and msigdb gene sets."
   ]
  },
  {
   "cell_type": "code",
   "execution_count": 3,
   "metadata": {},
   "outputs": [
    {
     "data": {
      "text/plain": [
       "0"
      ]
     },
     "execution_count": 3,
     "metadata": {},
     "output_type": "execute_result"
    }
   ],
   "source": [
    "#getting csv regulons from DoRothEA\n",
    "call(['Rscript','../code/get_regulon_from_rdata.R'])"
   ]
  },
  {
   "cell_type": "code",
   "execution_count": 4,
   "metadata": {},
   "outputs": [
    {
     "data": {
      "text/plain": [
       "0"
      ]
     },
     "execution_count": 4,
     "metadata": {},
     "output_type": "execute_result"
    }
   ],
   "source": [
    "#getting csv gene sets from msigdb\n",
    "call(['Rscript','../code/get_msigdb_genesets.R'])"
   ]
  },
  {
   "cell_type": "code",
   "execution_count": 5,
   "metadata": {},
   "outputs": [],
   "source": [
    "import make_genesets"
   ]
  },
  {
   "cell_type": "code",
   "execution_count": 6,
   "metadata": {},
   "outputs": [],
   "source": [
    "#prepocess dorothea regulons\n",
    "for confidence in ['A','B','C','D','E','BEST']:\n",
    "    make_genesets.make_gene_dict_dorothea(confidence)"
   ]
  },
  {
   "cell_type": "code",
   "execution_count": 7,
   "metadata": {},
   "outputs": [],
   "source": [
    "#multi level gene sets for dorothea\n",
    "make_genesets.make_multi_level_dorothea()"
   ]
  },
  {
   "cell_type": "code",
   "execution_count": 8,
   "metadata": {},
   "outputs": [],
   "source": [
    "#confidence levels for BEST dorothea\n",
    "make_genesets.make_different_level_BEST_dorothea()"
   ]
  },
  {
   "cell_type": "code",
   "execution_count": 9,
   "metadata": {},
   "outputs": [],
   "source": [
    "#make multi level dorothea BEST, that is what we will use\n",
    "make_genesets.make_multi_level_dorothea_BEST()"
   ]
  },
  {
   "cell_type": "code",
   "execution_count": 10,
   "metadata": {},
   "outputs": [],
   "source": [
    "#prepocess msigdb regulons\n",
    "for setname in ['BIOCARTA','CGP','KEGG','REACTOME']:\n",
    "    make_genesets.make_gene_dict_msigdb(setname)"
   ]
  },
  {
   "cell_type": "markdown",
   "metadata": {},
   "source": [
    "As the size of the different gene sets has a wide distribution, we will concentrate in this work only on gene sets with <=250 genes."
   ]
  },
  {
   "cell_type": "code",
   "execution_count": 11,
   "metadata": {},
   "outputs": [],
   "source": [
    "#use only <=250 gene sets\n",
    "for dname in ['BEST_dorothea_AB','BEST_dorothea_CD','KEGG','BIOCARTA','REACTOME','CGP']:\n",
    "    data=pd.read_csv('../results/genesets/single/csvs/%s.csv' %dname,sep=',',header=0,index_col=0)\n",
    "    fil=data['Set'].value_counts()<=250\n",
    "    sets=data['Set'].value_counts().index[fil]\n",
    "    fil=np.in1d(data['Set'],sets)\n",
    "    data=data[fil]\n",
    "    data.to_csv('../results/genesets/single/csvs/%s_filtered.csv' % dname,sep=',')"
   ]
  },
  {
   "cell_type": "markdown",
   "metadata": {},
   "source": [
    "We will also use random gene sets as background distribution. We will use 5 x 200 random gene sets, generated based on our original gene sets (DoRothEA, KEGG etc.). We use two randomization startegy:\n",
    "\n",
    "* random genes samped uniformly from the genes of the original gene set database, gene set sizes are sampled from the original gene set database\n",
    "* genes are sampled with the probablity corresponding in the original gene set database, gene set sizes are sampled from the original gene set database"
   ]
  },
  {
   "cell_type": "code",
   "execution_count": 14,
   "metadata": {},
   "outputs": [],
   "source": [
    "#strategy 1\n",
    "#make random gene sets\n",
    "np.random.seed(527)\n",
    "for dname in ['BEST_dorothea_AB','BEST_dorothea_CD','KEGG','BIOCARTA','REACTOME','CGP']:\n",
    "    data=pd.read_csv('../results/genesets/single/csvs/%s_filtered.csv' %dname,sep=',',header=0,index_col=0)\n",
    "    sizes=data['Set'].value_counts().values\n",
    "    genes=list(set(data['Gene']))\n",
    "    for i in range(3):\n",
    "        random_set=pd.DataFrame(columns=['Set','Gene'])\n",
    "        for j in range(len(data['Set'].unique())):\n",
    "            l=np.random.choice(sizes,1)[0]\n",
    "            random_subset=pd.DataFrame(index=range(l),columns=['Set','Gene'])\n",
    "            random_subset['Set']='Random_%s_uniform_%i' % (dname,j)\n",
    "            random_subset['Gene']=np.random.choice(genes,l,False)\n",
    "            random_set=pd.concat([random_set,random_subset])\n",
    "            random_set.index=range(len(random_set))\n",
    "        random_set.to_csv('../results/genesets/single/csvs/%s_random_uniform_%i.csv' % (dname,i),sep=',')"
   ]
  },
  {
   "cell_type": "code",
   "execution_count": 15,
   "metadata": {},
   "outputs": [],
   "source": [
    "#strategy 2\n",
    "#make random gene sets\n",
    "np.random.seed(527)\n",
    "for dname in ['BEST_dorothea_AB','BEST_dorothea_CD','KEGG','BIOCARTA','REACTOME','CGP']:\n",
    "    data=pd.read_csv('../results/genesets/single/csvs/%s_filtered.csv' %dname,sep=',',header=0,index_col=0)\n",
    "    sizes=data['Set'].value_counts().values\n",
    "    genes=data['Gene'].value_counts()\n",
    "    genes=genes/genes.sum()\n",
    "    for i in range(3):\n",
    "        random_set=pd.DataFrame(columns=['Set','Gene'])\n",
    "        for j in range(len(data['Set'].unique())):\n",
    "            l=np.random.choice(sizes,1)[0]\n",
    "            random_subset=pd.DataFrame(index=range(l),columns=['Set','Gene'])\n",
    "            random_subset['Set']='Random_%s_dist_%i' % (dname,j)\n",
    "            random_subset['Gene']=np.random.choice(genes.index,l,False,p=genes.values)\n",
    "            random_set=pd.concat([random_set,random_subset])\n",
    "            random_set.index=range(len(random_set))\n",
    "        random_set.to_csv('../results/genesets/single/csvs/%s_random_dist_%i.csv' % (dname,i),sep=',')"
   ]
  },
  {
   "cell_type": "markdown",
   "metadata": {},
   "source": [
    "Calculate gene set similarity"
   ]
  },
  {
   "cell_type": "code",
   "execution_count": 16,
   "metadata": {},
   "outputs": [],
   "source": [
    "import geneset_similarity"
   ]
  },
  {
   "cell_type": "code",
   "execution_count": 17,
   "metadata": {},
   "outputs": [
    {
     "name": "stdout",
     "output_type": "stream",
     "text": [
      "BEST_dorothea_AB\n"
     ]
    },
    {
     "name": "stderr",
     "output_type": "stream",
     "text": [
      "../code/geneset_similarity.py:20: FutureWarning: \n",
      "Passing list-likes to .loc or [] with any missing label will raise\n",
      "KeyError in the future, you can use .reindex() as an alternative.\n",
      "\n",
      "See the documentation here:\n",
      "https://pandas.pydata.org/pandas-docs/stable/indexing.html#deprecate-loc-reindex-listlike\n",
      "  data1=data1.loc[all_genes]\n",
      "../code/geneset_similarity.py:21: FutureWarning: \n",
      "Passing list-likes to .loc or [] with any missing label will raise\n",
      "KeyError in the future, you can use .reindex() as an alternative.\n",
      "\n",
      "See the documentation here:\n",
      "https://pandas.pydata.org/pandas-docs/stable/indexing.html#deprecate-loc-reindex-listlike\n",
      "  data2=data2.loc[all_genes]\n"
     ]
    },
    {
     "name": "stdout",
     "output_type": "stream",
     "text": [
      "BEST_dorothea_CD\n",
      "KEGG\n",
      "BIOCARTA\n",
      "REACTOME\n",
      "CGP\n"
     ]
    }
   ],
   "source": [
    "setnames1=['BEST_dorothea_AB','BEST_dorothea_CD','KEGG','BIOCARTA','REACTOME','CGP']\n",
    "setnames2=['BEST_dorothea_AB','BEST_dorothea_CD','KEGG','BIOCARTA','REACTOME','CGP']\n",
    "for setname1 in setnames1:\n",
    "    print(setname1)\n",
    "    for setname2 in setnames2:\n",
    "        if setname1<setname2:\n",
    "            geneset_similarity.get_composational_similarity(setname1+'_filtered',setname2+'_filtered')\n",
    "            for i in range(3):\n",
    "                geneset_similarity.get_composational_similarity(setname1+'_random_uniform_%i' % i,\n",
    "                                                               setname2+'_random_uniform_%i' % i)\n",
    "                geneset_similarity.get_composational_similarity(setname1+'_random_dist_%i' % i,\n",
    "                                                               setname2+'_random_dist_%i' % i)"
   ]
  },
  {
   "cell_type": "markdown",
   "metadata": {},
   "source": [
    "We will create also overlap and set difference gene sets."
   ]
  },
  {
   "cell_type": "code",
   "execution_count": 19,
   "metadata": {},
   "outputs": [],
   "source": [
    "datasets=['BEST_dorothea_AB','BEST_dorothea_CD','CGP','KEGG','BIOCARTA','REACTOME']\n",
    "for dataset in datasets:\n",
    "    make_genesets.make_pickle_from_genese(dataset+'_filtered')\n",
    "    for i in range(3):\n",
    "        make_genesets.make_pickle_from_genese(dataset+'_random_uniform_%i' % i)\n",
    "        make_genesets.make_pickle_from_genese(dataset+'_random_dist_%i' % i)"
   ]
  },
  {
   "cell_type": "code",
   "execution_count": 20,
   "metadata": {},
   "outputs": [],
   "source": [
    "datasets=['BEST_dorothea_AB','BEST_dorothea_CD','CGP','KEGG','BIOCARTA','REACTOME']\n",
    "for dataset1 in datasets:\n",
    "    for dataset2 in datasets:\n",
    "        if dataset1<dataset2:\n",
    "            make_genesets.make_overlap_gene_sets(dataset1+'_filtered',dataset2+'_filtered')\n",
    "            for i in range(3):\n",
    "                make_genesets.make_overlap_gene_sets(dataset1+'_random_uniform_%i' % i,\n",
    "                                                               dataset2+'_random_uniform_%i' % i)\n",
    "                make_genesets.make_overlap_gene_sets(dataset1+'_random_dist_%i' % i,\n",
    "                                                               dataset2+'_random_dist_%i' % i)"
   ]
  },
  {
   "cell_type": "markdown",
   "metadata": {},
   "source": [
    "And we create RData files (for viper) from all gene sets."
   ]
  },
  {
   "cell_type": "code",
   "execution_count": 21,
   "metadata": {},
   "outputs": [
    {
     "data": {
      "text/plain": [
       "0"
      ]
     },
     "execution_count": 21,
     "metadata": {},
     "output_type": "execute_result"
    }
   ],
   "source": [
    "#make rdata file from the gene sets for viper\n",
    "call(['Rscript','../code/make_viper_regulon.R'])"
   ]
  },
  {
   "cell_type": "markdown",
   "metadata": {},
   "source": [
    "### Preprocess benchamrking datasets\n",
    "Now as we are having our gene sets (and gene set similarities) ready, we need the benchmarking datasets. For benchmarking we will use 2 datasets:\n",
    "* perturbation gene expression profiles form PROGENy\n",
    "* mutation associated signatures from the GDSC study\n",
    "\n",
    "PROGENy data preprocess:"
   ]
  },
  {
   "cell_type": "code",
   "execution_count": 7,
   "metadata": {},
   "outputs": [],
   "source": [
    "import pandas as pd\n",
    "import numpy as np\n",
    "import seaborn as sns\n",
    "from matplotlib import pyplot as plt\n",
    "%matplotlib inline"
   ]
  },
  {
   "cell_type": "code",
   "execution_count": 4,
   "metadata": {},
   "outputs": [],
   "source": [
    "#PROGENY prepocess\n",
    "zscores=pd.read_csv('../data/progeny/zscores_14PW_PROGENy.csv',sep=',',header=0,index_col=0)\n",
    "indexes=pd.read_csv('../data/progeny/index_14PW_PROGENy.csv',sep=',',header=0,index_col=0)\n",
    "indexes.index=indexes['id']\n",
    "del indexes['id']"
   ]
  },
  {
   "cell_type": "code",
   "execution_count": 5,
   "metadata": {},
   "outputs": [
    {
     "data": {
      "text/plain": [
       "6684"
      ]
     },
     "execution_count": 5,
     "metadata": {},
     "output_type": "execute_result"
    }
   ],
   "source": [
    "np.sum(zscores.isna().sum(1)==0)"
   ]
  },
  {
   "cell_type": "code",
   "execution_count": 6,
   "metadata": {},
   "outputs": [
    {
     "data": {
      "text/plain": [
       "<matplotlib.text.Text at 0x1202d7fd0>"
      ]
     },
     "execution_count": 6,
     "metadata": {},
     "output_type": "execute_result"
    },
    {
     "data": {
      "image/png": "[encoded data removed]",
      "text/plain": [
       "<matplotlib.figure.Figure at 0x10af3dcc0>"
      ]
     },
     "metadata": {},
     "output_type": "display_data"
    }
   ],
   "source": [
    "#removing NAs\n",
    "sns.distplot(zscores.isna().sum(1),norm_hist=False,kde=False,bins=100)\n",
    "plt.xlabel('Missing in experiments')\n",
    "plt.ylabel('Number of genes')"
   ]
  },
  {
   "cell_type": "code",
   "execution_count": 7,
   "metadata": {},
   "outputs": [],
   "source": [
    "#we keep only genes with 0 missing values\n",
    "fil=zscores.isna().sum(1)==0\n",
    "zscores=zscores[fil]"
   ]
  },
  {
   "cell_type": "code",
   "execution_count": 10,
   "metadata": {},
   "outputs": [],
   "source": [
    "#WNT3 is mislabelled, it is WNT correctly\n",
    "fil=indexes['pathway']=='WNT3'\n",
    "indexes.loc[indexes.index[fil],'pathway']='WNT'"
   ]
  },
  {
   "cell_type": "code",
   "execution_count": 11,
   "metadata": {},
   "outputs": [],
   "source": [
    "assert np.sum(indexes.index!=zscores.columns)==0"
   ]
  },
  {
   "cell_type": "code",
   "execution_count": 12,
   "metadata": {},
   "outputs": [],
   "source": [
    "#multiply gene expressions with the sign of perturbation\n",
    "zscores=zscores*indexes['sign']"
   ]
  },
  {
   "cell_type": "code",
   "execution_count": 13,
   "metadata": {},
   "outputs": [],
   "source": [
    "zscores.to_csv('../results/benchmark/datasets/progeny_data.csv',sep=',')\n",
    "pd.DataFrame(indexes['pathway']).to_csv('../results/benchmark/datasets/progeny_meta.csv',sep=',')"
   ]
  },
  {
   "cell_type": "markdown",
   "metadata": {},
   "source": [
    "GDSC data preprocess\n",
    "\n",
    "We normalise gene expression tissue-wise, to remove potential tissue specific effects."
   ]
  },
  {
   "cell_type": "code",
   "execution_count": 17,
   "metadata": {},
   "outputs": [],
   "source": [
    "from statsmodels.nonparametric.smoothers_lowess import lowess"
   ]
  },
  {
   "cell_type": "code",
   "execution_count": 78,
   "metadata": {},
   "outputs": [],
   "source": [
    "#gdsc data\n",
    "gex=pd.read_csv('../data/gdsc/gex.csv',sep=',',header=0,index_col=0)\n",
    "gex=gex[gex.columns[pd.Series(gex.columns).apply(lambda x: '.' not in x).values]]\n",
    "gex.columns=gex.columns.astype(int)\n",
    "cell_anno=pd.read_excel('../data/gdsc/Cell_Lines_Details.xlsx',skipfooter=1)\n",
    "meta=pd.read_csv('../data/gdsc/PANCAN_simple_MOBEM.rdata.tsv',sep='\\t',header=0,index_col=0)\n",
    "meta.columns=meta.columns.astype(int)"
   ]
  },
  {
   "cell_type": "code",
   "execution_count": 79,
   "metadata": {},
   "outputs": [],
   "source": [
    "#filter for TCGA descriptor\n",
    "fil=~(cell_anno['Cancer Type\\n(matching TCGA label)'].isnull())\n",
    "cell_anno=cell_anno[fil]"
   ]
  },
  {
   "cell_type": "code",
   "execution_count": 80,
   "metadata": {},
   "outputs": [],
   "source": [
    "cosmics=list(set(cell_anno['COSMIC identifier'])&set(gex.columns)&set(meta.columns))\n",
    "gex=gex[cosmics]\n",
    "fil=np.in1d(cell_anno['COSMIC identifier'],cosmics)\n",
    "cell_anno=cell_anno[fil]\n",
    "meta=meta[cosmics]\n",
    "meta=meta[pd.Series(meta.index).apply(lambda x:\"_mut\" in x).values]"
   ]
  },
  {
   "cell_type": "code",
   "execution_count": 81,
   "metadata": {},
   "outputs": [],
   "source": [
    "counts=cell_anno['Cancer Type\\n(matching TCGA label)'].value_counts()\n",
    "tissue=counts[counts>20].index\n",
    "fil=np.in1d(cell_anno['Cancer Type\\n(matching TCGA label)'],tissue)\n",
    "cell_anno=cell_anno[fil]\n",
    "gex=gex[cell_anno['COSMIC identifier'].values]\n",
    "meta=meta[gex.columns]"
   ]
  },
  {
   "cell_type": "code",
   "execution_count": 83,
   "metadata": {},
   "outputs": [],
   "source": [
    "#keep only mutations with >=6 cell lines\n",
    "meta=meta[meta.sum(1)>=6]"
   ]
  },
  {
   "cell_type": "code",
   "execution_count": 87,
   "metadata": {},
   "outputs": [],
   "source": [
    "tissues=cell_anno['Cancer Type\\n(matching TCGA label)'].unique()"
   ]
  },
  {
   "cell_type": "code",
   "execution_count": 95,
   "metadata": {},
   "outputs": [
    {
     "name": "stdout",
     "output_type": "stream",
     "text": [
      "HNSC\n",
      "ESCA\n",
      "LAML\n",
      "DLBC\n",
      "ALL\n",
      "BRCA\n",
      "COAD/READ\n",
      "STAD\n",
      "KIRC\n",
      "LUAD\n",
      "SCLC\n",
      "MESO\n",
      "GBM\n",
      "NB\n",
      "PAAD\n",
      "SKCM\n",
      "OV\n"
     ]
    }
   ],
   "source": [
    "for t in tissues:\n",
    "    print(t)\n",
    "    cosmics=cell_anno[cell_anno['Cancer Type\\n(matching TCGA label)']==t]['COSMIC identifier'].values\n",
    "    gex_t=gex[cosmics]\n",
    "    m=np.mean(gex_t,1)\n",
    "    s=np.std(gex_t,1)\n",
    "    s_p=lowess(np.std(gex_t,1),np.mean(gex_t,1),return_sorted=False)\n",
    "    gex_t=((gex_t.T-m)/s_p).T\n",
    "    gex.loc[gex_t.index,gex_t.columns]=gex_t"
   ]
  },
  {
   "cell_type": "code",
   "execution_count": 99,
   "metadata": {},
   "outputs": [],
   "source": [
    "meta.to_csv('../results/benchmark/datasets/gdsc_meta.csv',sep=',')\n",
    "gex.round(3).to_csv('../results/benchmark/datasets/gdsc_data.csv',sep=',')"
   ]
  },
  {
   "cell_type": "markdown",
   "metadata": {
    "collapsed": true
   },
   "source": [
    "### Calculating gene activity scores on benchmark data"
   ]
  },
  {
   "cell_type": "code",
   "execution_count": 3,
   "metadata": {},
   "outputs": [],
   "source": [
    "### Do not run local"
   ]
  },
  {
   "cell_type": "code",
   "execution_count": 101,
   "metadata": {},
   "outputs": [
    {
     "data": {
      "text/plain": [
       "0"
      ]
     },
     "execution_count": 101,
     "metadata": {},
     "output_type": "execute_result"
    }
   ],
   "source": [
    "call(['Rscript','../code/run_viper.R'])"
   ]
  },
  {
   "cell_type": "code",
   "execution_count": null,
   "metadata": {},
   "outputs": [],
   "source": [
    "### benchmark scores (calculate ROC AUCs)\n",
    "### it takes a rather long time\n",
    "call(['python3','../code/benchmark_all.py'])"
   ]
  },
  {
   "cell_type": "code",
   "execution_count": null,
   "metadata": {},
   "outputs": [],
   "source": [
    "### merge the different benchmark files\n",
    "call(['python3','../code/merge_rocaucs.py'])"
   ]
  },
  {
   "cell_type": "code",
   "execution_count": 2,
   "metadata": {},
   "outputs": [],
   "source": [
    "### from here you can run local"
   ]
  },
  {
   "cell_type": "markdown",
   "metadata": {},
   "source": [
    "Let's calcualte z-scores."
   ]
  },
  {
   "cell_type": "code",
   "execution_count": 43,
   "metadata": {},
   "outputs": [],
   "source": [
    "#progeny\n",
    "data = pd.read_csv('../results/benchmark/rocaucs/progeny/random.csv', sep=',', header=0, index_col=0)"
   ]
  },
  {
   "cell_type": "code",
   "execution_count": 44,
   "metadata": {},
   "outputs": [],
   "source": [
    "random_mean = data.mean()\n",
    "random_std = data.std()\n",
    "n_s = pd.read_csv('../results/benchmark/datasets/progeny_meta.csv', sep=',', header=0, index_col=0)\n",
    "n_s = n_s['pathway'].value_counts()\n",
    "n_s = n_s[random_mean.index]"
   ]
  },
  {
   "cell_type": "code",
   "execution_count": 45,
   "metadata": {},
   "outputs": [
    {
     "data": {
      "text/plain": [
       "<matplotlib.text.Text at 0x1301b27b8>"
      ]
     },
     "execution_count": 45,
     "metadata": {},
     "output_type": "execute_result"
    },
    {
     "data": {
      "image/png": "[encoded data removed]",
      "text/plain": [
       "<matplotlib.figure.Figure at 0x11863c668>"
      ]
     },
     "metadata": {},
     "output_type": "display_data"
    }
   ],
   "source": [
    "### relationshipt between the std of random \n",
    "plt.plot(n_s, random_std, 'o')\n",
    "plt.xlabel('Number of perturbations')\n",
    "plt.ylabel('ROC AUC std')"
   ]
  },
  {
   "cell_type": "code",
   "execution_count": 68,
   "metadata": {},
   "outputs": [],
   "source": [
    "fnames = os.listdir('../results/benchmark/rocaucs/progeny/single/')\n",
    "for fname in fnames:\n",
    "    if fname[-4:] == '.csv':\n",
    "        data = pd.read_csv('../results/benchmark/rocaucs/progeny/single/' + fname,\n",
    "                          sep=',', header=0, index_col=0)\n",
    "        data = (data - random_mean) / random_std\n",
    "        data.to_csv('../results/benchmark/z_scores/progeny/single/' + fname, sep=',')"
   ]
  },
  {
   "cell_type": "code",
   "execution_count": 70,
   "metadata": {},
   "outputs": [],
   "source": [
    "fnames = os.listdir('../results/benchmark/rocaucs/progeny/overlap_merged//')\n",
    "for fname in fnames:\n",
    "    if fname[-4:] == '.csv':\n",
    "        data = pd.read_csv('../results/benchmark/rocaucs/progeny/overlap_merged//' + fname,\n",
    "                          sep=',', header=0, index_col=0)\n",
    "        data = (data - random_mean) / random_std\n",
    "        data.to_csv('../results/benchmark/z_scores/progeny/overlap/' + fname, sep=',')"
   ]
  },
  {
   "cell_type": "code",
   "execution_count": 170,
   "metadata": {},
   "outputs": [],
   "source": [
    "#gdsc\n",
    "data = pd.read_csv('../results/benchmark/rocaucs/gdsc/random.csv', sep=',', header=0, index_col=0)"
   ]
  },
  {
   "cell_type": "code",
   "execution_count": 171,
   "metadata": {},
   "outputs": [],
   "source": [
    "random_mean = data.mean()\n",
    "random_std = data.std()\n",
    "n_s = pd.read_csv('../results/benchmark/datasets/gdsc_meta.csv', sep=',', header=0, index_col=0)\n",
    "n_s = n_s.sum(1)\n",
    "n_s = n_s[random_mean.index]"
   ]
  },
  {
   "cell_type": "code",
   "execution_count": 172,
   "metadata": {},
   "outputs": [
    {
     "data": {
      "text/plain": [
       "<matplotlib.text.Text at 0x11049ef98>"
      ]
     },
     "execution_count": 172,
     "metadata": {},
     "output_type": "execute_result"
    },
    {
     "data": {
      "image/png": "[encoded data removed]",
      "text/plain": [
       "<matplotlib.figure.Figure at 0x1104a5eb8>"
      ]
     },
     "metadata": {},
     "output_type": "display_data"
    }
   ],
   "source": [
    "### relationshipt between the std of random \n",
    "plt.plot(n_s, random_std, 'o')\n",
    "plt.xlabel('Number of mutations')\n",
    "plt.ylabel('ROC AUC std')"
   ]
  },
  {
   "cell_type": "code",
   "execution_count": 173,
   "metadata": {},
   "outputs": [],
   "source": [
    "fnames = os.listdir('../results/benchmark/rocaucs/gdsc/single/')\n",
    "for fname in fnames:\n",
    "    if fname[-4:] == '.csv':\n",
    "        data = pd.read_csv('../results/benchmark/rocaucs/gdsc/single/' + fname,\n",
    "                          sep=',', header=0, index_col=0)\n",
    "        data = (data - random_mean) / random_std\n",
    "        data.to_csv('../results/benchmark/z_scores/gdsc/single/' + fname, sep=',')"
   ]
  },
  {
   "cell_type": "code",
   "execution_count": 174,
   "metadata": {},
   "outputs": [],
   "source": [
    "fnames = os.listdir('../results/benchmark/rocaucs/gdsc/overlap_merged//')\n",
    "for fname in fnames:\n",
    "    if fname[-4:] == '.csv':\n",
    "        data = pd.read_csv('../results/benchmark/rocaucs/gdsc/overlap_merged//' + fname,\n",
    "                          sep=',', header=0, index_col=0)\n",
    "        data = (data - random_mean) / random_std\n",
    "        data.to_csv('../results/benchmark/z_scores/gdsc/overlap/' + fname, sep=',')"
   ]
  },
  {
   "cell_type": "markdown",
   "metadata": {},
   "source": [
    "### Generate Omnipath distance matrix"
   ]
  },
  {
   "cell_type": "code",
   "execution_count": 24,
   "metadata": {},
   "outputs": [],
   "source": [
    "data=pd.read_csv('../data/omnipath/interactions.txt',sep='\\t',header=0,index_col=None)"
   ]
  },
  {
   "cell_type": "code",
   "execution_count": 25,
   "metadata": {},
   "outputs": [
    {
     "data": {
      "text/html": [
       "<div>\n",
       "<style scoped>\n",
       "    .dataframe tbody tr th:only-of-type {\n",
       "        vertical-align: middle;\n",
       "    }\n",
       "\n",
       "    .dataframe tbody tr th {\n",
       "        vertical-align: top;\n",
       "    }\n",
       "\n",
       "    .dataframe thead th {\n",
       "        text-align: right;\n",
       "    }\n",
       "</style>\n",
       "<table border=\"1\" class=\"dataframe\">\n",
       "  <thead>\n",
       "    <tr style=\"text-align: right;\">\n",
       "      <th></th>\n",
       "      <th>source</th>\n",
       "      <th>target</th>\n",
       "      <th>is_directed</th>\n",
       "      <th>is_stimulation</th>\n",
       "      <th>is_inhibition</th>\n",
       "      <th>consensus_direction</th>\n",
       "      <th>consensus_stimulation</th>\n",
       "      <th>consensus_inhibition</th>\n",
       "      <th>dip_url</th>\n",
       "    </tr>\n",
       "  </thead>\n",
       "  <tbody>\n",
       "    <tr>\n",
       "      <th>0</th>\n",
       "      <td>P17612</td>\n",
       "      <td>P55064</td>\n",
       "      <td>1</td>\n",
       "      <td>0</td>\n",
       "      <td>0</td>\n",
       "      <td>1</td>\n",
       "      <td>0</td>\n",
       "      <td>0</td>\n",
       "      <td>NaN</td>\n",
       "    </tr>\n",
       "    <tr>\n",
       "      <th>1</th>\n",
       "      <td>P55064</td>\n",
       "      <td>Q9HBA0</td>\n",
       "      <td>0</td>\n",
       "      <td>0</td>\n",
       "      <td>0</td>\n",
       "      <td>0</td>\n",
       "      <td>0</td>\n",
       "      <td>0</td>\n",
       "      <td>NaN</td>\n",
       "    </tr>\n",
       "    <tr>\n",
       "      <th>2</th>\n",
       "      <td>O43318</td>\n",
       "      <td>Q00610</td>\n",
       "      <td>1</td>\n",
       "      <td>0</td>\n",
       "      <td>0</td>\n",
       "      <td>1</td>\n",
       "      <td>0</td>\n",
       "      <td>0</td>\n",
       "      <td>NaN</td>\n",
       "    </tr>\n",
       "    <tr>\n",
       "      <th>3</th>\n",
       "      <td>P14672</td>\n",
       "      <td>Q00610</td>\n",
       "      <td>1</td>\n",
       "      <td>0</td>\n",
       "      <td>0</td>\n",
       "      <td>1</td>\n",
       "      <td>0</td>\n",
       "      <td>0</td>\n",
       "      <td>NaN</td>\n",
       "    </tr>\n",
       "    <tr>\n",
       "      <th>4</th>\n",
       "      <td>Q00610</td>\n",
       "      <td>P14672</td>\n",
       "      <td>1</td>\n",
       "      <td>0</td>\n",
       "      <td>0</td>\n",
       "      <td>1</td>\n",
       "      <td>0</td>\n",
       "      <td>0</td>\n",
       "      <td>NaN</td>\n",
       "    </tr>\n",
       "  </tbody>\n",
       "</table>\n",
       "</div>"
      ],
      "text/plain": [
       "   source  target  is_directed  is_stimulation  is_inhibition  \\\n",
       "0  P17612  P55064            1               0              0   \n",
       "1  P55064  Q9HBA0            0               0              0   \n",
       "2  O43318  Q00610            1               0              0   \n",
       "3  P14672  Q00610            1               0              0   \n",
       "4  Q00610  P14672            1               0              0   \n",
       "\n",
       "   consensus_direction  consensus_stimulation  consensus_inhibition dip_url  \n",
       "0                    1                      0                     0     NaN  \n",
       "1                    0                      0                     0     NaN  \n",
       "2                    1                      0                     0     NaN  \n",
       "3                    1                      0                     0     NaN  \n",
       "4                    1                      0                     0     NaN  "
      ]
     },
     "execution_count": 25,
     "metadata": {},
     "output_type": "execute_result"
    }
   ],
   "source": [
    "data.head()"
   ]
  },
  {
   "cell_type": "code",
   "execution_count": 26,
   "metadata": {},
   "outputs": [],
   "source": [
    "#split complexes\n",
    "fil1=data['source'].apply(lambda x:'COMPLEX' in x)\n",
    "fil2=data['target'].apply(lambda x:'COMPLEX' in x)\n",
    "data_comp=data[fil1|fil2].copy()\n",
    "data_nocomp=data[~(fil1|fil2)].copy()"
   ]
  },
  {
   "cell_type": "code",
   "execution_count": 27,
   "metadata": {},
   "outputs": [],
   "source": [
    "#create interactions for complex members\n",
    "data_comp_good=pd.DataFrame(columns=data_comp.columns)\n",
    "for i in data_comp.index:\n",
    "    targets=data_comp.loc[i,'target']\n",
    "    sources=data_comp.loc[i,'source']\n",
    "    if 'COMPLEX' in targets:\n",
    "        targets=targets.split('COMPLEX:')[1].split('-')\n",
    "    else:\n",
    "        targets=[targets]\n",
    "    if 'COMPLEX' in sources:\n",
    "        sources=sources.split('COMPLEX:')[1].split('-')\n",
    "    else:\n",
    "        sources=[sources]\n",
    "    info=list(data_comp.loc[i].values[2:])\n",
    "    for s in sources:\n",
    "        for t in targets:\n",
    "            new=pd.DataFrame(index=[0],columns=data_comp_good.columns)\n",
    "            new.loc[0]=[s,t]+info\n",
    "            data_comp_good=data_comp_good.append(new,ignore_index=True)"
   ]
  },
  {
   "cell_type": "code",
   "execution_count": 28,
   "metadata": {},
   "outputs": [],
   "source": [
    "data_good=pd.concat([data_nocomp,data_comp_good],ignore_index=True)"
   ]
  },
  {
   "cell_type": "code",
   "execution_count": 29,
   "metadata": {},
   "outputs": [],
   "source": [
    "data_good=data_good[['source','target']]\n",
    "data_good.to_csv('../data/omnipath/all_interactions.csv',sep=',')"
   ]
  },
  {
   "cell_type": "code",
   "execution_count": 35,
   "metadata": {},
   "outputs": [],
   "source": [
    "#we will translate the nodes to human readable\n",
    "call(['Rscript','../code/gene_name_conversion.R'])\n",
    "data=pd.read_csv('../data/omnipath/all_interactions.csv',sep=',',header=0,index_col=0)\n",
    "idconv=pd.read_csv('../data/omnipath/omnipath_uni_hgnc.csv',sep=',',header=0,index_col=0)"
   ]
  },
  {
   "cell_type": "code",
   "execution_count": 36,
   "metadata": {},
   "outputs": [],
   "source": [
    "#prepare id conversion\n",
    "fil=idconv.isnull().sum(1)==0\n",
    "idconv=idconv[fil]\n",
    "idconv=idconv.drop_duplicates('uniprotswissprot')\n",
    "idconv=idconv.drop_duplicates('hgnc_symbol')\n",
    "idconv.index=idconv['uniprotswissprot']\n",
    "idconv=idconv['hgnc_symbol']"
   ]
  },
  {
   "cell_type": "code",
   "execution_count": 37,
   "metadata": {},
   "outputs": [],
   "source": [
    "#filter network for human genes with symbol\n",
    "fil=np.in1d(data['source'],idconv.index) & np.in1d(data['target'],idconv.index)\n",
    "data=data[fil]\n",
    "data['source']=idconv[data['source']].values\n",
    "data['target']=idconv[data['target']].values"
   ]
  },
  {
   "cell_type": "code",
   "execution_count": 38,
   "metadata": {},
   "outputs": [
    {
     "data": {
      "text/html": [
       "<div>\n",
       "<style scoped>\n",
       "    .dataframe tbody tr th:only-of-type {\n",
       "        vertical-align: middle;\n",
       "    }\n",
       "\n",
       "    .dataframe tbody tr th {\n",
       "        vertical-align: top;\n",
       "    }\n",
       "\n",
       "    .dataframe thead th {\n",
       "        text-align: right;\n",
       "    }\n",
       "</style>\n",
       "<table border=\"1\" class=\"dataframe\">\n",
       "  <thead>\n",
       "    <tr style=\"text-align: right;\">\n",
       "      <th></th>\n",
       "      <th>source</th>\n",
       "      <th>target</th>\n",
       "    </tr>\n",
       "  </thead>\n",
       "  <tbody>\n",
       "    <tr>\n",
       "      <th>0</th>\n",
       "      <td>PRKACA</td>\n",
       "      <td>AQP5</td>\n",
       "    </tr>\n",
       "    <tr>\n",
       "      <th>1</th>\n",
       "      <td>AQP5</td>\n",
       "      <td>TRPV4</td>\n",
       "    </tr>\n",
       "    <tr>\n",
       "      <th>2</th>\n",
       "      <td>MAP3K7</td>\n",
       "      <td>CLTC</td>\n",
       "    </tr>\n",
       "    <tr>\n",
       "      <th>3</th>\n",
       "      <td>SLC2A4</td>\n",
       "      <td>CLTC</td>\n",
       "    </tr>\n",
       "    <tr>\n",
       "      <th>4</th>\n",
       "      <td>CLTC</td>\n",
       "      <td>SLC2A4</td>\n",
       "    </tr>\n",
       "  </tbody>\n",
       "</table>\n",
       "</div>"
      ],
      "text/plain": [
       "   source  target\n",
       "0  PRKACA    AQP5\n",
       "1    AQP5   TRPV4\n",
       "2  MAP3K7    CLTC\n",
       "3  SLC2A4    CLTC\n",
       "4    CLTC  SLC2A4"
      ]
     },
     "execution_count": 38,
     "metadata": {},
     "output_type": "execute_result"
    }
   ],
   "source": [
    "data.to_csv('../data/omnipath/all_interactions_hgnc.csv',sep=',')\n",
    "data.head()"
   ]
  },
  {
   "cell_type": "code",
   "execution_count": 39,
   "metadata": {},
   "outputs": [],
   "source": [
    "#make network undirected\n",
    "data_rev=pd.DataFrame(index=data.index,columns=data.columns)\n",
    "data_rev['source']=data['target']\n",
    "data_rev['target']=data['source']\n",
    "data=pd.concat([data,data_rev],ignore_index=True)\n",
    "data=data.drop_duplicates()"
   ]
  },
  {
   "cell_type": "code",
   "execution_count": 40,
   "metadata": {},
   "outputs": [],
   "source": [
    "#remove self interacions\n",
    "fil=data['source']!=data['target']\n",
    "data=data[fil]\n",
    "data.to_csv('../data/omnipath/all_interactions_hgnc_undirected.csv',sep=',')"
   ]
  },
  {
   "cell_type": "code",
   "execution_count": 41,
   "metadata": {},
   "outputs": [],
   "source": [
    "#create adj. matirx\n",
    "data['Interaction']=1\n",
    "AM=data.pivot(index='source',columns='target',values='Interaction')\n",
    "AM[AM.isnull()]=0\n",
    "#add self edge\n",
    "AM=AM+np.eye(N=len(AM))"
   ]
  },
  {
   "cell_type": "code",
   "execution_count": 45,
   "metadata": {},
   "outputs": [],
   "source": [
    "AM=AM.astype(int)"
   ]
  },
  {
   "cell_type": "code",
   "execution_count": 46,
   "metadata": {},
   "outputs": [],
   "source": [
    "AM.to_csv('../data/omnipath/AM.csv',sep=',')"
   ]
  },
  {
   "cell_type": "code",
   "execution_count": 48,
   "metadata": {},
   "outputs": [
    {
     "data": {
      "text/html": [
       "<div>\n",
       "<style scoped>\n",
       "    .dataframe tbody tr th:only-of-type {\n",
       "        vertical-align: middle;\n",
       "    }\n",
       "\n",
       "    .dataframe tbody tr th {\n",
       "        vertical-align: top;\n",
       "    }\n",
       "\n",
       "    .dataframe thead th {\n",
       "        text-align: right;\n",
       "    }\n",
       "</style>\n",
       "<table border=\"1\" class=\"dataframe\">\n",
       "  <thead>\n",
       "    <tr style=\"text-align: right;\">\n",
       "      <th>target</th>\n",
       "      <th>A1BG</th>\n",
       "      <th>A1CF</th>\n",
       "      <th>A2M</th>\n",
       "      <th>AAAS</th>\n",
       "      <th>AAK1</th>\n",
       "      <th>AAMP</th>\n",
       "      <th>AANAT</th>\n",
       "      <th>AATF</th>\n",
       "      <th>AATK</th>\n",
       "      <th>ABAT</th>\n",
       "      <th>...</th>\n",
       "      <th>ZRANB2</th>\n",
       "      <th>ZRANB3</th>\n",
       "      <th>ZSCAN21</th>\n",
       "      <th>ZSCAN4</th>\n",
       "      <th>ZSWIM7</th>\n",
       "      <th>ZW10</th>\n",
       "      <th>ZWILCH</th>\n",
       "      <th>ZWINT</th>\n",
       "      <th>ZXDC</th>\n",
       "      <th>ZYX</th>\n",
       "    </tr>\n",
       "    <tr>\n",
       "      <th>source</th>\n",
       "      <th></th>\n",
       "      <th></th>\n",
       "      <th></th>\n",
       "      <th></th>\n",
       "      <th></th>\n",
       "      <th></th>\n",
       "      <th></th>\n",
       "      <th></th>\n",
       "      <th></th>\n",
       "      <th></th>\n",
       "      <th></th>\n",
       "      <th></th>\n",
       "      <th></th>\n",
       "      <th></th>\n",
       "      <th></th>\n",
       "      <th></th>\n",
       "      <th></th>\n",
       "      <th></th>\n",
       "      <th></th>\n",
       "      <th></th>\n",
       "      <th></th>\n",
       "    </tr>\n",
       "  </thead>\n",
       "  <tbody>\n",
       "    <tr>\n",
       "      <th>A1BG</th>\n",
       "      <td>1</td>\n",
       "      <td>0</td>\n",
       "      <td>0</td>\n",
       "      <td>0</td>\n",
       "      <td>0</td>\n",
       "      <td>0</td>\n",
       "      <td>0</td>\n",
       "      <td>0</td>\n",
       "      <td>0</td>\n",
       "      <td>0</td>\n",
       "      <td>...</td>\n",
       "      <td>0</td>\n",
       "      <td>0</td>\n",
       "      <td>0</td>\n",
       "      <td>0</td>\n",
       "      <td>0</td>\n",
       "      <td>0</td>\n",
       "      <td>0</td>\n",
       "      <td>0</td>\n",
       "      <td>0</td>\n",
       "      <td>0</td>\n",
       "    </tr>\n",
       "    <tr>\n",
       "      <th>A1CF</th>\n",
       "      <td>0</td>\n",
       "      <td>1</td>\n",
       "      <td>0</td>\n",
       "      <td>0</td>\n",
       "      <td>0</td>\n",
       "      <td>0</td>\n",
       "      <td>0</td>\n",
       "      <td>0</td>\n",
       "      <td>0</td>\n",
       "      <td>0</td>\n",
       "      <td>...</td>\n",
       "      <td>0</td>\n",
       "      <td>0</td>\n",
       "      <td>0</td>\n",
       "      <td>0</td>\n",
       "      <td>0</td>\n",
       "      <td>0</td>\n",
       "      <td>0</td>\n",
       "      <td>0</td>\n",
       "      <td>0</td>\n",
       "      <td>0</td>\n",
       "    </tr>\n",
       "    <tr>\n",
       "      <th>A2M</th>\n",
       "      <td>0</td>\n",
       "      <td>0</td>\n",
       "      <td>1</td>\n",
       "      <td>0</td>\n",
       "      <td>0</td>\n",
       "      <td>0</td>\n",
       "      <td>0</td>\n",
       "      <td>0</td>\n",
       "      <td>0</td>\n",
       "      <td>0</td>\n",
       "      <td>...</td>\n",
       "      <td>0</td>\n",
       "      <td>0</td>\n",
       "      <td>0</td>\n",
       "      <td>0</td>\n",
       "      <td>0</td>\n",
       "      <td>0</td>\n",
       "      <td>0</td>\n",
       "      <td>0</td>\n",
       "      <td>0</td>\n",
       "      <td>0</td>\n",
       "    </tr>\n",
       "    <tr>\n",
       "      <th>AAAS</th>\n",
       "      <td>0</td>\n",
       "      <td>0</td>\n",
       "      <td>0</td>\n",
       "      <td>1</td>\n",
       "      <td>0</td>\n",
       "      <td>0</td>\n",
       "      <td>0</td>\n",
       "      <td>0</td>\n",
       "      <td>0</td>\n",
       "      <td>0</td>\n",
       "      <td>...</td>\n",
       "      <td>0</td>\n",
       "      <td>0</td>\n",
       "      <td>0</td>\n",
       "      <td>0</td>\n",
       "      <td>0</td>\n",
       "      <td>0</td>\n",
       "      <td>0</td>\n",
       "      <td>0</td>\n",
       "      <td>0</td>\n",
       "      <td>0</td>\n",
       "    </tr>\n",
       "    <tr>\n",
       "      <th>AAK1</th>\n",
       "      <td>0</td>\n",
       "      <td>0</td>\n",
       "      <td>0</td>\n",
       "      <td>0</td>\n",
       "      <td>1</td>\n",
       "      <td>0</td>\n",
       "      <td>0</td>\n",
       "      <td>0</td>\n",
       "      <td>0</td>\n",
       "      <td>0</td>\n",
       "      <td>...</td>\n",
       "      <td>0</td>\n",
       "      <td>0</td>\n",
       "      <td>0</td>\n",
       "      <td>0</td>\n",
       "      <td>0</td>\n",
       "      <td>0</td>\n",
       "      <td>0</td>\n",
       "      <td>0</td>\n",
       "      <td>0</td>\n",
       "      <td>0</td>\n",
       "    </tr>\n",
       "  </tbody>\n",
       "</table>\n",
       "<p>5 rows × 9066 columns</p>\n",
       "</div>"
      ],
      "text/plain": [
       "target  A1BG  A1CF  A2M  AAAS  AAK1  AAMP  AANAT  AATF  AATK  ABAT  ...  \\\n",
       "source                                                              ...   \n",
       "A1BG       1     0    0     0     0     0      0     0     0     0  ...   \n",
       "A1CF       0     1    0     0     0     0      0     0     0     0  ...   \n",
       "A2M        0     0    1     0     0     0      0     0     0     0  ...   \n",
       "AAAS       0     0    0     1     0     0      0     0     0     0  ...   \n",
       "AAK1       0     0    0     0     1     0      0     0     0     0  ...   \n",
       "\n",
       "target  ZRANB2  ZRANB3  ZSCAN21  ZSCAN4  ZSWIM7  ZW10  ZWILCH  ZWINT  ZXDC  \\\n",
       "source                                                                       \n",
       "A1BG         0       0        0       0       0     0       0      0     0   \n",
       "A1CF         0       0        0       0       0     0       0      0     0   \n",
       "A2M          0       0        0       0       0     0       0      0     0   \n",
       "AAAS         0       0        0       0       0     0       0      0     0   \n",
       "AAK1         0       0        0       0       0     0       0      0     0   \n",
       "\n",
       "target  ZYX  \n",
       "source       \n",
       "A1BG      0  \n",
       "A1CF      0  \n",
       "A2M       0  \n",
       "AAAS      0  \n",
       "AAK1      0  \n",
       "\n",
       "[5 rows x 9066 columns]"
      ]
     },
     "execution_count": 48,
     "metadata": {},
     "output_type": "execute_result"
    }
   ],
   "source": [
    "AM.head()"
   ]
  },
  {
   "cell_type": "code",
   "execution_count": 49,
   "metadata": {},
   "outputs": [
    {
     "name": "stdout",
     "output_type": "stream",
     "text": [
      "1 82183290\n",
      "2 82094678\n",
      "3 79217346\n",
      "4 57747892\n",
      "5 26623000\n",
      "6 12393902\n",
      "7 8527858\n",
      "8 7599056\n",
      "9 7375708\n",
      "10 7339342\n",
      "11 7334856\n",
      "12 7334284\n",
      "13 7334202\n"
     ]
    }
   ],
   "source": [
    "#calculate distance matrix\n",
    "prot_ids=AM.index\n",
    "AM=AM.values\n",
    "DM=np.full((len(prot_ids),len(prot_ids)),np.inf)\n",
    "RW=np.eye(len(prot_ids)) #starting position\n",
    "k=0\n",
    "DM[RW==1]=k\n",
    "while True:\n",
    "    k+=1\n",
    "    #number of steps, remaining not reachable\n",
    "    print(k,(DM==np.inf).sum())\n",
    "    RW_new=np.dot(RW,AM)\n",
    "    RW_new[RW_new!=0]=1\n",
    "    if (RW_new!=RW).sum()==0:\n",
    "        break\n",
    "    DM[(RW_new==1)&(RW!=1)]=k\n",
    "    RW=RW_new"
   ]
  },
  {
   "cell_type": "code",
   "execution_count": 50,
   "metadata": {},
   "outputs": [],
   "source": [
    "AM=pd.DataFrame(AM,index=prot_ids,columns=prot_ids)\n",
    "DM=pd.DataFrame(DM,index=prot_ids,columns=prot_ids)\n",
    "DM.to_csv('../data/omnipath/DM.csv',sep=',')"
   ]
  },
  {
   "cell_type": "code",
   "execution_count": 51,
   "metadata": {},
   "outputs": [],
   "source": [
    "#filter out unconnected nodes\n",
    "n_unconnected=(DM==np.inf).sum().min()\n",
    "giant_component=DM.index[(DM==np.inf).sum()==n_unconnected]\n",
    "AM=AM.loc[giant_component,giant_component]\n",
    "DM=DM.loc[giant_component,giant_component]"
   ]
  },
  {
   "cell_type": "code",
   "execution_count": 52,
   "metadata": {},
   "outputs": [],
   "source": [
    "AM.to_csv('../data/omnipath/AM_GC.csv',sep=',')\n",
    "DM.to_csv('../data/omnipath/DM_GC.csv',sep=',')"
   ]
  },
  {
   "cell_type": "code",
   "execution_count": 53,
   "metadata": {},
   "outputs": [
    {
     "data": {
      "text/html": [
       "<div>\n",
       "<style scoped>\n",
       "    .dataframe tbody tr th:only-of-type {\n",
       "        vertical-align: middle;\n",
       "    }\n",
       "\n",
       "    .dataframe tbody tr th {\n",
       "        vertical-align: top;\n",
       "    }\n",
       "\n",
       "    .dataframe thead th {\n",
       "        text-align: right;\n",
       "    }\n",
       "</style>\n",
       "<table border=\"1\" class=\"dataframe\">\n",
       "  <thead>\n",
       "    <tr style=\"text-align: right;\">\n",
       "      <th>source</th>\n",
       "      <th>A1CF</th>\n",
       "      <th>A2M</th>\n",
       "      <th>AAAS</th>\n",
       "      <th>AAK1</th>\n",
       "      <th>AAMP</th>\n",
       "      <th>AANAT</th>\n",
       "      <th>AATF</th>\n",
       "      <th>AATK</th>\n",
       "      <th>ABCA1</th>\n",
       "      <th>ABCB1</th>\n",
       "      <th>...</th>\n",
       "      <th>ZRANB1</th>\n",
       "      <th>ZRANB2</th>\n",
       "      <th>ZRANB3</th>\n",
       "      <th>ZSCAN21</th>\n",
       "      <th>ZSCAN4</th>\n",
       "      <th>ZW10</th>\n",
       "      <th>ZWILCH</th>\n",
       "      <th>ZWINT</th>\n",
       "      <th>ZXDC</th>\n",
       "      <th>ZYX</th>\n",
       "    </tr>\n",
       "    <tr>\n",
       "      <th>source</th>\n",
       "      <th></th>\n",
       "      <th></th>\n",
       "      <th></th>\n",
       "      <th></th>\n",
       "      <th></th>\n",
       "      <th></th>\n",
       "      <th></th>\n",
       "      <th></th>\n",
       "      <th></th>\n",
       "      <th></th>\n",
       "      <th></th>\n",
       "      <th></th>\n",
       "      <th></th>\n",
       "      <th></th>\n",
       "      <th></th>\n",
       "      <th></th>\n",
       "      <th></th>\n",
       "      <th></th>\n",
       "      <th></th>\n",
       "      <th></th>\n",
       "      <th></th>\n",
       "    </tr>\n",
       "  </thead>\n",
       "  <tbody>\n",
       "    <tr>\n",
       "      <th>A1CF</th>\n",
       "      <td>0.0</td>\n",
       "      <td>3.0</td>\n",
       "      <td>4.0</td>\n",
       "      <td>5.0</td>\n",
       "      <td>4.0</td>\n",
       "      <td>4.0</td>\n",
       "      <td>3.0</td>\n",
       "      <td>4.0</td>\n",
       "      <td>4.0</td>\n",
       "      <td>4.0</td>\n",
       "      <td>...</td>\n",
       "      <td>3.0</td>\n",
       "      <td>4.0</td>\n",
       "      <td>5.0</td>\n",
       "      <td>6.0</td>\n",
       "      <td>4.0</td>\n",
       "      <td>5.0</td>\n",
       "      <td>7.0</td>\n",
       "      <td>4.0</td>\n",
       "      <td>5.0</td>\n",
       "      <td>3.0</td>\n",
       "    </tr>\n",
       "    <tr>\n",
       "      <th>A2M</th>\n",
       "      <td>3.0</td>\n",
       "      <td>0.0</td>\n",
       "      <td>4.0</td>\n",
       "      <td>3.0</td>\n",
       "      <td>4.0</td>\n",
       "      <td>3.0</td>\n",
       "      <td>3.0</td>\n",
       "      <td>2.0</td>\n",
       "      <td>3.0</td>\n",
       "      <td>3.0</td>\n",
       "      <td>...</td>\n",
       "      <td>3.0</td>\n",
       "      <td>3.0</td>\n",
       "      <td>3.0</td>\n",
       "      <td>5.0</td>\n",
       "      <td>5.0</td>\n",
       "      <td>4.0</td>\n",
       "      <td>6.0</td>\n",
       "      <td>4.0</td>\n",
       "      <td>4.0</td>\n",
       "      <td>3.0</td>\n",
       "    </tr>\n",
       "    <tr>\n",
       "      <th>AAAS</th>\n",
       "      <td>4.0</td>\n",
       "      <td>4.0</td>\n",
       "      <td>0.0</td>\n",
       "      <td>5.0</td>\n",
       "      <td>4.0</td>\n",
       "      <td>4.0</td>\n",
       "      <td>4.0</td>\n",
       "      <td>4.0</td>\n",
       "      <td>3.0</td>\n",
       "      <td>4.0</td>\n",
       "      <td>...</td>\n",
       "      <td>4.0</td>\n",
       "      <td>3.0</td>\n",
       "      <td>4.0</td>\n",
       "      <td>6.0</td>\n",
       "      <td>5.0</td>\n",
       "      <td>5.0</td>\n",
       "      <td>7.0</td>\n",
       "      <td>5.0</td>\n",
       "      <td>5.0</td>\n",
       "      <td>3.0</td>\n",
       "    </tr>\n",
       "    <tr>\n",
       "      <th>AAK1</th>\n",
       "      <td>5.0</td>\n",
       "      <td>3.0</td>\n",
       "      <td>5.0</td>\n",
       "      <td>0.0</td>\n",
       "      <td>5.0</td>\n",
       "      <td>4.0</td>\n",
       "      <td>4.0</td>\n",
       "      <td>4.0</td>\n",
       "      <td>4.0</td>\n",
       "      <td>3.0</td>\n",
       "      <td>...</td>\n",
       "      <td>4.0</td>\n",
       "      <td>4.0</td>\n",
       "      <td>4.0</td>\n",
       "      <td>6.0</td>\n",
       "      <td>4.0</td>\n",
       "      <td>5.0</td>\n",
       "      <td>7.0</td>\n",
       "      <td>4.0</td>\n",
       "      <td>5.0</td>\n",
       "      <td>4.0</td>\n",
       "    </tr>\n",
       "    <tr>\n",
       "      <th>AAMP</th>\n",
       "      <td>4.0</td>\n",
       "      <td>4.0</td>\n",
       "      <td>4.0</td>\n",
       "      <td>5.0</td>\n",
       "      <td>0.0</td>\n",
       "      <td>3.0</td>\n",
       "      <td>4.0</td>\n",
       "      <td>4.0</td>\n",
       "      <td>3.0</td>\n",
       "      <td>3.0</td>\n",
       "      <td>...</td>\n",
       "      <td>4.0</td>\n",
       "      <td>4.0</td>\n",
       "      <td>4.0</td>\n",
       "      <td>5.0</td>\n",
       "      <td>5.0</td>\n",
       "      <td>5.0</td>\n",
       "      <td>7.0</td>\n",
       "      <td>4.0</td>\n",
       "      <td>4.0</td>\n",
       "      <td>4.0</td>\n",
       "    </tr>\n",
       "  </tbody>\n",
       "</table>\n",
       "<p>5 rows × 8652 columns</p>\n",
       "</div>"
      ],
      "text/plain": [
       "source  A1CF  A2M  AAAS  AAK1  AAMP  AANAT  AATF  AATK  ABCA1  ABCB1  ...  \\\n",
       "source                                                                ...   \n",
       "A1CF     0.0  3.0   4.0   5.0   4.0    4.0   3.0   4.0    4.0    4.0  ...   \n",
       "A2M      3.0  0.0   4.0   3.0   4.0    3.0   3.0   2.0    3.0    3.0  ...   \n",
       "AAAS     4.0  4.0   0.0   5.0   4.0    4.0   4.0   4.0    3.0    4.0  ...   \n",
       "AAK1     5.0  3.0   5.0   0.0   5.0    4.0   4.0   4.0    4.0    3.0  ...   \n",
       "AAMP     4.0  4.0   4.0   5.0   0.0    3.0   4.0   4.0    3.0    3.0  ...   \n",
       "\n",
       "source  ZRANB1  ZRANB2  ZRANB3  ZSCAN21  ZSCAN4  ZW10  ZWILCH  ZWINT  ZXDC  \\\n",
       "source                                                                       \n",
       "A1CF       3.0     4.0     5.0      6.0     4.0   5.0     7.0    4.0   5.0   \n",
       "A2M        3.0     3.0     3.0      5.0     5.0   4.0     6.0    4.0   4.0   \n",
       "AAAS       4.0     3.0     4.0      6.0     5.0   5.0     7.0    5.0   5.0   \n",
       "AAK1       4.0     4.0     4.0      6.0     4.0   5.0     7.0    4.0   5.0   \n",
       "AAMP       4.0     4.0     4.0      5.0     5.0   5.0     7.0    4.0   4.0   \n",
       "\n",
       "source  ZYX  \n",
       "source       \n",
       "A1CF    3.0  \n",
       "A2M     3.0  \n",
       "AAAS    3.0  \n",
       "AAK1    4.0  \n",
       "AAMP    4.0  \n",
       "\n",
       "[5 rows x 8652 columns]"
      ]
     },
     "execution_count": 53,
     "metadata": {},
     "output_type": "execute_result"
    }
   ],
   "source": [
    "DM.head()"
   ]
  }
 ],
 "metadata": {
  "kernelspec": {
   "display_name": "Python 3",
   "language": "python",
   "name": "python3"
  },
  "language_info": {
   "codemirror_mode": {
    "name": "ipython",
    "version": 3
   },
   "file_extension": ".py",
   "mimetype": "text/x-python",
   "name": "python",
   "nbconvert_exporter": "python",
   "pygments_lexer": "ipython3",
   "version": "3.5.2"
  }
 },
 "nbformat": 4,
 "nbformat_minor": 2
}
