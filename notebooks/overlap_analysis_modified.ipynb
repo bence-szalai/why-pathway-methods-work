{
 "cells": [
  {
   "cell_type": "code",
   "execution_count": 8,
   "metadata": {
    "collapsed": true
   },
   "outputs": [],
   "source": [
    "import pandas as pd\n",
    "import numpy as np\n",
    "\n",
    "from matplotlib import pyplot as plt\n",
    "import seaborn as sns\n",
    "import pickle as pckl\n",
    "%matplotlib inline\n",
    "sns.set_style(\"whitegrid\")\n",
    "\n",
    "import os"
   ]
  },
  {
   "cell_type": "code",
   "execution_count": 9,
   "metadata": {
    "collapsed": true
   },
   "outputs": [],
   "source": [
    "import sys\n",
    "\n",
    "sys.path.append('../code/')\n",
    "\n",
    "import make_genesets"
   ]
  },
  {
   "cell_type": "code",
   "execution_count": 10,
   "metadata": {
    "collapsed": true
   },
   "outputs": [],
   "source": [
    "dname1='KEGG'\n",
    "dname2='dorothea_AB'\n",
    "bname='progeny'\n",
    "abs_type=True\n",
    "size_fil=False\n",
    "th=4.5"
   ]
  },
  {
   "cell_type": "code",
   "execution_count": 11,
   "metadata": {
    "collapsed": true
   },
   "outputs": [],
   "source": [
    "if abs_type:\n",
    "    activity1=pd.read_csv('../results/benchmark/z_scores/%s/single/%s_abs.csv' % (bname,dname1),\n",
    "                              sep=',',header=0,index_col=0).abs().max()\n",
    "    activity2=pd.read_csv('../results/benchmark/z_scores/%s/single/%s_abs.csv' % (bname,dname2),\n",
    "                              sep=',',header=0,index_col=0).abs().max()\n",
    "else:\n",
    "    activity1=pd.read_csv('../results/benchmark/z_scores/%s/single/%s.csv' % (bname,dname1),\n",
    "                              sep=',',header=0,index_col=0).abs().max()\n",
    "    activity2=pd.read_csv('../results/benchmark/z_scores/%s/single/%s.csv' % (bname,dname2),\n",
    "                              sep=',',header=0,index_col=0).abs().max()"
   ]
  },
  {
   "cell_type": "code",
   "execution_count": 12,
   "metadata": {
    "collapsed": true
   },
   "outputs": [],
   "source": [
    "good1=activity1.index[activity1>th]\n",
    "good2=activity2.index[activity2>th]"
   ]
  },
  {
   "cell_type": "code",
   "execution_count": 13,
   "metadata": {
    "collapsed": false
   },
   "outputs": [
    {
     "data": {
      "text/plain": [
       "Index(['KEGG_ADIPOCYTOKINE_SIGNALING_PATHWAY',\n",
       "       'KEGG_ALANINE_ASPARTATE_AND_GLUTAMATE_METABOLISM',\n",
       "       'KEGG_ALDOSTERONE_REGULATED_SODIUM_REABSORPTION',\n",
       "       'KEGG_ALLOGRAFT_REJECTION', 'KEGG_AMINOACYL_TRNA_BIOSYNTHESIS',\n",
       "       'KEGG_AMINO_SUGAR_AND_NUCLEOTIDE_SUGAR_METABOLISM',\n",
       "       'KEGG_ANTIGEN_PROCESSING_AND_PRESENTATION', 'KEGG_APOPTOSIS',\n",
       "       'KEGG_ARGININE_AND_PROLINE_METABOLISM',\n",
       "       'KEGG_ARRHYTHMOGENIC_RIGHT_VENTRICULAR_CARDIOMYOPATHY_ARVC',\n",
       "       'KEGG_ASTHMA', 'KEGG_AUTOIMMUNE_THYROID_DISEASE', 'KEGG_BLADDER_CANCER',\n",
       "       'KEGG_B_CELL_RECEPTOR_SIGNALING_PATHWAY',\n",
       "       'KEGG_CALCIUM_SIGNALING_PATHWAY', 'KEGG_CELL_ADHESION_MOLECULES_CAMS',\n",
       "       'KEGG_CELL_CYCLE', 'KEGG_CHEMOKINE_SIGNALING_PATHWAY',\n",
       "       'KEGG_CHRONIC_MYELOID_LEUKEMIA', 'KEGG_CITRATE_CYCLE_TCA_CYCLE',\n",
       "       'KEGG_COLORECTAL_CANCER', 'KEGG_COMPLEMENT_AND_COAGULATION_CASCADES',\n",
       "       'KEGG_CYSTEINE_AND_METHIONINE_METABOLISM',\n",
       "       'KEGG_CYTOKINE_CYTOKINE_RECEPTOR_INTERACTION',\n",
       "       'KEGG_CYTOSOLIC_DNA_SENSING_PATHWAY', 'KEGG_DNA_REPLICATION',\n",
       "       'KEGG_ECM_RECEPTOR_INTERACTION', 'KEGG_ENDOMETRIAL_CANCER',\n",
       "       'KEGG_EPITHELIAL_CELL_SIGNALING_IN_HELICOBACTER_PYLORI_INFECTION',\n",
       "       'KEGG_FC_EPSILON_RI_SIGNALING_PATHWAY',\n",
       "       'KEGG_FRUCTOSE_AND_MANNOSE_METABOLISM', 'KEGG_GALACTOSE_METABOLISM',\n",
       "       'KEGG_GLIOMA', 'KEGG_GLUTATHIONE_METABOLISM',\n",
       "       'KEGG_GLYCINE_SERINE_AND_THREONINE_METABOLISM',\n",
       "       'KEGG_GLYCOLYSIS_GLUCONEOGENESIS',\n",
       "       'KEGG_GLYCOSAMINOGLYCAN_BIOSYNTHESIS_KERATAN_SULFATE',\n",
       "       'KEGG_GLYCOSPHINGOLIPID_BIOSYNTHESIS_GLOBO_SERIES',\n",
       "       'KEGG_GRAFT_VERSUS_HOST_DISEASE', 'KEGG_HEMATOPOIETIC_CELL_LINEAGE',\n",
       "       'KEGG_HOMOLOGOUS_RECOMBINATION', 'KEGG_INOSITOL_PHOSPHATE_METABOLISM',\n",
       "       'KEGG_INTESTINAL_IMMUNE_NETWORK_FOR_IGA_PRODUCTION',\n",
       "       'KEGG_JAK_STAT_SIGNALING_PATHWAY', 'KEGG_LEISHMANIA_INFECTION',\n",
       "       'KEGG_LEUKOCYTE_TRANSENDOTHELIAL_MIGRATION',\n",
       "       'KEGG_LINOLEIC_ACID_METABOLISM', 'KEGG_LONG_TERM_DEPRESSION',\n",
       "       'KEGG_LYSINE_DEGRADATION', 'KEGG_MAPK_SIGNALING_PATHWAY',\n",
       "       'KEGG_MISMATCH_REPAIR',\n",
       "       'KEGG_NATURAL_KILLER_CELL_MEDIATED_CYTOTOXICITY',\n",
       "       'KEGG_NEUROACTIVE_LIGAND_RECEPTOR_INTERACTION',\n",
       "       'KEGG_NOD_LIKE_RECEPTOR_SIGNALING_PATHWAY',\n",
       "       'KEGG_NON_SMALL_CELL_LUNG_CANCER', 'KEGG_NUCLEOTIDE_EXCISION_REPAIR',\n",
       "       'KEGG_OLFACTORY_TRANSDUCTION', 'KEGG_ONE_CARBON_POOL_BY_FOLATE',\n",
       "       'KEGG_OOCYTE_MEIOSIS', 'KEGG_OTHER_GLYCAN_DEGRADATION',\n",
       "       'KEGG_P53_SIGNALING_PATHWAY', 'KEGG_PANTOTHENATE_AND_COA_BIOSYNTHESIS',\n",
       "       'KEGG_PATHWAYS_IN_CANCER', 'KEGG_PENTOSE_PHOSPHATE_PATHWAY',\n",
       "       'KEGG_PHOSPHATIDYLINOSITOL_SIGNALING_SYSTEM',\n",
       "       'KEGG_PRIMARY_IMMUNODEFICIENCY',\n",
       "       'KEGG_PROGESTERONE_MEDIATED_OOCYTE_MATURATION', 'KEGG_PROSTATE_CANCER',\n",
       "       'KEGG_PROTEASOME', 'KEGG_PURINE_METABOLISM',\n",
       "       'KEGG_PYRIMIDINE_METABOLISM', 'KEGG_PYRUVATE_METABOLISM',\n",
       "       'KEGG_REGULATION_OF_ACTIN_CYTOSKELETON', 'KEGG_REGULATION_OF_AUTOPHAGY',\n",
       "       'KEGG_RENAL_CELL_CARCINOMA',\n",
       "       'KEGG_RIG_I_LIKE_RECEPTOR_SIGNALING_PATHWAY', 'KEGG_RNA_DEGRADATION',\n",
       "       'KEGG_RNA_POLYMERASE', 'KEGG_SMALL_CELL_LUNG_CANCER',\n",
       "       'KEGG_SPHINGOLIPID_METABOLISM', 'KEGG_STARCH_AND_SUCROSE_METABOLISM',\n",
       "       'KEGG_SYSTEMIC_LUPUS_ERYTHEMATOSUS', 'KEGG_TASTE_TRANSDUCTION',\n",
       "       'KEGG_TGF_BETA_SIGNALING_PATHWAY', 'KEGG_THYROID_CANCER',\n",
       "       'KEGG_TIGHT_JUNCTION', 'KEGG_TOLL_LIKE_RECEPTOR_SIGNALING_PATHWAY',\n",
       "       'KEGG_TYPE_I_DIABETES_MELLITUS',\n",
       "       'KEGG_T_CELL_RECEPTOR_SIGNALING_PATHWAY',\n",
       "       'KEGG_VALINE_LEUCINE_AND_ISOLEUCINE_BIOSYNTHESIS',\n",
       "       'KEGG_VIRAL_MYOCARDITIS'],\n",
       "      dtype='object')"
      ]
     },
     "execution_count": 13,
     "metadata": {},
     "output_type": "execute_result"
    }
   ],
   "source": [
    "good1"
   ]
  },
  {
   "cell_type": "code",
   "execution_count": null,
   "metadata": {
    "collapsed": true
   },
   "outputs": [],
   "source": []
  }
 ],
 "metadata": {
  "kernelspec": {
   "display_name": "Python 3",
   "language": "python",
   "name": "python3"
  },
  "language_info": {
   "codemirror_mode": {
    "name": "ipython",
    "version": 3
   },
   "file_extension": ".py",
   "mimetype": "text/x-python",
   "name": "python",
   "nbconvert_exporter": "python",
   "pygments_lexer": "ipython3",
   "version": "3.5.2"
  }
 },
 "nbformat": 4,
 "nbformat_minor": 2
}
