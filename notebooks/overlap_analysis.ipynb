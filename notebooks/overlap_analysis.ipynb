{
 "cells": [
  {
   "cell_type": "code",
   "execution_count": 1,
   "metadata": {
    "collapsed": true,
    "deletable": true,
    "editable": true
   },
   "outputs": [],
   "source": [
    "import pandas as pd\n",
    "import numpy as np\n",
    "\n",
    "from matplotlib import pyplot as plt\n",
    "import seaborn as sns\n",
    "import pickle as pckl\n",
    "%matplotlib inline\n",
    "sns.set_style(\"whitegrid\")\n",
    "\n",
    "import os"
   ]
  },
  {
   "cell_type": "code",
   "execution_count": 2,
   "metadata": {
    "collapsed": true,
    "deletable": true,
    "editable": true
   },
   "outputs": [],
   "source": [
    "import sys\n",
    "\n",
    "sys.path.append('../code/')\n",
    "\n",
    "import make_genesets"
   ]
  },
  {
   "cell_type": "code",
   "execution_count": 7,
   "metadata": {
    "collapsed": true,
    "deletable": true,
    "editable": true
   },
   "outputs": [],
   "source": [
    "for geneset in ['KEGG','BIOCARTA','REACTOME']:\n",
    "    make_genesets.make_overlap_gene_sets(geneset,'dorothea_AB')"
   ]
  },
  {
   "cell_type": "code",
   "execution_count": 3,
   "metadata": {
    "collapsed": true,
    "deletable": true,
    "editable": true
   },
   "outputs": [],
   "source": [
    "#run_viper.R helper_merge_benchmark.py benchmark_progeny.py"
   ]
  },
  {
   "cell_type": "code",
   "execution_count": 11,
   "metadata": {
    "collapsed": true,
    "deletable": true,
    "editable": true
   },
   "outputs": [],
   "source": [
    "#check the random distribution of ROC AUCs\n",
    "results=pd.read_csv('../results/benchmark/rocaucs/progeny/single/random_dist.csv',sep=',',header=0,index_col=0)\n",
    "progeny=pd.read_csv('../results/benchmark/datasets/progeny_meta.csv',\n",
    "                        sep=',',header=0,index_col=0)\n",
    "progeny=progeny['pathway'].value_counts()\n",
    "progeny=progeny[results.index]\n",
    "background=pd.DataFrame(index=results.index,columns=['Mean','Sd','Size'])\n",
    "background['Mean']=np.mean(results,1)\n",
    "background['Sd']=np.std(results,1)\n",
    "background['Size']=progeny"
   ]
  },
  {
   "cell_type": "code",
   "execution_count": 12,
   "metadata": {
    "collapsed": true,
    "deletable": true,
    "editable": true
   },
   "outputs": [],
   "source": [
    "#normalise ROCAUCS\n",
    "fnames=os.listdir('../results/benchmark/rocaucs/progeny/overlap//')\n",
    "data={}\n",
    "for fname in fnames:\n",
    "    data[fname[:-4]]=pd.read_csv('../results/benchmark/rocaucs/progeny/overlap//'+fname,sep=',',header=0,index_col=0)\n",
    "for method in data.keys():\n",
    "    for pw in background.index:\n",
    "        data[method].loc[pw,:]=(data[method].loc[pw,:]-0.5)/background.loc[pw,'Sd']\n",
    "for method in data.keys():\n",
    "    data[method].to_csv('../results/benchmark/z_scores/progeny/overlap//%s.csv' % method, sep=',')"
   ]
  },
  {
   "cell_type": "code",
   "execution_count": 199,
   "metadata": {
    "collapsed": true
   },
   "outputs": [],
   "source": [
    "results=pd.read_csv('../results/benchmark/rocaucs/tcga/single/random_dist.csv',sep=',',header=0,index_col=0)\n",
    "tcga=pd.read_csv('../results/benchmark/datasets/tcga_meta.csv',\n",
    "                        sep=',',header=0,index_col=0)\n",
    "tcga=tcga['TCGA'].value_counts()\n",
    "tcga=tcga[results.index]\n",
    "background=pd.DataFrame(index=results.index,columns=['Mean','Sd','Size'])\n",
    "background['Mean']=np.mean(results,1)\n",
    "background['Sd']=np.std(results,1)\n",
    "background['Size']=tcga"
   ]
  },
  {
   "cell_type": "code",
   "execution_count": 201,
   "metadata": {
    "collapsed": false
   },
   "outputs": [],
   "source": [
    "#normalise ROCAUCS\n",
    "fnames=os.listdir('../results/benchmark/rocaucs/tcga/overlap/')\n",
    "data={}\n",
    "for fname in fnames:\n",
    "    data[fname[:-4]]=pd.read_csv('../results/benchmark/rocaucs/tcga/overlap/'+fname,sep=',',header=0,index_col=0)\n",
    "for method in data.keys():\n",
    "    for pw in background.index:\n",
    "        data[method].loc[pw,:]=(data[method].loc[pw,:]-0.5)/background.loc[pw,'Sd']\n",
    "for method in data.keys():\n",
    "    data[method].to_csv('../results/benchmark/z_scores/tcga/overlap/%s.csv' % method, sep=',')"
   ]
  },
  {
   "cell_type": "code",
   "execution_count": 335,
   "metadata": {
    "collapsed": true,
    "deletable": true,
    "editable": true
   },
   "outputs": [],
   "source": [
    "dname1='KEGG'\n",
    "dname2='dorothea_AB'\n",
    "bname='tcga'\n",
    "abs_type=True\n",
    "size_fil=False\n",
    "th=10"
   ]
  },
  {
   "cell_type": "code",
   "execution_count": 336,
   "metadata": {
    "collapsed": true,
    "deletable": true,
    "editable": true
   },
   "outputs": [],
   "source": [
    "if abs_type:\n",
    "    activity1=pd.read_csv('../results/benchmark/z_scores/%s/single/%s_abs.csv' % (bname,dname1),\n",
    "                              sep=',',header=0,index_col=0).abs().max()\n",
    "    activity2=pd.read_csv('../results/benchmark/z_scores/%s/single/%s_abs.csv' % (bname,dname2),\n",
    "                              sep=',',header=0,index_col=0).abs().max()\n",
    "else:\n",
    "    activity1=pd.read_csv('../results/benchmark/z_scores/%s/single/%s.csv' % (bname,dname1),\n",
    "                              sep=',',header=0,index_col=0).abs().max()\n",
    "    activity2=pd.read_csv('../results/benchmark/z_scores/%s/single/%s.csv' % (bname,dname2),\n",
    "                              sep=',',header=0,index_col=0).abs().max()"
   ]
  },
  {
   "cell_type": "code",
   "execution_count": 337,
   "metadata": {
    "collapsed": false,
    "deletable": true,
    "editable": true
   },
   "outputs": [],
   "source": [
    "good1=activity1.index[activity1>th]\n",
    "good2=activity2.index[activity2>th]"
   ]
  },
  {
   "cell_type": "code",
   "execution_count": 338,
   "metadata": {
    "collapsed": false,
    "deletable": true,
    "editable": true
   },
   "outputs": [],
   "source": [
    "if dname1<dname2:\n",
    "    overlap_name=dname1+'_overlap_'+dname2\n",
    "else:\n",
    "    overlap_name=dname2+'_overlap_'+dname1"
   ]
  },
  {
   "cell_type": "code",
   "execution_count": 339,
   "metadata": {
    "collapsed": false,
    "deletable": true,
    "editable": true
   },
   "outputs": [],
   "source": [
    "if abs_type:\n",
    "    activity1m2=pd.read_csv('../results/benchmark/z_scores/%s/overlap/%s_minus_%s_abs.csv' % (bname,dname1,dname2),\n",
    "                           sep=',',header=0,index_col=0).abs().max()\n",
    "    activity2m1=pd.read_csv('../results/benchmark/z_scores/%s/overlap/%s_minus_%s_abs.csv' % (bname,dname2,dname1),\n",
    "                           sep=',',header=0,index_col=0).abs().max()\n",
    "    activity1o2=pd.read_csv('../results/benchmark/z_scores/%s/overlap/%s_abs.csv' % (bname,overlap_name),\n",
    "                           sep=',',header=0,index_col=0).abs().max()\n",
    "else:\n",
    "    activity1m2=pd.read_csv('../results/benchmark/z_scores/%s/overlap/%s_minus_%s.csv' % (bname,dname1,dname2),\n",
    "                           sep=',',header=0,index_col=0).abs().max()\n",
    "    activity2m1=pd.read_csv('../results/benchmark/z_scores/%s/overlap/%s_minus_%s.csv' % (bname,dname2,dname1),\n",
    "                           sep=',',header=0,index_col=0).abs().max()\n",
    "    activity1o2=pd.read_csv('../results/benchmark/z_scores/%s/overlap/%s.csv' % (bname,overlap_name),\n",
    "                           sep=',',header=0,index_col=0).abs().max()\n"
   ]
  },
  {
   "cell_type": "code",
   "execution_count": 340,
   "metadata": {
    "collapsed": false,
    "deletable": true,
    "editable": true
   },
   "outputs": [],
   "source": [
    "activity1m2=pd.DataFrame(activity1m2,columns=['Score'])\n",
    "if dname1<dname2:\n",
    "    activity1m2['First']=pd.Series(activity1m2.index).apply(lambda x:x.split('*')[0]).values\n",
    "    activity1m2['Second']=pd.Series(activity1m2.index).apply(lambda x:x.split('*')[1]).values\n",
    "else:\n",
    "    activity1m2['Second']=pd.Series(activity1m2.index).apply(lambda x:x.split('*')[0]).values\n",
    "    activity1m2['First']=pd.Series(activity1m2.index).apply(lambda x:x.split('*')[1]).values\n",
    "fil=np.in1d(activity1m2['First'],good1) & np.in1d(activity1m2['Second'],good2)\n",
    "activity1m2=activity1m2[fil]"
   ]
  },
  {
   "cell_type": "code",
   "execution_count": 341,
   "metadata": {
    "collapsed": false
   },
   "outputs": [
    {
     "data": {
      "text/plain": [
       "KEGG_ABC_TRANSPORTERS*ETS1               9.469429\n",
       "KEGG_ABC_TRANSPORTERS*TP53              10.702502\n",
       "KEGG_ACUTE_MYELOID_LEUKEMIA*CTCF         6.986139\n",
       "KEGG_ACUTE_MYELOID_LEUKEMIA*EGR1        10.100702\n",
       "KEGG_ACUTE_MYELOID_LEUKEMIA*GATA3        5.177546\n",
       "KEGG_ACUTE_MYELOID_LEUKEMIA*HNF4A        8.879264\n",
       "KEGG_ACUTE_MYELOID_LEUKEMIA*RUNX1        7.383574\n",
       "KEGG_ACUTE_MYELOID_LEUKEMIA*SP1         14.611859\n",
       "KEGG_ACUTE_MYELOID_LEUKEMIA*STAT1        9.444628\n",
       "KEGG_ACUTE_MYELOID_LEUKEMIA*TAL1         8.574465\n",
       "KEGG_ACUTE_MYELOID_LEUKEMIA*TP53        11.028119\n",
       "KEGG_ADHERENS_JUNCTION*CTCF              7.109094\n",
       "KEGG_ADHERENS_JUNCTION*E2F1             13.558390\n",
       "KEGG_ADHERENS_JUNCTION*ESR1              7.677007\n",
       "KEGG_ADHERENS_JUNCTION*ETS1              9.252628\n",
       "KEGG_ADHERENS_JUNCTION*GATA2             8.183682\n",
       "KEGG_ADHERENS_JUNCTION*GATA3             5.477348\n",
       "KEGG_ADHERENS_JUNCTION*MITF              6.870416\n",
       "KEGG_ADHERENS_JUNCTION*MYC               9.347287\n",
       "KEGG_ADHERENS_JUNCTION*SP1              14.281800\n",
       "KEGG_ADHERENS_JUNCTION*SRF              10.606454\n",
       "KEGG_ADHERENS_JUNCTION*TAL1              8.224142\n",
       "KEGG_ADHERENS_JUNCTION*TCF7L2            6.786709\n",
       "KEGG_ADHERENS_JUNCTION*TFAP2A            9.222370\n",
       "KEGG_ADHERENS_JUNCTION*TFAP2C            6.021705\n",
       "KEGG_ADHERENS_JUNCTION*TP53             10.714161\n",
       "KEGG_ADHERENS_JUNCTION*VDR               4.530595\n",
       "KEGG_ADHERENS_JUNCTION*WT1               6.963778\n",
       "KEGG_ADHERENS_JUNCTION*YY1               7.169484\n",
       "KEGG_ADHERENS_JUNCTION*ZNF263            6.319136\n",
       "                                          ...    \n",
       "KEGG_VEGF_SIGNALING_PATHWAY*STAT1        9.338627\n",
       "KEGG_VEGF_SIGNALING_PATHWAY*TFAP2A       7.772660\n",
       "KEGG_VEGF_SIGNALING_PATHWAY*ZNF263       6.167318\n",
       "KEGG_VIBRIO_CHOLERAE_INFECTION*E2F4     14.543571\n",
       "KEGG_VIBRIO_CHOLERAE_INFECTION*MYC       9.340347\n",
       "KEGG_VIBRIO_CHOLERAE_INFECTION*STAT1     9.402509\n",
       "KEGG_VIRAL_MYOCARDITIS*CEBPA            13.230829\n",
       "KEGG_VIRAL_MYOCARDITIS*EGR1              9.950730\n",
       "KEGG_VIRAL_MYOCARDITIS*FOS               7.778325\n",
       "KEGG_VIRAL_MYOCARDITIS*NFKB1             9.837745\n",
       "KEGG_VIRAL_MYOCARDITIS*SPI1              9.043088\n",
       "KEGG_VIRAL_MYOCARDITIS*SRF              10.692508\n",
       "KEGG_VIRAL_MYOCARDITIS*STAT1             9.182785\n",
       "KEGG_WNT_SIGNALING_PATHWAY*CEBPA        13.149494\n",
       "KEGG_WNT_SIGNALING_PATHWAY*CTCF          7.326712\n",
       "KEGG_WNT_SIGNALING_PATHWAY*E2F1         13.633340\n",
       "KEGG_WNT_SIGNALING_PATHWAY*EGR1         10.004525\n",
       "KEGG_WNT_SIGNALING_PATHWAY*FOS           7.754730\n",
       "KEGG_WNT_SIGNALING_PATHWAY*FOXA1         5.477517\n",
       "KEGG_WNT_SIGNALING_PATHWAY*FOXP1         6.626640\n",
       "KEGG_WNT_SIGNALING_PATHWAY*GATA3         5.193369\n",
       "KEGG_WNT_SIGNALING_PATHWAY*HNF4A         9.448054\n",
       "KEGG_WNT_SIGNALING_PATHWAY*MITF          6.547499\n",
       "KEGG_WNT_SIGNALING_PATHWAY*SOX2          7.822463\n",
       "KEGG_WNT_SIGNALING_PATHWAY*SP1          14.451687\n",
       "KEGG_WNT_SIGNALING_PATHWAY*STAT1         9.507808\n",
       "KEGG_WNT_SIGNALING_PATHWAY*TAL1          8.922013\n",
       "KEGG_WNT_SIGNALING_PATHWAY*TCF7L2        4.857757\n",
       "KEGG_WNT_SIGNALING_PATHWAY*TP53         11.169415\n",
       "KEGG_WNT_SIGNALING_PATHWAY*YY1           8.003732\n",
       "Length: 1920, dtype: float64"
      ]
     },
     "execution_count": 341,
     "metadata": {},
     "output_type": "execute_result"
    }
   ],
   "source": [
    "activity2m1"
   ]
  },
  {
   "cell_type": "code",
   "execution_count": 342,
   "metadata": {
    "collapsed": false,
    "deletable": true,
    "editable": true
   },
   "outputs": [],
   "source": [
    "activity2m1=pd.DataFrame(activity2m1,columns=['Score'])\n",
    "if dname1<dname2:\n",
    "    activity2m1['First']=pd.Series(activity2m1.index).apply(lambda x:x.split('*')[0]).values\n",
    "    activity2m1['Second']=pd.Series(activity2m1.index).apply(lambda x:x.split('*')[1]).values\n",
    "else:\n",
    "    activity2m1['Second']=pd.Series(activity2m1.index).apply(lambda x:x.split('*')[0]).values\n",
    "    activity2m1['First']=pd.Series(activity2m1.index).apply(lambda x:x.split('*')[1]).values\n",
    "fil=np.in1d(activity2m1['First'],good1) & np.in1d(activity2m1['Second'],good2)\n",
    "activity2m1=activity2m1[fil]"
   ]
  },
  {
   "cell_type": "code",
   "execution_count": 343,
   "metadata": {
    "collapsed": false
   },
   "outputs": [],
   "source": [
    "activity1o2=pd.DataFrame(activity1o2,columns=['Score'])\n",
    "if dname1<dname2:\n",
    "    activity1o2['First']=pd.Series(activity1o2.index).apply(lambda x:x.split('*')[0]).values\n",
    "    activity1o2['Second']=pd.Series(activity1o2.index).apply(lambda x:x.split('*')[1]).values\n",
    "else:\n",
    "    activity1o2['Second']=pd.Series(activity1o2.index).apply(lambda x:x.split('*')[0]).values\n",
    "    activity1o2['First']=pd.Series(activity1o2.index).apply(lambda x:x.split('*')[1]).values \n",
    "fil=np.in1d(activity1o2['First'],good1) & np.in1d(activity1o2['Second'],good2)\n",
    "activity1o2=activity1o2[fil]"
   ]
  },
  {
   "cell_type": "code",
   "execution_count": 344,
   "metadata": {
    "collapsed": false
   },
   "outputs": [],
   "source": [
    "activity1=pd.DataFrame(activity1,columns=['Score'])\n",
    "activity1['First']=activity1.index\n",
    "activity1['Second']='None'\n",
    "fil=np.in1d(activity1['First'],good1)\n",
    "activity1=activity1[fil]"
   ]
  },
  {
   "cell_type": "code",
   "execution_count": 345,
   "metadata": {
    "collapsed": true
   },
   "outputs": [],
   "source": [
    "activity2=pd.DataFrame(activity2,columns=['Score'])\n",
    "activity2['First']=activity2.index\n",
    "activity2['Second']='None'\n",
    "fil=np.in1d(activity2['First'],good2)\n",
    "activity2=activity2[fil]"
   ]
  },
  {
   "cell_type": "code",
   "execution_count": 346,
   "metadata": {
    "collapsed": true
   },
   "outputs": [],
   "source": [
    "if dname1=='dorothea_AB':\n",
    "    dname1='DoRothEA'\n",
    "if dname2=='dorothea_AB':\n",
    "    dname2='DoRothEA'"
   ]
  },
  {
   "cell_type": "code",
   "execution_count": 347,
   "metadata": {
    "collapsed": false
   },
   "outputs": [],
   "source": [
    "activity1['Name']=dname1\n",
    "activity2['Name']=dname2\n",
    "activity1m2['Name']=dname1+' - '+dname2\n",
    "activity2m1['Name']=dname2+' - '+dname1\n",
    "activity1o2['Name']=dname1+' & '+dname2\n",
    "activity=pd.concat([activity1,activity2,activity1m2,activity2m1,activity1o2])"
   ]
  },
  {
   "cell_type": "code",
   "execution_count": 349,
   "metadata": {
    "collapsed": false
   },
   "outputs": [
    {
     "data": {
      "text/plain": [
       "<matplotlib.axes._subplots.AxesSubplot at 0x12191f2b0>"
      ]
     },
     "execution_count": 349,
     "metadata": {},
     "output_type": "execute_result"
    },
    {
     "data": {
      "image/png": "[encoded data removed]",
      "text/plain": [
       "<matplotlib.figure.Figure at 0x119b5e780>"
      ]
     },
     "metadata": {},
     "output_type": "display_data"
    }
   ],
   "source": [
    "sns.swarmplot(x='Name',y='Score',data=activity)"
   ]
  },
  {
   "cell_type": "code",
   "execution_count": 296,
   "metadata": {
    "collapsed": false,
    "deletable": true,
    "editable": true
   },
   "outputs": [
    {
     "name": "stdout",
     "output_type": "stream",
     "text": [
      "11.354153763464208 1.3829524044525907\n",
      "10.802990683483813 1.0946875619165655\n",
      "nan nan\n",
      "nan nan\n"
     ]
    },
    {
     "name": "stderr",
     "output_type": "stream",
     "text": [
      "/Users/benceszalai/Library/Enthought/Canopy/edm/envs/Python3/lib/python3.5/site-packages/numpy/core/fromnumeric.py:3257: RuntimeWarning: Mean of empty slice.\n",
      "  out=out, **kwargs)\n",
      "/Users/benceszalai/Library/Enthought/Canopy/edm/envs/Python3/lib/python3.5/site-packages/numpy/core/_methods.py:161: RuntimeWarning: invalid value encountered in double_scalars\n",
      "  ret = ret.dtype.type(ret / rcount)\n",
      "/Users/benceszalai/Library/Enthought/Canopy/edm/envs/Python3/lib/python3.5/site-packages/scipy/stats/stats.py:4897: RuntimeWarning: divide by zero encountered in double_scalars\n",
      "  z = (bigu - meanrank) / sd\n"
     ]
    },
    {
     "data": {
      "text/plain": [
       "MannwhitneyuResult(statistic=0.0, pvalue=0.0)"
      ]
     },
     "execution_count": 296,
     "metadata": {},
     "output_type": "execute_result"
    }
   ],
   "source": [
    "print(np.median(activity1['Score']),np.std(activity1['Score']))\n",
    "print(np.median(activity2['Score']),np.std(activity2['Score']))\n",
    "print(np.median(activity1m2['Score']),np.std(activity1m2['Score']))\n",
    "print(np.median(activity2m1['Score']),np.std(activity2m1['Score']))\n",
    "mwu(activity1m2['Score'],activity2m1['Score'])"
   ]
  },
  {
   "cell_type": "code",
   "execution_count": 178,
   "metadata": {
    "collapsed": true,
    "deletable": true,
    "editable": true
   },
   "outputs": [],
   "source": [
    "from scipy.stats import mannwhitneyu as mwu"
   ]
  },
  {
   "cell_type": "code",
   "execution_count": 179,
   "metadata": {
    "collapsed": false,
    "deletable": true,
    "editable": true
   },
   "outputs": [
    {
     "data": {
      "text/plain": [
       "MannwhitneyuResult(statistic=435099.5, pvalue=2.623675320323336e-08)"
      ]
     },
     "execution_count": 179,
     "metadata": {},
     "output_type": "execute_result"
    }
   ],
   "source": []
  },
  {
   "cell_type": "code",
   "execution_count": 182,
   "metadata": {
    "collapsed": false
   },
   "outputs": [
    {
     "data": {
      "text/plain": [
       "(1008, 4)"
      ]
     },
     "execution_count": 182,
     "metadata": {},
     "output_type": "execute_result"
    }
   ],
   "source": [
    "activity2m1.shape"
   ]
  },
  {
   "cell_type": "code",
   "execution_count": null,
   "metadata": {
    "collapsed": true
   },
   "outputs": [],
   "source": []
  }
 ],
 "metadata": {
  "kernelspec": {
   "display_name": "Python 3",
   "language": "python",
   "name": "python3"
  },
  "language_info": {
   "codemirror_mode": {
    "name": "ipython",
    "version": 3
   },
   "file_extension": ".py",
   "mimetype": "text/x-python",
   "name": "python",
   "nbconvert_exporter": "python",
   "pygments_lexer": "ipython3",
   "version": "3.5.2"
  }
 },
 "nbformat": 4,
 "nbformat_minor": 2
}
