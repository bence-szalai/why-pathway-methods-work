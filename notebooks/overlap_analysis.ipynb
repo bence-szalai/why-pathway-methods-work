{
 "cells": [
  {
   "cell_type": "code",
   "execution_count": 1,
   "metadata": {
    "collapsed": false,
    "deletable": true,
    "editable": true
   },
   "outputs": [],
   "source": [
    "import pandas as pd\n",
    "import numpy as np\n",
    "\n",
    "from matplotlib import pyplot as plt\n",
    "import seaborn as sns\n",
    "import pickle as pckl\n",
    "%matplotlib inline\n",
    "sns.set_style(\"whitegrid\")\n",
    "\n",
    "import os"
   ]
  },
  {
   "cell_type": "code",
   "execution_count": 2,
   "metadata": {
    "collapsed": true,
    "deletable": true,
    "editable": true
   },
   "outputs": [],
   "source": [
    "import sys\n",
    "sys.path.append('../code/')\n",
    "import make_genesets"
   ]
  },
  {
   "cell_type": "code",
   "execution_count": 4,
   "metadata": {
    "collapsed": false,
    "deletable": true,
    "editable": true
   },
   "outputs": [],
   "source": [
    "#get good signature threshold\n",
    "def create_good_geneset_matrix(bname='gdsc',abstype='_abs',rtype='_filtered'):\n",
    "    datasets=['BEST_dorothea_AB','BEST_dorothea_CD','CGP','KEGG','BIOCARTA','REACTOME']\n",
    "    scores=[]\n",
    "    for fname in datasets:\n",
    "        data=pd.read_csv('../results/benchmark/z_scores/%s/single/%s%s%s.csv' % (bname,fname,rtype,abstype),\n",
    "                         sep=',',header=0,index_col=0)\n",
    "        scores+=list(data.values.reshape((1,-1))[0])\n",
    "    scores=np.array(scores)\n",
    "    th=np.std(scores)*2.5\n",
    "    for fname in datasets:\n",
    "        data=pd.read_csv('../results/benchmark/z_scores/%s/single/%s%s%s.csv' % (bname,fname,rtype,abstype),\n",
    "                         sep=',',header=0,index_col=0)\n",
    "        data=(data.abs()>th)*1\n",
    "        data.to_csv('../results/genesets/good/%s/%s%s%s.csv' % (bname,fname,rtype,abstype))"
   ]
  },
  {
   "cell_type": "code",
   "execution_count": 5,
   "metadata": {
    "collapsed": false,
    "deletable": true,
    "editable": true
   },
   "outputs": [],
   "source": [
    "for bname in ['progeny','gdsc']:\n",
    "    for abstype in ['','_abs']:\n",
    "        for rtype in ['_filtered','_random']:\n",
    "            create_good_geneset_matrix(bname,abstype,rtype) "
   ]
  },
  {
   "cell_type": "code",
   "execution_count": 5,
   "metadata": {
    "collapsed": true,
    "deletable": true,
    "editable": true
   },
   "outputs": [],
   "source": [
    "#write filterd gene sets to csv\n",
    "datasets=['BEST_dorothea_AB','BEST_dorothea_CD','CGP','KEGG','BIOCARTA','REACTOME']\n",
    "for dataset in datasets:\n",
    "    make_genesets.make_pickle_from_genese(dataset+'_filtered')"
   ]
  },
  {
   "cell_type": "code",
   "execution_count": 6,
   "metadata": {
    "collapsed": true,
    "deletable": true,
    "editable": true
   },
   "outputs": [],
   "source": [
    "#create overlap gene sets\n",
    "datasets=['BEST_dorothea_AB','BEST_dorothea_CD','CGP','KEGG','BIOCARTA','REACTOME']\n",
    "for dataset1 in datasets:\n",
    "    for dataset2 in datasets:\n",
    "        if dataset1<dataset2:\n",
    "            make_genesets.make_overlap_gene_sets(dataset1+'_filtered',dataset2+'_filtered')"
   ]
  },
  {
   "cell_type": "code",
   "execution_count": 8,
   "metadata": {
    "collapsed": true,
    "deletable": true,
    "editable": true
   },
   "outputs": [],
   "source": [
    "from subprocess import call"
   ]
  },
  {
   "cell_type": "code",
   "execution_count": 9,
   "metadata": {
    "collapsed": false,
    "deletable": true,
    "editable": true
   },
   "outputs": [
    {
     "data": {
      "text/plain": [
       "0"
      ]
     },
     "execution_count": 9,
     "metadata": {},
     "output_type": "execute_result"
    }
   ],
   "source": [
    "call(['Rscript','../code/make_viper_regulon_overlap.R'])"
   ]
  },
  {
   "cell_type": "code",
   "execution_count": null,
   "metadata": {
    "collapsed": true,
    "deletable": true,
    "editable": true
   },
   "outputs": [],
   "source": [
    "call(['python3','../code/benchmark_progeny_overlap.py'])\n",
    "call(['python3','../code/benchmark_gdsc_genomic_overlap.py'])"
   ]
  },
  {
   "cell_type": "code",
   "execution_count": 18,
   "metadata": {
    "collapsed": true,
    "deletable": true,
    "editable": true
   },
   "outputs": [],
   "source": [
    "def merge_gene_sets(setname,fnames):\n",
    "        setnames=[x for x in fnames if (setname in x)]\n",
    "        data=pd.read_csv('../results/genesets/overlap/csvs/%s' % (setnames[0]),\n",
    "                        sep=',',header=0,index_col=0)\n",
    "        for s in setnames[1:]:\n",
    "            new_data=pd.read_csv('../results/genesets/overlap/csvs/%s' % (s),\n",
    "                        sep=',',header=0,index_col=0)\n",
    "            data=pd.concat([data,new_data],0)\n",
    "        data.to_csv('../results/genesets/overlap/csvs_final/%s.csv' % (setname),sep=',')"
   ]
  },
  {
   "cell_type": "code",
   "execution_count": 19,
   "metadata": {
    "collapsed": false,
    "deletable": true,
    "editable": true
   },
   "outputs": [],
   "source": [
    "fnames=os.listdir('../results/genesets/overlap/csvs/')\n",
    "datasets=['BEST_dorothea_AB','BEST_dorothea_CD','CGP','KEGG','BIOCARTA','REACTOME']\n",
    "for dataset1 in datasets:\n",
    "    for dataset2 in datasets:\n",
    "        if dataset1<dataset2:\n",
    "            setname=dataset1+'_filtered_overlap_'+dataset2+'_filtered'\n",
    "            merge_gene_sets(setname,fnames)\n",
    "        if dataset1!=dataset2:\n",
    "            setname=dataset1+'_filtered_minus_'+dataset2+'_filtered'\n",
    "            merge_gene_sets(setname,fnames)\n",
    "\n",
    "            setname=dataset2+'_filtered_minus_'+dataset1+'_filtered'\n",
    "            merge_gene_sets(setname,fnames)       "
   ]
  },
  {
   "cell_type": "code",
   "execution_count": 37,
   "metadata": {
    "collapsed": true,
    "deletable": true,
    "editable": true
   },
   "outputs": [],
   "source": [
    "def merge_gene_set_scores(setname,fnames,benchmark):\n",
    "        setnames=[x for x in fnames if (setname in x) & ~('_abs' in x)]\n",
    "        data=pd.read_csv('../results/benchmark/rocaucs/%s/overlap/%s' % (benchmark,setnames[0]),\n",
    "                        sep=',',header=0,index_col=0)\n",
    "        for s in setnames[1:]:\n",
    "            new_data=pd.read_csv('../results/benchmark/rocaucs/%s/overlap/%s' % (benchmark,s),\n",
    "                        sep=',',header=0,index_col=0)\n",
    "            data=pd.concat([data,new_data],1)\n",
    "        data.to_csv('../results/benchmark/rocaucs/%s/overlap_final/%s.csv' % (benchmark,setname),sep=',')\n",
    "            \n",
    "            \n",
    "        setnames=[x for x in fnames if (setname in x) & ('_abs' in x)]\n",
    "        data=pd.read_csv('../results/benchmark/rocaucs/%s/overlap/%s' % (benchmark,setnames[0]),\n",
    "                        sep=',',header=0,index_col=0)\n",
    "        for s in setnames[1:]:\n",
    "            new_data=pd.read_csv('../results/benchmark/rocaucs/%s/overlap/%s' % (benchmark,s),\n",
    "                                    sep=',',header=0,index_col=0)\n",
    "            data=pd.concat([data,new_data],1)\n",
    "        data.to_csv('../results/benchmark/rocaucs/%s/overlap_final/%s_abs.csv' % (benchmark,setname),sep=',')"
   ]
  },
  {
   "cell_type": "code",
   "execution_count": 38,
   "metadata": {
    "collapsed": false,
    "deletable": true,
    "editable": true
   },
   "outputs": [],
   "source": [
    "#merge small files to large ones\n",
    "datasets=['BEST_dorothea_AB','BEST_dorothea_CD','CGP','KEGG','BIOCARTA','REACTOME']\n",
    "for benchmark in ['progeny','gdsc']:\n",
    "    fnames=os.listdir('../results/benchmark/rocaucs/%s/overlap/' % benchmark)\n",
    "    for dataset1 in datasets:\n",
    "        for dataset2 in datasets:\n",
    "            if dataset1<dataset2:\n",
    "                setname=dataset1+'_filtered_overlap_'+dataset2+'_filtered'\n",
    "                merge_gene_set_scores(setname,fnames,benchmark)\n",
    "            if dataset1!=dataset2:\n",
    "                setname=dataset1+'_filtered_minus_'+dataset2+'_filtered'\n",
    "                merge_gene_set_scores(setname,fnames,benchmark)\n",
    "\n",
    "                setname=dataset2+'_filtered_minus_'+dataset1+'_filtered'\n",
    "                merge_gene_set_scores(setname,fnames,benchmark)       "
   ]
  },
  {
   "cell_type": "markdown",
   "metadata": {
    "deletable": true,
    "editable": true
   },
   "source": [
    "Normalise ROCAUCs."
   ]
  },
  {
   "cell_type": "code",
   "execution_count": 40,
   "metadata": {
    "collapsed": true,
    "deletable": true,
    "editable": true
   },
   "outputs": [],
   "source": [
    "results=pd.read_csv('../results/benchmark/rocaucs/gdsc/random_dist.csv',sep=',',header=0,index_col=0)\n",
    "gdsc=pd.read_csv('../results/benchmark/datasets/gdsc_mut.csv',\n",
    "                        sep=',',header=0,index_col=0)\n",
    "gdsc=gdsc.sum(1)\n",
    "gdsc=gdsc[results.index]\n",
    "background=pd.DataFrame(index=results.index,columns=['Mean','Sd','Size'])\n",
    "background['Mean']=np.mean(results,1)\n",
    "background['Sd']=np.std(results,1)\n",
    "background['Size']=gdsc"
   ]
  },
  {
   "cell_type": "code",
   "execution_count": 41,
   "metadata": {
    "collapsed": true,
    "deletable": true,
    "editable": true
   },
   "outputs": [],
   "source": [
    "fnames=os.listdir('../results/benchmark/rocaucs/gdsc/overlap_final/')\n",
    "try:\n",
    "    fnames.remove('.DS_Store')\n",
    "except:\n",
    "    pass\n",
    "data={}\n",
    "for fname in fnames:\n",
    "    data[fname[:-4]]=pd.read_csv('../results/benchmark/rocaucs/gdsc/overlap_final/'+fname,sep=',',header=0,index_col=0)\n",
    "for method in data.keys():\n",
    "    for pw in background.index:\n",
    "        data[method].loc[pw,:]=(data[method].loc[pw,:]-0.5)/background.loc[pw,'Sd']\n",
    "for method in data.keys():\n",
    "    data[method].to_csv('../results/benchmark/z_scores/gdsc/overlap/%s.csv' % method, sep=',')"
   ]
  },
  {
   "cell_type": "code",
   "execution_count": 42,
   "metadata": {
    "collapsed": true,
    "deletable": true,
    "editable": true
   },
   "outputs": [],
   "source": [
    "results=pd.read_csv('../results/benchmark/rocaucs/progeny/random_dist.csv',sep=',',header=0,index_col=0)\n",
    "progeny=pd.read_csv('../results/benchmark/datasets/progeny_meta.csv',\n",
    "                        sep=',',header=0,index_col=0)\n",
    "progeny=progeny['pathway'].value_counts()\n",
    "progeny=progeny[results.index]\n",
    "background=pd.DataFrame(index=results.index,columns=['Mean','Sd','Size'])\n",
    "background['Mean']=np.mean(results,1)\n",
    "background['Sd']=np.std(results,1)\n",
    "background['Size']=progeny"
   ]
  },
  {
   "cell_type": "code",
   "execution_count": 43,
   "metadata": {
    "collapsed": true,
    "deletable": true,
    "editable": true
   },
   "outputs": [],
   "source": [
    "#normalise ROCAUCS\n",
    "fnames=os.listdir('../results/benchmark/rocaucs/progeny/overlap_final/')\n",
    "try:\n",
    "    fnames.remove('.DS_Store')\n",
    "except:\n",
    "    pass\n",
    "data={}\n",
    "for fname in fnames:\n",
    "    data[fname[:-4]]=pd.read_csv('../results/benchmark/rocaucs/progeny/overlap_final//'+fname,sep=',',header=0,index_col=0)\n",
    "for method in data.keys():\n",
    "    for pw in background.index:\n",
    "        data[method].loc[pw,:]=(data[method].loc[pw,:]-0.5)/background.loc[pw,'Sd']\n",
    "for method in data.keys():\n",
    "    data[method].to_csv('../results/benchmark/z_scores/progeny/overlap/%s.csv' % method, sep=',')"
   ]
  },
  {
   "cell_type": "markdown",
   "metadata": {
    "deletable": true,
    "editable": true
   },
   "source": [
    "test for one pair"
   ]
  },
  {
   "cell_type": "code",
   "execution_count": 3,
   "metadata": {
    "collapsed": true,
    "deletable": true,
    "editable": true
   },
   "outputs": [],
   "source": [
    "dname1='BEST_dorothea_AB'\n",
    "dname2='KEGG'\n",
    "bname='progeny'\n",
    "atype='_abs'"
   ]
  },
  {
   "cell_type": "code",
   "execution_count": 4,
   "metadata": {
    "collapsed": true,
    "deletable": true,
    "editable": true
   },
   "outputs": [],
   "source": [
    "good1=pd.read_csv('../results/genesets/good/%s/%s_filtered%s.csv' % (bname,dname1,atype),\n",
    "                 sep=',',header=0,index_col=0)\n",
    "good2=pd.read_csv('../results/genesets/good/%s/%s_filtered%s.csv' % (bname,dname2,atype),\n",
    "                 sep=',',header=0,index_col=0)"
   ]
  },
  {
   "cell_type": "code",
   "execution_count": 5,
   "metadata": {
    "collapsed": false,
    "deletable": true,
    "editable": true
   },
   "outputs": [],
   "source": [
    "pathways=[]\n",
    "good1set=[]\n",
    "good2set=[]"
   ]
  },
  {
   "cell_type": "code",
   "execution_count": 6,
   "metadata": {
    "collapsed": false,
    "deletable": true,
    "editable": true
   },
   "outputs": [],
   "source": [
    "for s1 in good1.columns:\n",
    "    good_pathways=good1.index[good1[s1]==1]\n",
    "    for pw in good_pathways:\n",
    "        good2.columns[good2.loc[pw]==1]\n",
    "        for pw in good_pathways:\n",
    "            s2=list(good2.columns[good2.loc[pw]==1])\n",
    "            n=len(s2)\n",
    "            pathways+=[pw]*n\n",
    "            good1set+=[s1]*n\n",
    "            good2set+=s2\n",
    "goods=pd.DataFrame(index=range(len(pathways)))\n",
    "goods[dname1]=good1set\n",
    "goods[dname2]=good2set\n",
    "goods['Group']=pathways\n",
    "if dname1<dname2:\n",
    "    goods['Name']=goods[dname1]+'*'+goods[dname2]\n",
    "else:\n",
    "    goods['Name']=goods[dname2]+'*'+goods[dname1]\n"
   ]
  },
  {
   "cell_type": "code",
   "execution_count": 7,
   "metadata": {
    "collapsed": false,
    "deletable": true,
    "editable": true
   },
   "outputs": [],
   "source": [
    "if dname1<dname2:\n",
    "    score_overlap=pd.read_csv('../results/benchmark/z_scores/%s/overlap/%s_filtered_overlap_%s_filtered%s.csv' % (bname,dname1,dname2,atype),\n",
    "                             sep=',',header=0,index_col=0).abs()\n",
    "else:\n",
    "    score_overlap=pd.read_csv('../results/benchmark/z_scores/%s/overlap/%s_filtered_overlap_%s_filtered%s.csv' % (bname,dname2,dname1,atype),\n",
    "                             sep=',',header=0,index_col=0).abs()\n",
    "score_1minus2=pd.read_csv('../results/benchmark/z_scores/%s/overlap/%s_filtered_minus_%s_filtered%s.csv' % (bname,dname1,dname2,atype),\n",
    "                             sep=',',header=0,index_col=0).abs()\n",
    "score_2minus1=pd.read_csv('../results/benchmark/z_scores/%s/overlap/%s_filtered_minus_%s_filtered%s.csv' % (bname,dname2,dname1,atype),\n",
    "                             sep=',',header=0,index_col=0).abs()\n",
    "score1=pd.read_csv('../results/benchmark/z_scores/%s/single/%s_filtered%s.csv' % (bname,dname1,atype),\n",
    "                  sep=',',header=0,index_col=0).abs()\n",
    "score2=pd.read_csv('../results/benchmark/z_scores/%s/single/%s_filtered%s.csv' % (bname,dname2,atype),\n",
    "                  sep=',',header=0,index_col=0).abs()"
   ]
  },
  {
   "cell_type": "code",
   "execution_count": 8,
   "metadata": {
    "collapsed": false,
    "deletable": true,
    "editable": true
   },
   "outputs": [
    {
     "data": {
      "text/plain": [
       "(929, 4)"
      ]
     },
     "execution_count": 8,
     "metadata": {},
     "output_type": "execute_result"
    }
   ],
   "source": [
    "goods.shape"
   ]
  },
  {
   "cell_type": "code",
   "execution_count": 9,
   "metadata": {
    "collapsed": false,
    "deletable": true,
    "editable": true
   },
   "outputs": [],
   "source": [
    "all_sets=list(set(score_overlap.columns)&set(score_1minus2.columns)&set(score_2minus1.columns)&set(goods['Name']))"
   ]
  },
  {
   "cell_type": "code",
   "execution_count": 10,
   "metadata": {
    "collapsed": false,
    "deletable": true,
    "editable": true
   },
   "outputs": [],
   "source": [
    "score_overlap=score_overlap[all_sets]\n",
    "score_1minus2=score_1minus2[all_sets]\n",
    "score_2minus1=score_2minus1[all_sets]\n",
    "fil=np.in1d(goods['Name'],all_sets)\n",
    "goods=goods[fil]"
   ]
  },
  {
   "cell_type": "code",
   "execution_count": 11,
   "metadata": {
    "collapsed": false,
    "deletable": true,
    "editable": true
   },
   "outputs": [],
   "source": [
    "geneset1=pd.read_csv('../results/genesets/single/csvs/%s.csv' % dname1,sep=',',header=0,index_col=0)\n",
    "geneset2=pd.read_csv('../results/genesets/single/csvs/%s.csv' % dname2,sep=',',header=0,index_col=0)\n",
    "if dname1 < dname2:\n",
    "    geneset_overlap=pd.read_csv('../results/genesets/overlap/csvs_final/%s_filtered_overlap_%s_filtered.csv' % (dname1,dname2),\n",
    "                               sep=',',header=0,index_col=0)\n",
    "else:\n",
    "    geneset_overlap=pd.read_csv('../results/genesets/overlap/csvs_final/%s_filtered_overlap_%s_filtered.csv' % (dname2,dname1),\n",
    "                               sep=',',header=0,index_col=0)\n",
    "geneset_1minus2=pd.read_csv('../results/genesets/overlap/csvs_final/%s_filtered_minus_%s_filtered.csv' % (dname1,dname2),\n",
    "                            sep=',',header=0,index_col=0)\n",
    "geneset_2minus1=pd.read_csv('../results/genesets/overlap/csvs_final/%s_filtered_minus_%s_filtered.csv' % (dname2,dname1),\n",
    "                            sep=',',header=0,index_col=0)\n"
   ]
  },
  {
   "cell_type": "code",
   "execution_count": 12,
   "metadata": {
    "collapsed": false,
    "deletable": true,
    "editable": true
   },
   "outputs": [],
   "source": [
    "geneset1=geneset1['Set'].value_counts()\n",
    "geneset2=geneset2['Set'].value_counts()\n",
    "geneset_overlap=geneset_overlap['Set'].value_counts()\n",
    "geneset_1minus2=geneset_1minus2['Set'].value_counts()\n",
    "geneset_2minus1=geneset_2minus1['Set'].value_counts()"
   ]
  },
  {
   "cell_type": "code",
   "execution_count": 13,
   "metadata": {
    "collapsed": false,
    "deletable": true,
    "editable": true
   },
   "outputs": [],
   "source": [
    "geneset1=geneset1[goods[dname1]].values\n",
    "geneset2=geneset2[goods[dname2]].values\n",
    "geneset_overlap=geneset_overlap[goods['Name']].values\n",
    "geneset_1minus2=geneset_1minus2[goods['Name']].values\n",
    "geneset_2minus1=geneset_2minus1[goods['Name']].values"
   ]
  },
  {
   "cell_type": "code",
   "execution_count": 14,
   "metadata": {
    "collapsed": false,
    "deletable": true,
    "editable": true
   },
   "outputs": [],
   "source": [
    "results_genesets=pd.DataFrame(index=range(len(geneset_overlap)))\n",
    "results_genesets[dname1]=geneset1\n",
    "results_genesets[dname2]=geneset2\n",
    "results_genesets[dname1+' & '+dname2]=geneset_overlap\n",
    "results_genesets[dname1+' - '+dname2]=geneset_1minus2\n",
    "results_genesets[dname2+' - '+dname1]=geneset_2minus1"
   ]
  },
  {
   "cell_type": "code",
   "execution_count": 15,
   "metadata": {
    "collapsed": false,
    "deletable": true,
    "editable": true
   },
   "outputs": [],
   "source": [
    "row_index=pd.Series(range(len(score_overlap.index)),index=score_overlap.index)\n",
    "col_index=pd.Series(range(len(score_overlap.columns)),index=score_overlap.columns)\n",
    "score_overlap=score_overlap.values[list(row_index[goods['Group']].values),list(col_index[goods['Name']].values)]\n",
    "\n",
    "row_index=pd.Series(range(len(score_1minus2.index)),index=score_1minus2.index)\n",
    "col_index=pd.Series(range(len(score_1minus2.columns)),index=score_1minus2.columns)\n",
    "score_1minus2=score_1minus2.values[list(row_index[goods['Group']].values),list(col_index[goods['Name']].values)]\n",
    "\n",
    "row_index=pd.Series(range(len(score_2minus1.index)),index=score_2minus1.index)\n",
    "col_index=pd.Series(range(len(score_2minus1.columns)),index=score_2minus1.columns)\n",
    "score_2minus1=score_2minus1.values[list(row_index[goods['Group']].values),list(col_index[goods['Name']].values)]\n",
    "\n",
    "row_index=pd.Series(range(len(score1.index)),index=score1.index)\n",
    "col_index=pd.Series(range(len(score1.columns)),index=score1.columns)\n",
    "score1=score1.values[list(row_index[goods['Group']].values),list(col_index[goods[dname1]].values)]\n",
    "\n",
    "row_index=pd.Series(range(len(score2.index)),index=score2.index)\n",
    "col_index=pd.Series(range(len(score2.columns)),index=score2.columns)\n",
    "score2=score2.values[list(row_index[goods['Group']].values),list(col_index[goods[dname2]].values)]"
   ]
  },
  {
   "cell_type": "code",
   "execution_count": 16,
   "metadata": {
    "collapsed": false,
    "deletable": true,
    "editable": true
   },
   "outputs": [],
   "source": [
    "results=pd.DataFrame(index=range(len(score_overlap)))\n",
    "results[dname1]=score1\n",
    "results[dname2]=score2\n",
    "results[dname1+' & '+dname2]=score_overlap\n",
    "results[dname1+' - '+dname2]=score_1minus2\n",
    "results[dname2+' - '+dname1]=score_2minus1"
   ]
  },
  {
   "cell_type": "code",
   "execution_count": 17,
   "metadata": {
    "collapsed": false,
    "deletable": true,
    "editable": true
   },
   "outputs": [
    {
     "data": {
      "text/plain": [
       "MannwhitneyuResult(statistic=26756.0, pvalue=8.990697195238878e-39)"
      ]
     },
     "execution_count": 17,
     "metadata": {},
     "output_type": "execute_result"
    }
   ],
   "source": [
    "from scipy.stats import mannwhitneyu as mwu\n",
    "from scipy.stats import ttest_rel\n",
    "mwu(results['KEGG'],results['KEGG - BEST_dorothea_AB'])"
   ]
  },
  {
   "cell_type": "code",
   "execution_count": 36,
   "metadata": {
    "collapsed": false,
    "deletable": true,
    "editable": true
   },
   "outputs": [
    {
     "data": {
      "text/plain": [
       "(19.0, 13.0)"
      ]
     },
     "execution_count": 36,
     "metadata": {},
     "output_type": "execute_result"
    }
   ],
   "source": [
    "np.median(results_genesets['BIOCARTA']),np.median(results_genesets['BIOCARTA - BEST_dorothea_AB'])"
   ]
  },
  {
   "cell_type": "code",
   "execution_count": 17,
   "metadata": {
    "collapsed": false,
    "deletable": true,
    "editable": true
   },
   "outputs": [],
   "source": [
    "results=pd.melt(results)\n",
    "results_genesets=pd.melt(results_genesets)"
   ]
  },
  {
   "cell_type": "code",
   "execution_count": 18,
   "metadata": {
    "collapsed": false,
    "deletable": true,
    "editable": true
   },
   "outputs": [],
   "source": [
    "results.columns=['Gene set','Informative score']\n",
    "results_genesets.columns=['Gene set','Size']"
   ]
  },
  {
   "cell_type": "code",
   "execution_count": 19,
   "metadata": {
    "collapsed": false,
    "deletable": true,
    "editable": true
   },
   "outputs": [],
   "source": [
    "results_all=pd.concat([results,results_genesets],1)\n",
    "\n",
    "results_all.columns=['Set1','Score','Set2','Size']"
   ]
  },
  {
   "cell_type": "code",
   "execution_count": 20,
   "metadata": {
    "collapsed": true,
    "deletable": true,
    "editable": true
   },
   "outputs": [],
   "source": [
    "import statsmodels.api as sm\n",
    "from statsmodels.formula.api import ols\n"
   ]
  },
  {
   "cell_type": "code",
   "execution_count": 21,
   "metadata": {
    "collapsed": false,
    "deletable": true,
    "editable": true
   },
   "outputs": [],
   "source": [
    "model=ols('Score ~ Set1 + Size',data=results_all[np.in1d(results_all['Set1'],[dname1+' - '+dname2,\n",
    "                                                                            dname2+' - '+dname1])]).fit()"
   ]
  },
  {
   "cell_type": "code",
   "execution_count": 22,
   "metadata": {
    "collapsed": false,
    "deletable": true,
    "editable": true
   },
   "outputs": [
    {
     "data": {
      "text/html": [
       "<div>\n",
       "<style scoped>\n",
       "    .dataframe tbody tr th:only-of-type {\n",
       "        vertical-align: middle;\n",
       "    }\n",
       "\n",
       "    .dataframe tbody tr th {\n",
       "        vertical-align: top;\n",
       "    }\n",
       "\n",
       "    .dataframe thead th {\n",
       "        text-align: right;\n",
       "    }\n",
       "</style>\n",
       "<table border=\"1\" class=\"dataframe\">\n",
       "  <thead>\n",
       "    <tr style=\"text-align: right;\">\n",
       "      <th></th>\n",
       "      <th>sum_sq</th>\n",
       "      <th>df</th>\n",
       "      <th>F</th>\n",
       "      <th>PR(&gt;F)</th>\n",
       "    </tr>\n",
       "  </thead>\n",
       "  <tbody>\n",
       "    <tr>\n",
       "      <th>Set1</th>\n",
       "      <td>185.542727</td>\n",
       "      <td>1.0</td>\n",
       "      <td>35.830079</td>\n",
       "      <td>3.882139e-09</td>\n",
       "    </tr>\n",
       "    <tr>\n",
       "      <th>Size</th>\n",
       "      <td>19.731220</td>\n",
       "      <td>1.0</td>\n",
       "      <td>3.810288</td>\n",
       "      <td>5.144484e-02</td>\n",
       "    </tr>\n",
       "    <tr>\n",
       "      <th>Residual</th>\n",
       "      <td>2853.302152</td>\n",
       "      <td>551.0</td>\n",
       "      <td>NaN</td>\n",
       "      <td>NaN</td>\n",
       "    </tr>\n",
       "  </tbody>\n",
       "</table>\n",
       "</div>"
      ],
      "text/plain": [
       "               sum_sq     df          F        PR(>F)\n",
       "Set1       185.542727    1.0  35.830079  3.882139e-09\n",
       "Size        19.731220    1.0   3.810288  5.144484e-02\n",
       "Residual  2853.302152  551.0        NaN           NaN"
      ]
     },
     "execution_count": 22,
     "metadata": {},
     "output_type": "execute_result"
    }
   ],
   "source": [
    "sm.stats.anova_lm(model, typ=2)"
   ]
  },
  {
   "cell_type": "code",
   "execution_count": 24,
   "metadata": {
    "collapsed": false,
    "deletable": true,
    "editable": true
   },
   "outputs": [
    {
     "name": "stderr",
     "output_type": "stream",
     "text": [
      "/Users/benceszalai/Library/Enthought/Canopy/edm/envs/Python3/lib/python3.5/site-packages/scipy/stats/stats.py:1706: FutureWarning: Using a non-tuple sequence for multidimensional indexing is deprecated; use `arr[tuple(seq)]` instead of `arr[seq]`. In the future this will be interpreted as an array index, `arr[np.array(seq)]`, which will result either in an error or a different result.\n",
      "  return np.add.reduce(sorted[indexer] * weights, axis=axis) / sumval\n"
     ]
    },
    {
     "data": {
      "text/plain": [
       "<matplotlib.axes._subplots.AxesSubplot at 0x12030af60>"
      ]
     },
     "execution_count": 24,
     "metadata": {},
     "output_type": "execute_result"
    },
    {
     "data": {
      "image/png": "[encoded data removed]",
      "text/plain": [
       "<matplotlib.figure.Figure at 0x12830d940>"
      ]
     },
     "metadata": {},
     "output_type": "display_data"
    }
   ],
   "source": [
    "sns.violinplot(x='Set1',y='Size',data=results_all)"
   ]
  },
  {
   "cell_type": "code",
   "execution_count": 144,
   "metadata": {
    "collapsed": false,
    "deletable": true,
    "editable": true
   },
   "outputs": [
    {
     "data": {
      "text/plain": [
       "array(['BEST_dorothea_AB', 'BIOCARTA', 'BEST_dorothea_AB & BIOCARTA',\n",
       "       'BEST_dorothea_AB - BIOCARTA', 'BIOCARTA - BEST_dorothea_AB'],\n",
       "      dtype=object)"
      ]
     },
     "execution_count": 144,
     "metadata": {},
     "output_type": "execute_result"
    }
   ],
   "source": [
    "results_all['Set1'].unique()"
   ]
  },
  {
   "cell_type": "code",
   "execution_count": 114,
   "metadata": {
    "collapsed": false,
    "deletable": true,
    "editable": true
   },
   "outputs": [
    {
     "data": {
      "text/plain": [
       "(1755, 2)"
      ]
     },
     "execution_count": 114,
     "metadata": {},
     "output_type": "execute_result"
    }
   ],
   "source": [
    "results.shape"
   ]
  },
  {
   "cell_type": "code",
   "execution_count": 155,
   "metadata": {
    "collapsed": false,
    "deletable": true,
    "editable": true
   },
   "outputs": [
    {
     "name": "stderr",
     "output_type": "stream",
     "text": [
      "/Users/benceszalai/Library/Enthought/Canopy/edm/envs/Python3/lib/python3.5/site-packages/scipy/stats/stats.py:1706: FutureWarning: Using a non-tuple sequence for multidimensional indexing is deprecated; use `arr[tuple(seq)]` instead of `arr[seq]`. In the future this will be interpreted as an array index, `arr[np.array(seq)]`, which will result either in an error or a different result.\n",
      "  return np.add.reduce(sorted[indexer] * weights, axis=axis) / sumval\n"
     ]
    },
    {
     "data": {
      "text/plain": [
       "<matplotlib.axes._subplots.AxesSubplot at 0x18c135d68>"
      ]
     },
     "execution_count": 155,
     "metadata": {},
     "output_type": "execute_result"
    },
    {
     "data": {
      "image/png": "[encoded data removed]",
      "text/plain": [
       "<matplotlib.figure.Figure at 0x108bc07f0>"
      ]
     },
     "metadata": {},
     "output_type": "display_data"
    }
   ],
   "source": [
    "sns.violinplot(x='Gene set',y='Size',data=results_genesets)"
   ]
  },
  {
   "cell_type": "code",
   "execution_count": 39,
   "metadata": {
    "collapsed": false,
    "deletable": true,
    "editable": true
   },
   "outputs": [
    {
     "data": {
      "text/html": [
       "<div>\n",
       "<style scoped>\n",
       "    .dataframe tbody tr th:only-of-type {\n",
       "        vertical-align: middle;\n",
       "    }\n",
       "\n",
       "    .dataframe tbody tr th {\n",
       "        vertical-align: top;\n",
       "    }\n",
       "\n",
       "    .dataframe thead th {\n",
       "        text-align: right;\n",
       "    }\n",
       "</style>\n",
       "<table border=\"1\" class=\"dataframe\">\n",
       "  <thead>\n",
       "    <tr style=\"text-align: right;\">\n",
       "      <th></th>\n",
       "      <th>Gene set</th>\n",
       "      <th>Size</th>\n",
       "    </tr>\n",
       "  </thead>\n",
       "  <tbody>\n",
       "    <tr>\n",
       "      <th>0</th>\n",
       "      <td>KEGG</td>\n",
       "      <td>57.0</td>\n",
       "    </tr>\n",
       "    <tr>\n",
       "      <th>1</th>\n",
       "      <td>KEGG</td>\n",
       "      <td>57.0</td>\n",
       "    </tr>\n",
       "    <tr>\n",
       "      <th>2</th>\n",
       "      <td>KEGG</td>\n",
       "      <td>57.0</td>\n",
       "    </tr>\n",
       "    <tr>\n",
       "      <th>3</th>\n",
       "      <td>KEGG</td>\n",
       "      <td>57.0</td>\n",
       "    </tr>\n",
       "    <tr>\n",
       "      <th>4</th>\n",
       "      <td>KEGG</td>\n",
       "      <td>57.0</td>\n",
       "    </tr>\n",
       "    <tr>\n",
       "      <th>5</th>\n",
       "      <td>KEGG</td>\n",
       "      <td>57.0</td>\n",
       "    </tr>\n",
       "    <tr>\n",
       "      <th>6</th>\n",
       "      <td>KEGG</td>\n",
       "      <td>57.0</td>\n",
       "    </tr>\n",
       "    <tr>\n",
       "      <th>7</th>\n",
       "      <td>KEGG</td>\n",
       "      <td>57.0</td>\n",
       "    </tr>\n",
       "    <tr>\n",
       "      <th>8</th>\n",
       "      <td>KEGG</td>\n",
       "      <td>57.0</td>\n",
       "    </tr>\n",
       "    <tr>\n",
       "      <th>9</th>\n",
       "      <td>KEGG</td>\n",
       "      <td>57.0</td>\n",
       "    </tr>\n",
       "    <tr>\n",
       "      <th>10</th>\n",
       "      <td>KEGG</td>\n",
       "      <td>57.0</td>\n",
       "    </tr>\n",
       "    <tr>\n",
       "      <th>11</th>\n",
       "      <td>KEGG</td>\n",
       "      <td>57.0</td>\n",
       "    </tr>\n",
       "    <tr>\n",
       "      <th>12</th>\n",
       "      <td>KEGG</td>\n",
       "      <td>57.0</td>\n",
       "    </tr>\n",
       "    <tr>\n",
       "      <th>13</th>\n",
       "      <td>KEGG</td>\n",
       "      <td>57.0</td>\n",
       "    </tr>\n",
       "    <tr>\n",
       "      <th>14</th>\n",
       "      <td>KEGG</td>\n",
       "      <td>57.0</td>\n",
       "    </tr>\n",
       "    <tr>\n",
       "      <th>15</th>\n",
       "      <td>KEGG</td>\n",
       "      <td>57.0</td>\n",
       "    </tr>\n",
       "    <tr>\n",
       "      <th>16</th>\n",
       "      <td>KEGG</td>\n",
       "      <td>57.0</td>\n",
       "    </tr>\n",
       "    <tr>\n",
       "      <th>17</th>\n",
       "      <td>KEGG</td>\n",
       "      <td>57.0</td>\n",
       "    </tr>\n",
       "    <tr>\n",
       "      <th>18</th>\n",
       "      <td>KEGG</td>\n",
       "      <td>57.0</td>\n",
       "    </tr>\n",
       "    <tr>\n",
       "      <th>19</th>\n",
       "      <td>KEGG</td>\n",
       "      <td>57.0</td>\n",
       "    </tr>\n",
       "    <tr>\n",
       "      <th>20</th>\n",
       "      <td>KEGG</td>\n",
       "      <td>57.0</td>\n",
       "    </tr>\n",
       "    <tr>\n",
       "      <th>21</th>\n",
       "      <td>KEGG</td>\n",
       "      <td>57.0</td>\n",
       "    </tr>\n",
       "    <tr>\n",
       "      <th>22</th>\n",
       "      <td>KEGG</td>\n",
       "      <td>57.0</td>\n",
       "    </tr>\n",
       "    <tr>\n",
       "      <th>23</th>\n",
       "      <td>KEGG</td>\n",
       "      <td>57.0</td>\n",
       "    </tr>\n",
       "    <tr>\n",
       "      <th>24</th>\n",
       "      <td>KEGG</td>\n",
       "      <td>57.0</td>\n",
       "    </tr>\n",
       "    <tr>\n",
       "      <th>25</th>\n",
       "      <td>KEGG</td>\n",
       "      <td>57.0</td>\n",
       "    </tr>\n",
       "    <tr>\n",
       "      <th>26</th>\n",
       "      <td>KEGG</td>\n",
       "      <td>57.0</td>\n",
       "    </tr>\n",
       "    <tr>\n",
       "      <th>27</th>\n",
       "      <td>KEGG</td>\n",
       "      <td>57.0</td>\n",
       "    </tr>\n",
       "    <tr>\n",
       "      <th>28</th>\n",
       "      <td>KEGG</td>\n",
       "      <td>57.0</td>\n",
       "    </tr>\n",
       "    <tr>\n",
       "      <th>29</th>\n",
       "      <td>KEGG</td>\n",
       "      <td>57.0</td>\n",
       "    </tr>\n",
       "    <tr>\n",
       "      <th>...</th>\n",
       "      <td>...</td>\n",
       "      <td>...</td>\n",
       "    </tr>\n",
       "    <tr>\n",
       "      <th>6105</th>\n",
       "      <td>BEST_dorothea_AB - KEGG</td>\n",
       "      <td>NaN</td>\n",
       "    </tr>\n",
       "    <tr>\n",
       "      <th>6106</th>\n",
       "      <td>BEST_dorothea_AB - KEGG</td>\n",
       "      <td>NaN</td>\n",
       "    </tr>\n",
       "    <tr>\n",
       "      <th>6107</th>\n",
       "      <td>BEST_dorothea_AB - KEGG</td>\n",
       "      <td>NaN</td>\n",
       "    </tr>\n",
       "    <tr>\n",
       "      <th>6108</th>\n",
       "      <td>BEST_dorothea_AB - KEGG</td>\n",
       "      <td>NaN</td>\n",
       "    </tr>\n",
       "    <tr>\n",
       "      <th>6109</th>\n",
       "      <td>BEST_dorothea_AB - KEGG</td>\n",
       "      <td>NaN</td>\n",
       "    </tr>\n",
       "    <tr>\n",
       "      <th>6110</th>\n",
       "      <td>BEST_dorothea_AB - KEGG</td>\n",
       "      <td>NaN</td>\n",
       "    </tr>\n",
       "    <tr>\n",
       "      <th>6111</th>\n",
       "      <td>BEST_dorothea_AB - KEGG</td>\n",
       "      <td>NaN</td>\n",
       "    </tr>\n",
       "    <tr>\n",
       "      <th>6112</th>\n",
       "      <td>BEST_dorothea_AB - KEGG</td>\n",
       "      <td>NaN</td>\n",
       "    </tr>\n",
       "    <tr>\n",
       "      <th>6113</th>\n",
       "      <td>BEST_dorothea_AB - KEGG</td>\n",
       "      <td>NaN</td>\n",
       "    </tr>\n",
       "    <tr>\n",
       "      <th>6114</th>\n",
       "      <td>BEST_dorothea_AB - KEGG</td>\n",
       "      <td>NaN</td>\n",
       "    </tr>\n",
       "    <tr>\n",
       "      <th>6115</th>\n",
       "      <td>BEST_dorothea_AB - KEGG</td>\n",
       "      <td>NaN</td>\n",
       "    </tr>\n",
       "    <tr>\n",
       "      <th>6116</th>\n",
       "      <td>BEST_dorothea_AB - KEGG</td>\n",
       "      <td>NaN</td>\n",
       "    </tr>\n",
       "    <tr>\n",
       "      <th>6117</th>\n",
       "      <td>BEST_dorothea_AB - KEGG</td>\n",
       "      <td>NaN</td>\n",
       "    </tr>\n",
       "    <tr>\n",
       "      <th>6118</th>\n",
       "      <td>BEST_dorothea_AB - KEGG</td>\n",
       "      <td>NaN</td>\n",
       "    </tr>\n",
       "    <tr>\n",
       "      <th>6119</th>\n",
       "      <td>BEST_dorothea_AB - KEGG</td>\n",
       "      <td>NaN</td>\n",
       "    </tr>\n",
       "    <tr>\n",
       "      <th>6120</th>\n",
       "      <td>BEST_dorothea_AB - KEGG</td>\n",
       "      <td>NaN</td>\n",
       "    </tr>\n",
       "    <tr>\n",
       "      <th>6121</th>\n",
       "      <td>BEST_dorothea_AB - KEGG</td>\n",
       "      <td>NaN</td>\n",
       "    </tr>\n",
       "    <tr>\n",
       "      <th>6122</th>\n",
       "      <td>BEST_dorothea_AB - KEGG</td>\n",
       "      <td>NaN</td>\n",
       "    </tr>\n",
       "    <tr>\n",
       "      <th>6123</th>\n",
       "      <td>BEST_dorothea_AB - KEGG</td>\n",
       "      <td>NaN</td>\n",
       "    </tr>\n",
       "    <tr>\n",
       "      <th>6124</th>\n",
       "      <td>BEST_dorothea_AB - KEGG</td>\n",
       "      <td>NaN</td>\n",
       "    </tr>\n",
       "    <tr>\n",
       "      <th>6125</th>\n",
       "      <td>BEST_dorothea_AB - KEGG</td>\n",
       "      <td>NaN</td>\n",
       "    </tr>\n",
       "    <tr>\n",
       "      <th>6126</th>\n",
       "      <td>BEST_dorothea_AB - KEGG</td>\n",
       "      <td>NaN</td>\n",
       "    </tr>\n",
       "    <tr>\n",
       "      <th>6127</th>\n",
       "      <td>BEST_dorothea_AB - KEGG</td>\n",
       "      <td>NaN</td>\n",
       "    </tr>\n",
       "    <tr>\n",
       "      <th>6128</th>\n",
       "      <td>BEST_dorothea_AB - KEGG</td>\n",
       "      <td>NaN</td>\n",
       "    </tr>\n",
       "    <tr>\n",
       "      <th>6129</th>\n",
       "      <td>BEST_dorothea_AB - KEGG</td>\n",
       "      <td>NaN</td>\n",
       "    </tr>\n",
       "    <tr>\n",
       "      <th>6130</th>\n",
       "      <td>BEST_dorothea_AB - KEGG</td>\n",
       "      <td>NaN</td>\n",
       "    </tr>\n",
       "    <tr>\n",
       "      <th>6131</th>\n",
       "      <td>BEST_dorothea_AB - KEGG</td>\n",
       "      <td>NaN</td>\n",
       "    </tr>\n",
       "    <tr>\n",
       "      <th>6132</th>\n",
       "      <td>BEST_dorothea_AB - KEGG</td>\n",
       "      <td>NaN</td>\n",
       "    </tr>\n",
       "    <tr>\n",
       "      <th>6133</th>\n",
       "      <td>BEST_dorothea_AB - KEGG</td>\n",
       "      <td>NaN</td>\n",
       "    </tr>\n",
       "    <tr>\n",
       "      <th>6134</th>\n",
       "      <td>BEST_dorothea_AB - KEGG</td>\n",
       "      <td>NaN</td>\n",
       "    </tr>\n",
       "  </tbody>\n",
       "</table>\n",
       "<p>6135 rows × 2 columns</p>\n",
       "</div>"
      ],
      "text/plain": [
       "                     Gene set  Size\n",
       "0                        KEGG  57.0\n",
       "1                        KEGG  57.0\n",
       "2                        KEGG  57.0\n",
       "3                        KEGG  57.0\n",
       "4                        KEGG  57.0\n",
       "5                        KEGG  57.0\n",
       "6                        KEGG  57.0\n",
       "7                        KEGG  57.0\n",
       "8                        KEGG  57.0\n",
       "9                        KEGG  57.0\n",
       "10                       KEGG  57.0\n",
       "11                       KEGG  57.0\n",
       "12                       KEGG  57.0\n",
       "13                       KEGG  57.0\n",
       "14                       KEGG  57.0\n",
       "15                       KEGG  57.0\n",
       "16                       KEGG  57.0\n",
       "17                       KEGG  57.0\n",
       "18                       KEGG  57.0\n",
       "19                       KEGG  57.0\n",
       "20                       KEGG  57.0\n",
       "21                       KEGG  57.0\n",
       "22                       KEGG  57.0\n",
       "23                       KEGG  57.0\n",
       "24                       KEGG  57.0\n",
       "25                       KEGG  57.0\n",
       "26                       KEGG  57.0\n",
       "27                       KEGG  57.0\n",
       "28                       KEGG  57.0\n",
       "29                       KEGG  57.0\n",
       "...                       ...   ...\n",
       "6105  BEST_dorothea_AB - KEGG   NaN\n",
       "6106  BEST_dorothea_AB - KEGG   NaN\n",
       "6107  BEST_dorothea_AB - KEGG   NaN\n",
       "6108  BEST_dorothea_AB - KEGG   NaN\n",
       "6109  BEST_dorothea_AB - KEGG   NaN\n",
       "6110  BEST_dorothea_AB - KEGG   NaN\n",
       "6111  BEST_dorothea_AB - KEGG   NaN\n",
       "6112  BEST_dorothea_AB - KEGG   NaN\n",
       "6113  BEST_dorothea_AB - KEGG   NaN\n",
       "6114  BEST_dorothea_AB - KEGG   NaN\n",
       "6115  BEST_dorothea_AB - KEGG   NaN\n",
       "6116  BEST_dorothea_AB - KEGG   NaN\n",
       "6117  BEST_dorothea_AB - KEGG   NaN\n",
       "6118  BEST_dorothea_AB - KEGG   NaN\n",
       "6119  BEST_dorothea_AB - KEGG   NaN\n",
       "6120  BEST_dorothea_AB - KEGG   NaN\n",
       "6121  BEST_dorothea_AB - KEGG   NaN\n",
       "6122  BEST_dorothea_AB - KEGG   NaN\n",
       "6123  BEST_dorothea_AB - KEGG   NaN\n",
       "6124  BEST_dorothea_AB - KEGG   NaN\n",
       "6125  BEST_dorothea_AB - KEGG   NaN\n",
       "6126  BEST_dorothea_AB - KEGG   NaN\n",
       "6127  BEST_dorothea_AB - KEGG   NaN\n",
       "6128  BEST_dorothea_AB - KEGG   NaN\n",
       "6129  BEST_dorothea_AB - KEGG   NaN\n",
       "6130  BEST_dorothea_AB - KEGG   NaN\n",
       "6131  BEST_dorothea_AB - KEGG   NaN\n",
       "6132  BEST_dorothea_AB - KEGG   NaN\n",
       "6133  BEST_dorothea_AB - KEGG   NaN\n",
       "6134  BEST_dorothea_AB - KEGG   NaN\n",
       "\n",
       "[6135 rows x 2 columns]"
      ]
     },
     "execution_count": 39,
     "metadata": {},
     "output_type": "execute_result"
    }
   ],
   "source": [
    "results_genesets"
   ]
  },
  {
   "cell_type": "code",
   "execution_count": 25,
   "metadata": {
    "collapsed": false,
    "deletable": true,
    "editable": true
   },
   "outputs": [],
   "source": [
    "all_size=pd.DataFrame(columns=['Set','Size'])\n",
    "all_scores=pd.DataFrame(columns=['Set','Score'])\n",
    "datasets=['BEST_dorothea_AB','BEST_dorothea_CD','KEGG','BIOCARTA','REACTOME','CGP']\n",
    "for geneset in datasets:\n",
    "    size=pd.read_csv('../results/genesets/single/csvs/'+geneset+'_filtered.csv',sep=',',header=0,index_col=0)['Set'].value_counts()\n",
    "    size=pd.DataFrame(size)\n",
    "    size['X']=geneset\n",
    "    size.columns=['Size','Set']\n",
    "    size=size[['Set','Size']]\n",
    "    all_size=pd.concat([all_size,size])\n",
    "    score=pd.read_csv('../results/benchmark/z_scores/progeny/single/'+geneset+'_filtered_abs.csv',\n",
    "                   sep=',',header=0,index_col=0).abs().max()\n",
    "    score=pd.DataFrame(score)\n",
    "    score['X']=geneset\n",
    "    score.columns=['Score','Set']\n",
    "    score=score[['Set','Score']]\n",
    "    all_scores=pd.concat([all_scores,score])"
   ]
  },
  {
   "cell_type": "code",
   "execution_count": 26,
   "metadata": {
    "collapsed": false,
    "deletable": true,
    "editable": true
   },
   "outputs": [],
   "source": [
    "from scipy.stats import pearsonr as pcor\n",
    "all_size=all_size.loc[all_scores.index]"
   ]
  },
  {
   "cell_type": "code",
   "execution_count": 27,
   "metadata": {
    "collapsed": false,
    "deletable": true,
    "editable": true
   },
   "outputs": [
    {
     "data": {
      "text/plain": [
       "<matplotlib.axes._subplots.AxesSubplot at 0x11838d160>"
      ]
     },
     "execution_count": 27,
     "metadata": {},
     "output_type": "execute_result"
    },
    {
     "data": {
      "image/png": "[encoded data removed]",
      "text/plain": [
       "<matplotlib.figure.Figure at 0x1183a91d0>"
      ]
     },
     "metadata": {},
     "output_type": "display_data"
    }
   ],
   "source": [
    "sns.scatterplot(all_scores['Score'],all_size['Size'],hue=all_scores['Set'])"
   ]
  },
  {
   "cell_type": "code",
   "execution_count": 28,
   "metadata": {
    "collapsed": false,
    "deletable": true,
    "editable": true
   },
   "outputs": [
    {
     "data": {
      "text/plain": [
       "(0.18717852777388733, 5.315752974860698e-40)"
      ]
     },
     "execution_count": 28,
     "metadata": {},
     "output_type": "execute_result"
    }
   ],
   "source": [
    "pcor(all_scores['Score'],all_size['Size'])"
   ]
  },
  {
   "cell_type": "code",
   "execution_count": 179,
   "metadata": {
    "collapsed": false,
    "deletable": true,
    "editable": true
   },
   "outputs": [
    {
     "data": {
      "text/plain": [
       "(4916, 2)"
      ]
     },
     "execution_count": 179,
     "metadata": {},
     "output_type": "execute_result"
    }
   ],
   "source": [
    "all_scores.shape"
   ]
  },
  {
   "cell_type": "code",
   "execution_count": 180,
   "metadata": {
    "collapsed": false,
    "deletable": true,
    "editable": true
   },
   "outputs": [
    {
     "data": {
      "text/plain": [
       "(5201, 2)"
      ]
     },
     "execution_count": 180,
     "metadata": {},
     "output_type": "execute_result"
    }
   ],
   "source": [
    "all_size.shape"
   ]
  },
  {
   "cell_type": "code",
   "execution_count": null,
   "metadata": {
    "collapsed": true,
    "deletable": true,
    "editable": true
   },
   "outputs": [],
   "source": []
  }
 ],
 "metadata": {
  "kernelspec": {
   "display_name": "Python 3",
   "language": "python",
   "name": "python3"
  },
  "language_info": {
   "codemirror_mode": {
    "name": "ipython",
    "version": 3
   },
   "file_extension": ".py",
   "mimetype": "text/x-python",
   "name": "python",
   "nbconvert_exporter": "python",
   "pygments_lexer": "ipython3",
   "version": "3.5.2"
  }
 },
 "nbformat": 4,
 "nbformat_minor": 2
}
