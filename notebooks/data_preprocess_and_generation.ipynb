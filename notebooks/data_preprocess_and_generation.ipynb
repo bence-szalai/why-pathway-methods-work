{
 "cells": [
  {
   "cell_type": "markdown",
   "metadata": {
    "deletable": true,
    "editable": true
   },
   "source": [
    "## Analysis pipline for *Why pathway methods work?* project"
   ]
  },
  {
   "cell_type": "markdown",
   "metadata": {
    "deletable": true,
    "editable": true
   },
   "source": [
    "### Preprocess gene sets"
   ]
  },
  {
   "cell_type": "code",
   "execution_count": 1,
   "metadata": {
    "collapsed": false,
    "deletable": true,
    "editable": true
   },
   "outputs": [],
   "source": [
    "from subprocess import call\n",
    "import os\n",
    "import sys\n",
    "import pickle as pckl\n",
    "\n",
    "sys.path.append('../code/')"
   ]
  },
  {
   "cell_type": "code",
   "execution_count": 3,
   "metadata": {
    "collapsed": false,
    "deletable": true,
    "editable": true
   },
   "outputs": [
    {
     "data": {
      "text/plain": [
       "0"
      ]
     },
     "execution_count": 3,
     "metadata": {},
     "output_type": "execute_result"
    }
   ],
   "source": [
    "#getting csv regulons from DoRothEA\n",
    "call(['Rscript','../code/get_regulon_from_rdata.R'])"
   ]
  },
  {
   "cell_type": "code",
   "execution_count": 4,
   "metadata": {
    "collapsed": false,
    "deletable": true,
    "editable": true
   },
   "outputs": [
    {
     "data": {
      "text/plain": [
       "0"
      ]
     },
     "execution_count": 4,
     "metadata": {},
     "output_type": "execute_result"
    }
   ],
   "source": [
    "#getting csv gene sets from msigdb\n",
    "call(['Rscript','../code/get_msigdb_genesets.R'])"
   ]
  },
  {
   "cell_type": "code",
   "execution_count": 2,
   "metadata": {
    "collapsed": true,
    "deletable": true,
    "editable": true
   },
   "outputs": [],
   "source": [
    "import make_genesets"
   ]
  },
  {
   "cell_type": "code",
   "execution_count": 3,
   "metadata": {
    "collapsed": true,
    "deletable": true,
    "editable": true
   },
   "outputs": [],
   "source": [
    "#prepocess dorothea regulons\n",
    "for confidence in ['A','B','C','D','E','BEST']:\n",
    "    make_genesets.make_gene_dict_dorothea(confidence)"
   ]
  },
  {
   "cell_type": "code",
   "execution_count": 5,
   "metadata": {
    "collapsed": false,
    "deletable": true,
    "editable": true
   },
   "outputs": [],
   "source": [
    "#multi level gene sets for dorothea\n",
    "make_genesets.make_multi_level_dorothea()"
   ]
  },
  {
   "cell_type": "code",
   "execution_count": 4,
   "metadata": {
    "collapsed": true,
    "deletable": true,
    "editable": true
   },
   "outputs": [],
   "source": [
    "#prepocess msigdb regulons\n",
    "for setname in ['BIOCARTA','CGP','KEGG','REACTOME']:\n",
    "    make_genesets.make_gene_dict_msigdb(setname)"
   ]
  },
  {
   "cell_type": "code",
   "execution_count": 3,
   "metadata": {
    "collapsed": true
   },
   "outputs": [],
   "source": [
    "#make random gene sets\n",
    "for setname in ['BIOCARTA','CGP','KEGG','REACTOME','dorothea_A']:\n",
    "    for s in range(5):\n",
    "        make_genesets.make_random_geneset(fnames=[setname],n=200,s=s)"
   ]
  },
  {
   "cell_type": "code",
   "execution_count": 11,
   "metadata": {
    "collapsed": false
   },
   "outputs": [],
   "source": [
    "#create overlap gene sets\n",
    "fnames=os.listdir('../results/genesets/single/dicts/')\n",
    "fnames=[x[:-4] for x in fnames]\n",
    "fnames\n",
    "for fname1 in fnames:\n",
    "    for fname2 in fnames:\n",
    "        if (fname1<fname2):\n",
    "            pass\n",
    "            #print(fname1,fname2)\n",
    "            #make_genesets.make_overlap_gene_sets(fname1,fname2)"
   ]
  },
  {
   "cell_type": "markdown",
   "metadata": {
    "deletable": true,
    "editable": true
   },
   "source": [
    "Checking the size of different gene sets."
   ]
  },
  {
   "cell_type": "code",
   "execution_count": 12,
   "metadata": {
    "collapsed": true,
    "deletable": true,
    "editable": true
   },
   "outputs": [],
   "source": [
    "from matplotlib import pyplot as plt\n",
    "import seaborn as sns\n",
    "%matplotlib inline\n",
    "sns.set_style(\"whitegrid\")"
   ]
  },
  {
   "cell_type": "code",
   "execution_count": 15,
   "metadata": {
    "collapsed": false,
    "deletable": true,
    "editable": true
   },
   "outputs": [],
   "source": [
    "gene_set_lengths={}\n",
    "for confidence in ['A','B','C','D','E','AB','ABC','ABCD','ABCDE','BEST']:\n",
    "    fin=open('../results/genesets/single/dicts/dorothea_%s.pkl' % confidence,'br')\n",
    "    genesets=pckl.load(fin)\n",
    "    fin.close()\n",
    "    l=[len(genesets[x]) for x in genesets.keys()]\n",
    "    gene_set_lengths['DoRothEA_'+confidence]=l\n",
    "for setname in ['CGP','KEGG','REACTOME','BIOCARTA']:\n",
    "    fin=open('../results/genesets/single/dicts/%s.pkl' % setname,'br')\n",
    "    genesets=pckl.load(fin)\n",
    "    fin.close()\n",
    "    l=[len(genesets[x]) for x in genesets.keys()]\n",
    "    gene_set_lengths[setname]=l"
   ]
  },
  {
   "cell_type": "code",
   "execution_count": 20,
   "metadata": {
    "collapsed": false,
    "deletable": true,
    "editable": true
   },
   "outputs": [
    {
     "data": {
      "image/png": "[encoded data removed]",
      "text/plain": [
       "<Figure size 432x288 with 1 Axes>"
      ]
     },
     "metadata": {},
     "output_type": "display_data"
    }
   ],
   "source": [
    "for confidence in ['DoRothEA_A','DoRothEA_AB','DoRothEA_ABC','KEGG','REACTOME','BIOCARTA']:\n",
    "    sns.distplot(gene_set_lengths[confidence],hist=False,label=confidence)"
   ]
  },
  {
   "cell_type": "markdown",
   "metadata": {
    "deletable": true,
    "editable": true
   },
   "source": [
    "Calculating similarities between gene sets: this runs for a long time, so was actually calculated on MTA virtual machines with **code/geneset_similarity.py**."
   ]
  },
  {
   "cell_type": "code",
   "execution_count": 4,
   "metadata": {
    "collapsed": true,
    "deletable": true,
    "editable": true
   },
   "outputs": [],
   "source": [
    "import os"
   ]
  },
  {
   "cell_type": "code",
   "execution_count": 9,
   "metadata": {
    "collapsed": true,
    "deletable": true,
    "editable": true
   },
   "outputs": [],
   "source": [
    "#make csv files for regulons\n",
    "fnames=os.listdir('../results/genesets/dorothea/dicts/')\n",
    "fnames=[x for x in fnames if 'set_gene' in x]\n",
    "for fname in fnames:\n",
    "    make_genesets.make_csv_geneset('dorothea',fname[:-4])"
   ]
  },
  {
   "cell_type": "code",
   "execution_count": 12,
   "metadata": {
    "collapsed": false,
    "deletable": true,
    "editable": true
   },
   "outputs": [],
   "source": [
    "fnames=os.listdir('../results/genesets/msigdb/dicts/')\n",
    "fnames=[x for x in fnames if 'set_gene' in x]\n",
    "for fname in fnames:\n",
    "    make_genesets.make_csv_geneset('msigdb',fname[:-4])"
   ]
  },
  {
   "cell_type": "code",
   "execution_count": 14,
   "metadata": {
    "collapsed": false,
    "deletable": true,
    "editable": true
   },
   "outputs": [
    {
     "data": {
      "text/plain": [
       "0"
      ]
     },
     "execution_count": 14,
     "metadata": {},
     "output_type": "execute_result"
    }
   ],
   "source": [
    "#make rdata file from them for viper\n",
    "call(['Rscript','../code/make_viper_regulon.R'])"
   ]
  },
  {
   "cell_type": "markdown",
   "metadata": {
    "deletable": true,
    "editable": true
   },
   "source": [
    "### Preprocess benchamrking datasets\n",
    "Now as we are having our gene sets (and gene set similarities) ready, we need the benchmarking datasets. For benchmarking we will use 2 datasets:\n",
    "* perturbation gene expression profiles form PROGENy\n",
    "* drug sensitivity data form GDSC dataset\n",
    "* tumor vs. normal in TCGA data"
   ]
  },
  {
   "cell_type": "code",
   "execution_count": 1,
   "metadata": {
    "collapsed": true,
    "deletable": true,
    "editable": true
   },
   "outputs": [],
   "source": [
    "import pandas as pd\n",
    "import numpy as np"
   ]
  },
  {
   "cell_type": "code",
   "execution_count": 43,
   "metadata": {
    "collapsed": true,
    "deletable": true,
    "editable": true
   },
   "outputs": [],
   "source": [
    "#PROGENY prepocess\n",
    "zscores=pd.read_csv('../data/progeny/zscores_14PW_PROGENy.csv',sep=',',header=0,index_col=0)\n",
    "indexes=pd.read_csv('../data/progeny/index_14PW_PROGENy.csv',sep=',',header=0,index_col=0)\n",
    "indexes.index=indexes['id']\n",
    "del indexes['id']"
   ]
  },
  {
   "cell_type": "code",
   "execution_count": 44,
   "metadata": {
    "collapsed": false,
    "deletable": true,
    "editable": true
   },
   "outputs": [
    {
     "data": {
      "text/plain": [
       "Text(0.5, 0, 'Number of missing genes')"
      ]
     },
     "execution_count": 44,
     "metadata": {},
     "output_type": "execute_result"
    },
    {
     "data": {
      "image/png": "[encoded data removed]",
      "text/plain": [
       "<Figure size 432x288 with 1 Axes>"
      ]
     },
     "metadata": {},
     "output_type": "display_data"
    }
   ],
   "source": [
    "#removing NAs\n",
    "sns.distplot(zscores.isna().sum(1))\n",
    "plt.xlabel('Number of missing genes')"
   ]
  },
  {
   "cell_type": "code",
   "execution_count": 45,
   "metadata": {
    "collapsed": false,
    "deletable": true,
    "editable": true
   },
   "outputs": [],
   "source": [
    "#we keep only genes with 0 missing values\n",
    "fil=zscores.isna().sum(1)==0\n",
    "zscores=zscores[fil]"
   ]
  },
  {
   "cell_type": "code",
   "execution_count": 46,
   "metadata": {
    "collapsed": false,
    "deletable": true,
    "editable": true
   },
   "outputs": [
    {
     "data": {
      "text/plain": [
       "{'Androgen',\n",
       " 'EGFR',\n",
       " 'Estrogen',\n",
       " 'Hypoxia',\n",
       " 'JAK-STAT',\n",
       " 'MAPK',\n",
       " 'NFkB',\n",
       " 'PI3K',\n",
       " 'TGFb',\n",
       " 'TNFa',\n",
       " 'Trail',\n",
       " 'VEGF',\n",
       " 'WNT',\n",
       " 'WNT3',\n",
       " 'p53'}"
      ]
     },
     "execution_count": 46,
     "metadata": {},
     "output_type": "execute_result"
    }
   ],
   "source": [
    "set(indexes['pathway'])"
   ]
  },
  {
   "cell_type": "code",
   "execution_count": 47,
   "metadata": {
    "collapsed": false,
    "deletable": true,
    "editable": true
   },
   "outputs": [],
   "source": [
    "fil=indexes['pathway']=='WNT3'\n",
    "indexes.loc[indexes.index[fil],'pathway']='WNT'"
   ]
  },
  {
   "cell_type": "code",
   "execution_count": 69,
   "metadata": {
    "collapsed": false,
    "deletable": true,
    "editable": true
   },
   "outputs": [],
   "source": [
    "assert np.sum(indexes.index!=zscores.columns)==0"
   ]
  },
  {
   "cell_type": "code",
   "execution_count": 70,
   "metadata": {
    "collapsed": false,
    "deletable": true,
    "editable": true
   },
   "outputs": [],
   "source": [
    "#multiply gene expressions with the sign of perturbation\n",
    "zscores=zscores*indexes['sign']"
   ]
  },
  {
   "cell_type": "code",
   "execution_count": 80,
   "metadata": {
    "collapsed": false,
    "deletable": true,
    "editable": true
   },
   "outputs": [],
   "source": [
    "zscores.to_csv('../results/benchmark/progeny/raw/progeny_data.csv',sep=',')\n",
    "pd.DataFrame(indexes['pathway']).to_csv('../results/benchmark/progeny/raw/progeny_meta.csv',sep=',')"
   ]
  },
  {
   "cell_type": "code",
   "execution_count": 157,
   "metadata": {
    "collapsed": false,
    "deletable": true,
    "editable": true
   },
   "outputs": [],
   "source": [
    "#GDSC data\n",
    "gex=pd.read_csv('../data/gdsc/sanger1018_brainarray_ensemblgene_rma.txt',sep='\\t',header=0,index_col=0)\n",
    "cell_anno=pd.read_excel('../data/gdsc/Cell_Lines_Details.xlsx',skipfooter=1)\n",
    "cell_anno['COSMIC identifier']=cell_anno['COSMIC identifier'].astype(str)"
   ]
  },
  {
   "cell_type": "code",
   "execution_count": 254,
   "metadata": {
    "collapsed": true,
    "deletable": true,
    "editable": true
   },
   "outputs": [],
   "source": [
    "from statsmodels.nonparametric.smoothers_lowess import lowess"
   ]
  },
  {
   "cell_type": "code",
   "execution_count": 159,
   "metadata": {
    "collapsed": true,
    "deletable": true,
    "editable": true
   },
   "outputs": [],
   "source": [
    "#normalise gex and translate gene ids\n",
    "std_pred=lowess(np.std(gex,1),np.mean(gex,1),return_sorted=False)\n",
    "gex=((gex.T-np.mean(gex,1))/std_pred).T"
   ]
  },
  {
   "cell_type": "code",
   "execution_count": 160,
   "metadata": {
    "collapsed": false,
    "deletable": true,
    "editable": true
   },
   "outputs": [],
   "source": [
    "gene_anno=pd.read_csv('../data/gdsc/ensembl_hgnc.csv',sep=',',header=0,index_col=[0])\n",
    "# remove not 1on1 translations and NaNs\n",
    "gene_anno=gene_anno.drop_duplicates('ensembl_gene_id')\n",
    "gene_anno=gene_anno.drop_duplicates('hgnc_symbol')\n",
    "fil=np.sum(pd.isnull(gene_anno),1)==0\n",
    "gene_anno=gene_anno[fil]\n",
    "# translate gdsc gene ids gene symbol\n",
    "gene_anno.index=gene_anno['ensembl_gene_id']\n",
    "gene_anno=gene_anno['hgnc_symbol']\n",
    "genes=list(set(gene_anno.index)&set(gex.index))\n",
    "gex=gex.loc[genes]\n",
    "gene_anno=gene_anno[genes]\n",
    "gex.index=gene_anno.values"
   ]
  },
  {
   "cell_type": "code",
   "execution_count": 161,
   "metadata": {
    "collapsed": false,
    "deletable": true,
    "editable": true
   },
   "outputs": [],
   "source": [
    "fil=(~pd.isnull(cell_anno['Cancer Type\\n(matching TCGA label)'])) \\\n",
    "    & (cell_anno['Cancer Type\\n(matching TCGA label)']!='UNABLE TO CLASSIFY') \\\n",
    "    & ~(pd.isnull(cell_anno['Microsatellite \\ninstability Status (MSI)']))\n",
    "cell_anno=cell_anno[fil]\n",
    "cell_anno.index=cell_anno['COSMIC identifier']"
   ]
  },
  {
   "cell_type": "code",
   "execution_count": 162,
   "metadata": {
    "collapsed": false,
    "deletable": true,
    "editable": true
   },
   "outputs": [],
   "source": [
    "cosmics=list(set(cell_anno.index)&set(gex.columns))\n",
    "gex=gex[cosmics]\n",
    "cell_anno=cell_anno.loc[cosmics]\n",
    "cell_anno=cell_anno[['COSMIC identifier','Cancer Type\\n(matching TCGA label)',\n",
    "                     'Microsatellite \\ninstability Status (MSI)']]\n",
    "cell_anno.columns=['COSMIC','TCGA','MSI']"
   ]
  },
  {
   "cell_type": "code",
   "execution_count": 167,
   "metadata": {
    "collapsed": false,
    "deletable": true,
    "editable": true
   },
   "outputs": [],
   "source": [
    "gex.round(3).to_csv('../results/benchmark/gdsc/raw/gdsc_gex.csv',sep=',')\n",
    "cell_anno.to_csv('../results/benchmark/gdsc/raw/gdsc_cell.csv',sep=',')\n"
   ]
  },
  {
   "cell_type": "code",
   "execution_count": 9,
   "metadata": {
    "collapsed": true,
    "deletable": true,
    "editable": true
   },
   "outputs": [],
   "source": [
    "from matplotlib import pyplot as plt\n",
    "import seaborn as sns\n",
    "%matplotlib inline\n",
    "sns.set_style(\"whitegrid\")"
   ]
  },
  {
   "cell_type": "code",
   "execution_count": 268,
   "metadata": {
    "collapsed": true,
    "deletable": true,
    "editable": true
   },
   "outputs": [],
   "source": [
    "#TCGA data\n",
    "gex=pd.read_csv('../data/tcga/GSE62944_merged_expression_voom.csv',sep=',',header=0,index_col=0)"
   ]
  },
  {
   "cell_type": "code",
   "execution_count": 269,
   "metadata": {
    "collapsed": false,
    "deletable": true,
    "editable": true
   },
   "outputs": [],
   "source": [
    "tumor=pd.read_csv('../data/tcga/GSE62944_06_01_15_TCGA_24_CancerType_Samples.txt',\n",
    "                  sep='\\t',index_col=0,header=None)\n",
    "tumor.columns=['TCGA']\n",
    "tumor['Tumor']=1\n",
    "normal=pd.read_csv('../data/tcga/GSE62944_06_01_15_TCGA_24_Normal_CancerType_Samples.txt',\n",
    "                   sep='\\t',index_col=0,header=None)\n",
    "normal.columns=['TCGA']\n",
    "normal['Tumor']=0\n",
    "meta=pd.concat([tumor,normal])"
   ]
  },
  {
   "cell_type": "code",
   "execution_count": 270,
   "metadata": {
    "collapsed": false,
    "deletable": true,
    "editable": true
   },
   "outputs": [],
   "source": [
    "samples=list(set(gex.columns) & set(meta.index))\n",
    "gex=gex[samples]\n",
    "meta=meta.loc[samples]"
   ]
  },
  {
   "cell_type": "code",
   "execution_count": 271,
   "metadata": {
    "collapsed": false,
    "deletable": true,
    "editable": true
   },
   "outputs": [],
   "source": [
    "tissues=meta[meta['Tumor']==0]['TCGA'].value_counts()>=10\n",
    "tissues=tissues.index[tissues]\n",
    "fil=np.in1d(meta['TCGA'],tissues)\n",
    "meta=meta[fil]\n",
    "tissues=(meta[meta['Tumor']==1]['TCGA'].value_counts()).index\n",
    "fil=np.in1d(meta['TCGA'],tissues)\n",
    "meta=meta[fil]\n",
    "gex=gex[meta.index]"
   ]
  },
  {
   "cell_type": "code",
   "execution_count": 272,
   "metadata": {
    "collapsed": false,
    "deletable": true,
    "editable": true
   },
   "outputs": [],
   "source": [
    "#normalise TCGA tissue wise\n",
    "for t in tissues:\n",
    "    samples=meta.index[meta['TCGA']==t]\n",
    "    gex_t=gex[samples]\n",
    "    m=np.mean(gex_t,1)\n",
    "    s=np.std(gex_t,1)\n",
    "    s_p=lowess(np.std(gex_t,1),np.mean(gex_t,1),return_sorted=False)\n",
    "    gex_t=((gex_t.T-m)/s_p).T\n",
    "    gex.loc[gex_t.index,gex_t.columns]=gex_t"
   ]
  },
  {
   "cell_type": "code",
   "execution_count": 273,
   "metadata": {
    "collapsed": false,
    "deletable": true,
    "editable": true
   },
   "outputs": [],
   "source": [
    "meta.to_csv('../results/benchmark/tcga/raw/tcga_meta.csv',sep=',')\n",
    "gex.round(3).to_csv('../results/benchmark/tcga/raw/tcga_gex.csv',sep=',')\n"
   ]
  },
  {
   "cell_type": "markdown",
   "metadata": {
    "collapsed": true,
    "deletable": true,
    "editable": true
   },
   "source": [
    "### Calculating gene activity scores on benchmark data"
   ]
  },
  {
   "cell_type": "code",
   "execution_count": 8,
   "metadata": {
    "collapsed": false,
    "deletable": true,
    "editable": true
   },
   "outputs": [
    {
     "data": {
      "text/plain": [
       "0"
      ]
     },
     "execution_count": 8,
     "metadata": {},
     "output_type": "execute_result"
    }
   ],
   "source": [
    "call(['Rscript','../code/run_viper.R'])"
   ]
  },
  {
   "cell_type": "markdown",
   "metadata": {
    "collapsed": true,
    "deletable": true,
    "editable": true
   },
   "source": [
    " Now we can calculate partial correlations in gdsc dataset. For this (long running time) I used MTA virtual machines with **../code/benchmark_gdsc.py**. And we can calculate rocaucs for progeny with **../code/benchmark_progeny.py**."
   ]
  }
 ],
 "metadata": {
  "kernelspec": {
   "display_name": "Python 3",
   "language": "python",
   "name": "python3"
  },
  "language_info": {
   "codemirror_mode": {
    "name": "ipython",
    "version": 3
   },
   "file_extension": ".py",
   "mimetype": "text/x-python",
   "name": "python",
   "nbconvert_exporter": "python",
   "pygments_lexer": "ipython3",
   "version": "3.5.2"
  }
 },
 "nbformat": 4,
 "nbformat_minor": 2
}
