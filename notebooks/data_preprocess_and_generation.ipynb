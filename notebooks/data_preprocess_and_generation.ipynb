{
 "cells": [
  {
   "cell_type": "markdown",
   "metadata": {
    "deletable": true,
    "editable": true
   },
   "source": [
    "## Analysis pipline for *Why pathway methods work?* project"
   ]
  },
  {
   "cell_type": "markdown",
   "metadata": {
    "deletable": true,
    "editable": true
   },
   "source": [
    "### Preprocess gene sets"
   ]
  },
  {
   "cell_type": "code",
   "execution_count": 1,
   "metadata": {
    "collapsed": false,
    "deletable": true,
    "editable": true
   },
   "outputs": [],
   "source": [
    "from subprocess import call\n",
    "import os\n",
    "import sys\n",
    "import pickle as pckl\n",
    "\n",
    "sys.path.append('../code/')"
   ]
  },
  {
   "cell_type": "code",
   "execution_count": 2,
   "metadata": {
    "collapsed": true,
    "deletable": true,
    "editable": true
   },
   "outputs": [],
   "source": [
    "import numpy as np\n",
    "import pandas as pd"
   ]
  },
  {
   "cell_type": "code",
   "execution_count": 3,
   "metadata": {
    "collapsed": false,
    "deletable": true,
    "editable": true
   },
   "outputs": [
    {
     "data": {
      "text/plain": [
       "0"
      ]
     },
     "execution_count": 3,
     "metadata": {},
     "output_type": "execute_result"
    }
   ],
   "source": [
    "#getting csv regulons from DoRothEA\n",
    "call(['Rscript','../code/get_regulon_from_rdata.R'])"
   ]
  },
  {
   "cell_type": "code",
   "execution_count": 4,
   "metadata": {
    "collapsed": false,
    "deletable": true,
    "editable": true
   },
   "outputs": [
    {
     "data": {
      "text/plain": [
       "0"
      ]
     },
     "execution_count": 4,
     "metadata": {},
     "output_type": "execute_result"
    }
   ],
   "source": [
    "#getting csv gene sets from msigdb\n",
    "call(['Rscript','../code/get_msigdb_genesets.R'])"
   ]
  },
  {
   "cell_type": "code",
   "execution_count": 5,
   "metadata": {
    "collapsed": true,
    "deletable": true,
    "editable": true
   },
   "outputs": [],
   "source": [
    "import make_genesets"
   ]
  },
  {
   "cell_type": "code",
   "execution_count": 6,
   "metadata": {
    "collapsed": true,
    "deletable": true,
    "editable": true
   },
   "outputs": [],
   "source": [
    "#prepocess dorothea regulons\n",
    "for confidence in ['A','B','C','D','E','BEST']:\n",
    "    make_genesets.make_gene_dict_dorothea(confidence)"
   ]
  },
  {
   "cell_type": "code",
   "execution_count": 7,
   "metadata": {
    "collapsed": false,
    "deletable": true,
    "editable": true
   },
   "outputs": [],
   "source": [
    "#multi level gene sets for dorothea\n",
    "make_genesets.make_multi_level_dorothea()"
   ]
  },
  {
   "cell_type": "code",
   "execution_count": 8,
   "metadata": {
    "collapsed": false,
    "deletable": true,
    "editable": true
   },
   "outputs": [],
   "source": [
    "#confidence levels for BEST dorothea\n",
    "make_genesets.make_different_level_BEST_dorothea()"
   ]
  },
  {
   "cell_type": "code",
   "execution_count": 9,
   "metadata": {
    "collapsed": false,
    "deletable": true,
    "editable": true
   },
   "outputs": [],
   "source": [
    "#make multi level dorothea BEST, that is what we will use\n",
    "make_genesets.make_multi_level_dorothea_BEST()"
   ]
  },
  {
   "cell_type": "code",
   "execution_count": 10,
   "metadata": {
    "collapsed": true,
    "deletable": true,
    "editable": true
   },
   "outputs": [],
   "source": [
    "#prepocess msigdb regulons\n",
    "for setname in ['BIOCARTA','CGP','KEGG','REACTOME']:\n",
    "    make_genesets.make_gene_dict_msigdb(setname)"
   ]
  },
  {
   "cell_type": "code",
   "execution_count": 11,
   "metadata": {
    "collapsed": false,
    "deletable": true,
    "editable": true
   },
   "outputs": [],
   "source": [
    "#use only <=250 gene sets\n",
    "for dname in ['BEST_dorothea_AB','BEST_dorothea_CD','KEGG','BIOCARTA','REACTOME','CGP']:\n",
    "    data=pd.read_csv('../results/genesets/single/csvs/%s.csv' %dname,sep=',',header=0,index_col=0)\n",
    "    fil=data['Set'].value_counts()<=250\n",
    "    sets=data['Set'].value_counts().index[fil]\n",
    "    fil=np.in1d(data['Set'],sets)\n",
    "    data=data[fil]\n",
    "    data.to_csv('../results/genesets/single/csvs/%s_filtered.csv' % dname,sep=',')"
   ]
  },
  {
   "cell_type": "code",
   "execution_count": 15,
   "metadata": {
    "collapsed": false,
    "deletable": true,
    "editable": true
   },
   "outputs": [],
   "source": [
    "#make random gene sets\n",
    "for dname in ['BEST_dorothea_AB','BEST_dorothea_CD','KEGG','BIOCARTA','REACTOME','CGP']:\n",
    "    data=pd.read_csv('../results/genesets/single/csvs/%s_filtered.csv' %dname,sep=',',header=0,index_col=0)\n",
    "    sizes=data['Set'].value_counts().values\n",
    "    genes=data['Gene'].unique()\n",
    "    random_set=pd.DataFrame(columns=['Set','Gene'])\n",
    "    for i in range(1000):\n",
    "        l=np.random.choice(sizes,1)[0]\n",
    "        random_subset=pd.DataFrame(index=range(l),columns=['Set','Gene'])\n",
    "        random_subset['Set']='Random_%i' % i\n",
    "        random_subset['Gene']=np.random.choice(genes,l,False)\n",
    "        random_set=pd.concat([random_set,random_subset])\n",
    "        random_set.index=range(len(random_set))\n",
    "    random_set.to_csv('../results/genesets/single/csvs/%s_random.csv' % dname,sep=',')"
   ]
  },
  {
   "cell_type": "markdown",
   "metadata": {
    "deletable": true,
    "editable": true
   },
   "source": [
    "Calculate gene set similarity"
   ]
  },
  {
   "cell_type": "code",
   "execution_count": 3,
   "metadata": {
    "collapsed": true,
    "deletable": true,
    "editable": true
   },
   "outputs": [],
   "source": [
    "import geneset_similarity"
   ]
  },
  {
   "cell_type": "code",
   "execution_count": 5,
   "metadata": {
    "collapsed": false,
    "deletable": true,
    "editable": true
   },
   "outputs": [
    {
     "name": "stderr",
     "output_type": "stream",
     "text": [
      "../code/geneset_similarity.py:20: FutureWarning: \n",
      "Passing list-likes to .loc or [] with any missing label will raise\n",
      "KeyError in the future, you can use .reindex() as an alternative.\n",
      "\n",
      "See the documentation here:\n",
      "https://pandas.pydata.org/pandas-docs/stable/indexing.html#deprecate-loc-reindex-listlike\n",
      "  data1=data1.loc[all_genes]\n",
      "../code/geneset_similarity.py:21: FutureWarning: \n",
      "Passing list-likes to .loc or [] with any missing label will raise\n",
      "KeyError in the future, you can use .reindex() as an alternative.\n",
      "\n",
      "See the documentation here:\n",
      "https://pandas.pydata.org/pandas-docs/stable/indexing.html#deprecate-loc-reindex-listlike\n",
      "  data2=data2.loc[all_genes]\n"
     ]
    }
   ],
   "source": [
    "setnames1=['BEST_dorothea_AB','BEST_dorothea_CD','KEGG','BIOCARTA','REACTOME','CGP']\n",
    "setnames2=['BEST_dorothea_AB','BEST_dorothea_CD','KEGG','BIOCARTA','REACTOME','CGP']\n",
    "for setname1 in setnames1:\n",
    "    for setname2 in setnames2:\n",
    "        if setname1<setname2:\n",
    "            geneset_similarity.get_composational_similarity(setname1+'_filtered',setname2+'_filtered')\n",
    "            geneset_similarity.get_composational_similarity(setname1+'_filtered',setname2+'_random')\n",
    "            geneset_similarity.get_composational_similarity(setname1+'_random',setname2+'_filtered')\n",
    "            geneset_similarity.get_composational_similarity(setname1+'_random',setname2+'_random')"
   ]
  },
  {
   "cell_type": "code",
   "execution_count": 3,
   "metadata": {
    "collapsed": false,
    "deletable": true,
    "editable": true
   },
   "outputs": [
    {
     "data": {
      "text/plain": [
       "0"
      ]
     },
     "execution_count": 3,
     "metadata": {},
     "output_type": "execute_result"
    }
   ],
   "source": [
    "#make rdata file from the gene sets for viper\n",
    "call(['Rscript','../code/make_viper_regulon.R'])"
   ]
  },
  {
   "cell_type": "markdown",
   "metadata": {
    "deletable": true,
    "editable": true
   },
   "source": [
    "### Preprocess benchamrking datasets\n",
    "Now as we are having our gene sets (and gene set similarities) ready, we need the benchmarking datasets. For benchmarking we will use 2 datasets:\n",
    "* perturbation gene expression profiles form PROGENy\n",
    "* tumor vs. normal in TCGA data"
   ]
  },
  {
   "cell_type": "code",
   "execution_count": 8,
   "metadata": {
    "collapsed": true,
    "deletable": true,
    "editable": true
   },
   "outputs": [],
   "source": [
    "import pandas as pd\n",
    "import numpy as np\n",
    "import seaborn as sns\n",
    "from matplotlib import pyplot as plt\n",
    "%matplotlib inline"
   ]
  },
  {
   "cell_type": "code",
   "execution_count": 5,
   "metadata": {
    "collapsed": true,
    "deletable": true,
    "editable": true
   },
   "outputs": [],
   "source": [
    "#PROGENY prepocess\n",
    "zscores=pd.read_csv('../data/progeny/zscores_14PW_PROGENy.csv',sep=',',header=0,index_col=0)\n",
    "indexes=pd.read_csv('../data/progeny/index_14PW_PROGENy.csv',sep=',',header=0,index_col=0)\n",
    "indexes.index=indexes['id']\n",
    "del indexes['id']"
   ]
  },
  {
   "cell_type": "code",
   "execution_count": 6,
   "metadata": {
    "collapsed": false,
    "deletable": true,
    "editable": true
   },
   "outputs": [
    {
     "data": {
      "text/plain": [
       "6684"
      ]
     },
     "execution_count": 6,
     "metadata": {},
     "output_type": "execute_result"
    }
   ],
   "source": [
    "np.sum(zscores.isna().sum(1)==0)"
   ]
  },
  {
   "cell_type": "code",
   "execution_count": 9,
   "metadata": {
    "collapsed": false,
    "deletable": true,
    "editable": true
   },
   "outputs": [
    {
     "data": {
      "text/plain": [
       "<matplotlib.text.Text at 0x13172fe10>"
      ]
     },
     "execution_count": 9,
     "metadata": {},
     "output_type": "execute_result"
    },
    {
     "data": {
      "image/png": "[encoded data removed]",
      "text/plain": [
       "<matplotlib.figure.Figure at 0x10912b470>"
      ]
     },
     "metadata": {},
     "output_type": "display_data"
    }
   ],
   "source": [
    "#removing NAs\n",
    "sns.distplot(zscores.isna().sum(1),norm_hist=False,kde=False,bins=100)\n",
    "plt.xlabel('Missing in experiments')\n",
    "plt.ylabel('Number of genes')"
   ]
  },
  {
   "cell_type": "code",
   "execution_count": 10,
   "metadata": {
    "collapsed": false,
    "deletable": true,
    "editable": true
   },
   "outputs": [],
   "source": [
    "#we keep only genes with 0 missing values\n",
    "fil=zscores.isna().sum(1)==0\n",
    "zscores=zscores[fil]"
   ]
  },
  {
   "cell_type": "code",
   "execution_count": 11,
   "metadata": {
    "collapsed": false,
    "deletable": true,
    "editable": true
   },
   "outputs": [
    {
     "data": {
      "text/plain": [
       "(6684, 652)"
      ]
     },
     "execution_count": 11,
     "metadata": {},
     "output_type": "execute_result"
    }
   ],
   "source": [
    "zscores.shape"
   ]
  },
  {
   "cell_type": "code",
   "execution_count": 12,
   "metadata": {
    "collapsed": false,
    "deletable": true,
    "editable": true
   },
   "outputs": [
    {
     "data": {
      "text/plain": [
       "{'Androgen',\n",
       " 'EGFR',\n",
       " 'Estrogen',\n",
       " 'Hypoxia',\n",
       " 'JAK-STAT',\n",
       " 'MAPK',\n",
       " 'NFkB',\n",
       " 'PI3K',\n",
       " 'TGFb',\n",
       " 'TNFa',\n",
       " 'Trail',\n",
       " 'VEGF',\n",
       " 'WNT',\n",
       " 'WNT3',\n",
       " 'p53'}"
      ]
     },
     "execution_count": 12,
     "metadata": {},
     "output_type": "execute_result"
    }
   ],
   "source": [
    "set(indexes['pathway'])"
   ]
  },
  {
   "cell_type": "code",
   "execution_count": 13,
   "metadata": {
    "collapsed": false,
    "deletable": true,
    "editable": true
   },
   "outputs": [],
   "source": [
    "#WNT3 is mislabelled, it is WNT correctly\n",
    "fil=indexes['pathway']=='WNT3'\n",
    "indexes.loc[indexes.index[fil],'pathway']='WNT'"
   ]
  },
  {
   "cell_type": "code",
   "execution_count": 14,
   "metadata": {
    "collapsed": false,
    "deletable": true,
    "editable": true
   },
   "outputs": [],
   "source": [
    "assert np.sum(indexes.index!=zscores.columns)==0"
   ]
  },
  {
   "cell_type": "code",
   "execution_count": 15,
   "metadata": {
    "collapsed": false,
    "deletable": true,
    "editable": true
   },
   "outputs": [],
   "source": [
    "#multiply gene expressions with the sign of perturbation\n",
    "zscores=zscores*indexes['sign']"
   ]
  },
  {
   "cell_type": "code",
   "execution_count": 16,
   "metadata": {
    "collapsed": false,
    "deletable": true,
    "editable": true
   },
   "outputs": [],
   "source": [
    "zscores.to_csv('../results/benchmark/datasets/progeny_data.csv',sep=',')\n",
    "pd.DataFrame(indexes['pathway']).to_csv('../results/benchmark/datasets/progeny_meta.csv',sep=',')"
   ]
  },
  {
   "cell_type": "code",
   "execution_count": 17,
   "metadata": {
    "collapsed": true,
    "deletable": true,
    "editable": true
   },
   "outputs": [],
   "source": [
    "from statsmodels.nonparametric.smoothers_lowess import lowess"
   ]
  },
  {
   "cell_type": "code",
   "execution_count": 18,
   "metadata": {
    "collapsed": true,
    "deletable": true,
    "editable": true
   },
   "outputs": [],
   "source": [
    "#TCGA data\n",
    "gex=pd.read_csv('../data/tcga/GSE62944_merged_expression_voom.csv',sep=',',header=0,index_col=0)"
   ]
  },
  {
   "cell_type": "code",
   "execution_count": 19,
   "metadata": {
    "collapsed": true,
    "deletable": true,
    "editable": true
   },
   "outputs": [],
   "source": [
    "tumor=pd.read_csv('../data/tcga/GSE62944_06_01_15_TCGA_24_CancerType_Samples.txt',\n",
    "                  sep='\\t',index_col=0,header=None)\n",
    "tumor.columns=['TCGA']\n",
    "tumor['Tumor']=1\n",
    "normal=pd.read_csv('../data/tcga/GSE62944_06_01_15_TCGA_24_Normal_CancerType_Samples.txt',\n",
    "                   sep='\\t',index_col=0,header=None)\n",
    "normal.columns=['TCGA']\n",
    "normal['Tumor']=0\n",
    "meta=pd.concat([tumor,normal])"
   ]
  },
  {
   "cell_type": "code",
   "execution_count": 20,
   "metadata": {
    "collapsed": false,
    "deletable": true,
    "editable": true
   },
   "outputs": [],
   "source": [
    "samples=list(set(gex.columns) & set(meta.index))\n",
    "gex=gex[samples]\n",
    "meta=meta.loc[samples]"
   ]
  },
  {
   "cell_type": "code",
   "execution_count": 21,
   "metadata": {
    "collapsed": false,
    "deletable": true,
    "editable": true
   },
   "outputs": [],
   "source": [
    "tissues=meta[meta['Tumor']==0]['TCGA'].value_counts()>=10\n",
    "tissues=tissues.index[tissues]\n",
    "fil=np.in1d(meta['TCGA'],tissues)\n",
    "meta=meta[fil]\n",
    "tissues=(meta[meta['Tumor']==1]['TCGA'].value_counts()).index\n",
    "fil=np.in1d(meta['TCGA'],tissues)\n",
    "meta=meta[fil]\n",
    "gex=gex[meta.index]"
   ]
  },
  {
   "cell_type": "code",
   "execution_count": 22,
   "metadata": {
    "collapsed": false,
    "deletable": true,
    "editable": true
   },
   "outputs": [],
   "source": [
    "#normalise TCGA tissue wise\n",
    "for t in tissues:\n",
    "    samples=meta.index[meta['TCGA']==t]\n",
    "    gex_t=gex[samples]\n",
    "    m=np.mean(gex_t,1)\n",
    "    s=np.std(gex_t,1)\n",
    "    s_p=lowess(np.std(gex_t,1),np.mean(gex_t,1),return_sorted=False)\n",
    "    gex_t=((gex_t.T-m)/s_p).T\n",
    "    gex.loc[gex_t.index,gex_t.columns]=gex_t"
   ]
  },
  {
   "cell_type": "code",
   "execution_count": 23,
   "metadata": {
    "collapsed": false,
    "deletable": true,
    "editable": true
   },
   "outputs": [],
   "source": [
    "meta.to_csv('../results/benchmark/datasets/tcga_meta.csv',sep=',')\n",
    "gex.round(3).to_csv('../results/benchmark/datasets/tcga_data.csv',sep=',')\n"
   ]
  },
  {
   "cell_type": "markdown",
   "metadata": {
    "collapsed": true,
    "deletable": true,
    "editable": true
   },
   "source": [
    "### Calculating gene activity scores on benchmark data"
   ]
  },
  {
   "cell_type": "code",
   "execution_count": 8,
   "metadata": {
    "collapsed": false,
    "deletable": true,
    "editable": true
   },
   "outputs": [
    {
     "data": {
      "text/plain": [
       "0"
      ]
     },
     "execution_count": 8,
     "metadata": {},
     "output_type": "execute_result"
    }
   ],
   "source": [
    "call(['Rscript','../code/run_viper.R'])"
   ]
  }
 ],
 "metadata": {
  "kernelspec": {
   "display_name": "Python 3",
   "language": "python",
   "name": "python3"
  },
  "language_info": {
   "codemirror_mode": {
    "name": "ipython",
    "version": 3
   },
   "file_extension": ".py",
   "mimetype": "text/x-python",
   "name": "python",
   "nbconvert_exporter": "python",
   "pygments_lexer": "ipython3",
   "version": "3.5.2"
  }
 },
 "nbformat": 4,
 "nbformat_minor": 2
}
