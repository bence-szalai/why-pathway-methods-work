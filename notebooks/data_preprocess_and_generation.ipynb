{
 "cells": [
  {
   "cell_type": "markdown",
   "metadata": {
    "deletable": true,
    "editable": true
   },
   "source": [
    "## Analysis pipline for *Why pathway methods work?* project"
   ]
  },
  {
   "cell_type": "markdown",
   "metadata": {
    "deletable": true,
    "editable": true
   },
   "source": [
    "### Preprocess gene sets"
   ]
  },
  {
   "cell_type": "code",
   "execution_count": 1,
   "metadata": {
    "collapsed": false,
    "deletable": true,
    "editable": true
   },
   "outputs": [],
   "source": [
    "from subprocess import call\n",
    "import os\n",
    "import sys\n",
    "import pickle as pckl\n",
    "\n",
    "sys.path.append('../code/')"
   ]
  },
  {
   "cell_type": "code",
   "execution_count": 3,
   "metadata": {
    "collapsed": false,
    "deletable": true,
    "editable": true
   },
   "outputs": [
    {
     "data": {
      "text/plain": [
       "0"
      ]
     },
     "execution_count": 3,
     "metadata": {},
     "output_type": "execute_result"
    }
   ],
   "source": [
    "#getting csv regulons from DoRothEA\n",
    "call(['Rscript','../code/get_regulon_from_rdata.R'])"
   ]
  },
  {
   "cell_type": "code",
   "execution_count": 4,
   "metadata": {
    "collapsed": false,
    "deletable": true,
    "editable": true
   },
   "outputs": [
    {
     "data": {
      "text/plain": [
       "0"
      ]
     },
     "execution_count": 4,
     "metadata": {},
     "output_type": "execute_result"
    }
   ],
   "source": [
    "#getting csv gene sets from msigdb\n",
    "call(['Rscript','../code/get_msigdb_genesets.R'])"
   ]
  },
  {
   "cell_type": "code",
   "execution_count": 2,
   "metadata": {
    "collapsed": true,
    "deletable": true,
    "editable": true
   },
   "outputs": [],
   "source": [
    "import make_genesets"
   ]
  },
  {
   "cell_type": "code",
   "execution_count": 3,
   "metadata": {
    "collapsed": true,
    "deletable": true,
    "editable": true
   },
   "outputs": [],
   "source": [
    "#prepocess dorothea regulons\n",
    "for confidence in ['A','B','C','D','E','BEST']:\n",
    "    make_genesets.make_gene_dict_dorothea(confidence)"
   ]
  },
  {
   "cell_type": "code",
   "execution_count": 5,
   "metadata": {
    "collapsed": false,
    "deletable": true,
    "editable": true
   },
   "outputs": [],
   "source": [
    "#multi level gene sets for dorothea\n",
    "make_genesets.make_multi_level_dorothea()"
   ]
  },
  {
   "cell_type": "code",
   "execution_count": 4,
   "metadata": {
    "collapsed": true,
    "deletable": true,
    "editable": true
   },
   "outputs": [],
   "source": [
    "#prepocess msigdb regulons\n",
    "for setname in ['BIOCARTA','CGP','KEGG','REACTOME']:\n",
    "    make_genesets.make_gene_dict_msigdb(setname)"
   ]
  },
  {
   "cell_type": "code",
   "execution_count": 4,
   "metadata": {
    "collapsed": true,
    "deletable": true,
    "editable": true
   },
   "outputs": [],
   "source": [
    "#make random gene sets\n",
    "for setname in ['BIOCARTA','CGP','KEGG','REACTOME','dorothea_AB']:\n",
    "    for s in range(10):\n",
    "        make_genesets.make_random_geneset(fnames=[setname],n=200,s=s)"
   ]
  },
  {
   "cell_type": "code",
   "execution_count": 11,
   "metadata": {
    "collapsed": false,
    "deletable": true,
    "editable": true
   },
   "outputs": [],
   "source": [
    "#create overlap gene sets\n",
    "for setname1 in ['BIOCARTA','CGP','KEGG','REACTOME','dorothea_AB']:\n",
    "    for setname2 in ['BIOCARTA','CGP','KEGG','REACTOME','dorothea_AB']:\n",
    "        if (setname1<setname2):\n",
    "            make_genesets.make_overlap_gene_sets(setname1,setname2)        "
   ]
  },
  {
   "cell_type": "markdown",
   "metadata": {
    "deletable": true,
    "editable": true
   },
   "source": [
    "Checking the size of different gene sets."
   ]
  },
  {
   "cell_type": "code",
   "execution_count": 9,
   "metadata": {
    "collapsed": true,
    "deletable": true,
    "editable": true
   },
   "outputs": [],
   "source": [
    "from matplotlib import pyplot as plt\n",
    "import seaborn as sns\n",
    "%matplotlib inline\n",
    "sns.set_style(\"whitegrid\")"
   ]
  },
  {
   "cell_type": "code",
   "execution_count": 15,
   "metadata": {
    "collapsed": false,
    "deletable": true,
    "editable": true
   },
   "outputs": [],
   "source": [
    "gene_set_lengths={}\n",
    "for confidence in ['A','B','C','D','E','AB','ABC','ABCD','ABCDE','BEST']:\n",
    "    fin=open('../results/genesets/single/dicts/dorothea_%s.pkl' % confidence,'br')\n",
    "    genesets=pckl.load(fin)\n",
    "    fin.close()\n",
    "    l=[len(genesets[x]) for x in genesets.keys()]\n",
    "    gene_set_lengths['DoRothEA_'+confidence]=l\n",
    "for setname in ['CGP','KEGG','REACTOME','BIOCARTA']:\n",
    "    fin=open('../results/genesets/single/dicts/%s.pkl' % setname,'br')\n",
    "    genesets=pckl.load(fin)\n",
    "    fin.close()\n",
    "    l=[len(genesets[x]) for x in genesets.keys()]\n",
    "    gene_set_lengths[setname]=l"
   ]
  },
  {
   "cell_type": "code",
   "execution_count": 20,
   "metadata": {
    "collapsed": false,
    "deletable": true,
    "editable": true
   },
   "outputs": [
    {
     "data": {
      "image/png": "[encoded data removed]",
      "text/plain": [
       "<Figure size 432x288 with 1 Axes>"
      ]
     },
     "metadata": {},
     "output_type": "display_data"
    }
   ],
   "source": [
    "for confidence in ['DoRothEA_A','DoRothEA_AB','DoRothEA_ABC','KEGG','REACTOME','BIOCARTA']:\n",
    "    sns.distplot(gene_set_lengths[confidence],hist=False,label=confidence)"
   ]
  },
  {
   "cell_type": "markdown",
   "metadata": {
    "deletable": true,
    "editable": true
   },
   "source": [
    "Calculating similarities between gene sets: this runs for a long time, so was actually calculated on MTA virtual machines with **code/geneset_similarity.py**."
   ]
  },
  {
   "cell_type": "code",
   "execution_count": 14,
   "metadata": {
    "collapsed": false,
    "deletable": true,
    "editable": true
   },
   "outputs": [
    {
     "data": {
      "text/plain": [
       "0"
      ]
     },
     "execution_count": 14,
     "metadata": {},
     "output_type": "execute_result"
    }
   ],
   "source": [
    "#make rdata file from the gene sets for viper\n",
    "call(['Rscript','../code/make_viper_regulon.R'])"
   ]
  },
  {
   "cell_type": "markdown",
   "metadata": {
    "deletable": true,
    "editable": true
   },
   "source": [
    "### Preprocess benchamrking datasets\n",
    "Now as we are having our gene sets (and gene set similarities) ready, we need the benchmarking datasets. For benchmarking we will use 2 datasets:\n",
    "* perturbation gene expression profiles form PROGENy\n",
    "* tumor vs. normal in TCGA data"
   ]
  },
  {
   "cell_type": "code",
   "execution_count": 6,
   "metadata": {
    "collapsed": true,
    "deletable": true,
    "editable": true
   },
   "outputs": [],
   "source": [
    "import pandas as pd\n",
    "import numpy as np"
   ]
  },
  {
   "cell_type": "code",
   "execution_count": 7,
   "metadata": {
    "collapsed": true,
    "deletable": true,
    "editable": true
   },
   "outputs": [],
   "source": [
    "#PROGENY prepocess\n",
    "zscores=pd.read_csv('../data/progeny/zscores_14PW_PROGENy.csv',sep=',',header=0,index_col=0)\n",
    "indexes=pd.read_csv('../data/progeny/index_14PW_PROGENy.csv',sep=',',header=0,index_col=0)\n",
    "indexes.index=indexes['id']\n",
    "del indexes['id']"
   ]
  },
  {
   "cell_type": "code",
   "execution_count": 10,
   "metadata": {
    "collapsed": false,
    "deletable": true,
    "editable": true
   },
   "outputs": [
    {
     "data": {
      "text/plain": [
       "Text(0.5, 0, 'Number of missing genes')"
      ]
     },
     "execution_count": 10,
     "metadata": {},
     "output_type": "execute_result"
    },
    {
     "data": {
      "image/png": "[encoded data removed]",
      "text/plain": [
       "<Figure size 432x288 with 1 Axes>"
      ]
     },
     "metadata": {},
     "output_type": "display_data"
    }
   ],
   "source": [
    "#removing NAs\n",
    "sns.distplot(zscores.isna().sum(1))\n",
    "plt.xlabel('Number of missing genes')"
   ]
  },
  {
   "cell_type": "code",
   "execution_count": 11,
   "metadata": {
    "collapsed": false,
    "deletable": true,
    "editable": true
   },
   "outputs": [],
   "source": [
    "#we keep only genes with 0 missing values\n",
    "fil=zscores.isna().sum(1)==0\n",
    "zscores=zscores[fil]"
   ]
  },
  {
   "cell_type": "code",
   "execution_count": 12,
   "metadata": {
    "collapsed": false,
    "deletable": true,
    "editable": true
   },
   "outputs": [
    {
     "data": {
      "text/plain": [
       "{'Androgen',\n",
       " 'EGFR',\n",
       " 'Estrogen',\n",
       " 'Hypoxia',\n",
       " 'JAK-STAT',\n",
       " 'MAPK',\n",
       " 'NFkB',\n",
       " 'PI3K',\n",
       " 'TGFb',\n",
       " 'TNFa',\n",
       " 'Trail',\n",
       " 'VEGF',\n",
       " 'WNT',\n",
       " 'WNT3',\n",
       " 'p53'}"
      ]
     },
     "execution_count": 12,
     "metadata": {},
     "output_type": "execute_result"
    }
   ],
   "source": [
    "set(indexes['pathway'])"
   ]
  },
  {
   "cell_type": "code",
   "execution_count": 13,
   "metadata": {
    "collapsed": false,
    "deletable": true,
    "editable": true
   },
   "outputs": [],
   "source": [
    "fil=indexes['pathway']=='WNT3'\n",
    "indexes.loc[indexes.index[fil],'pathway']='WNT'"
   ]
  },
  {
   "cell_type": "code",
   "execution_count": 14,
   "metadata": {
    "collapsed": false,
    "deletable": true,
    "editable": true
   },
   "outputs": [],
   "source": [
    "assert np.sum(indexes.index!=zscores.columns)==0"
   ]
  },
  {
   "cell_type": "code",
   "execution_count": 15,
   "metadata": {
    "collapsed": false,
    "deletable": true,
    "editable": true
   },
   "outputs": [],
   "source": [
    "#multiply gene expressions with the sign of perturbation\n",
    "zscores=zscores*indexes['sign']"
   ]
  },
  {
   "cell_type": "code",
   "execution_count": 16,
   "metadata": {
    "collapsed": false,
    "deletable": true,
    "editable": true
   },
   "outputs": [],
   "source": [
    "zscores.to_csv('../results/benchmark/datasets/progeny_data.csv',sep=',')\n",
    "pd.DataFrame(indexes['pathway']).to_csv('../results/benchmark/datasets/progeny_meta.csv',sep=',')"
   ]
  },
  {
   "cell_type": "code",
   "execution_count": 22,
   "metadata": {
    "collapsed": true,
    "deletable": true,
    "editable": true
   },
   "outputs": [],
   "source": [
    "from statsmodels.nonparametric.smoothers_lowess import lowess"
   ]
  },
  {
   "cell_type": "code",
   "execution_count": 17,
   "metadata": {
    "collapsed": true,
    "deletable": true,
    "editable": true
   },
   "outputs": [],
   "source": [
    "#TCGA data\n",
    "gex=pd.read_csv('../data/tcga/GSE62944_merged_expression_voom.csv',sep=',',header=0,index_col=0)"
   ]
  },
  {
   "cell_type": "code",
   "execution_count": 18,
   "metadata": {
    "collapsed": false,
    "deletable": true,
    "editable": true
   },
   "outputs": [],
   "source": [
    "tumor=pd.read_csv('../data/tcga/GSE62944_06_01_15_TCGA_24_CancerType_Samples.txt',\n",
    "                  sep='\\t',index_col=0,header=None)\n",
    "tumor.columns=['TCGA']\n",
    "tumor['Tumor']=1\n",
    "normal=pd.read_csv('../data/tcga/GSE62944_06_01_15_TCGA_24_Normal_CancerType_Samples.txt',\n",
    "                   sep='\\t',index_col=0,header=None)\n",
    "normal.columns=['TCGA']\n",
    "normal['Tumor']=0\n",
    "meta=pd.concat([tumor,normal])"
   ]
  },
  {
   "cell_type": "code",
   "execution_count": 19,
   "metadata": {
    "collapsed": false,
    "deletable": true,
    "editable": true
   },
   "outputs": [],
   "source": [
    "samples=list(set(gex.columns) & set(meta.index))\n",
    "gex=gex[samples]\n",
    "meta=meta.loc[samples]"
   ]
  },
  {
   "cell_type": "code",
   "execution_count": 20,
   "metadata": {
    "collapsed": false,
    "deletable": true,
    "editable": true
   },
   "outputs": [],
   "source": [
    "tissues=meta[meta['Tumor']==0]['TCGA'].value_counts()>=10\n",
    "tissues=tissues.index[tissues]\n",
    "fil=np.in1d(meta['TCGA'],tissues)\n",
    "meta=meta[fil]\n",
    "tissues=(meta[meta['Tumor']==1]['TCGA'].value_counts()).index\n",
    "fil=np.in1d(meta['TCGA'],tissues)\n",
    "meta=meta[fil]\n",
    "gex=gex[meta.index]"
   ]
  },
  {
   "cell_type": "code",
   "execution_count": 23,
   "metadata": {
    "collapsed": false,
    "deletable": true,
    "editable": true
   },
   "outputs": [],
   "source": [
    "#normalise TCGA tissue wise\n",
    "for t in tissues:\n",
    "    samples=meta.index[meta['TCGA']==t]\n",
    "    gex_t=gex[samples]\n",
    "    m=np.mean(gex_t,1)\n",
    "    s=np.std(gex_t,1)\n",
    "    s_p=lowess(np.std(gex_t,1),np.mean(gex_t,1),return_sorted=False)\n",
    "    gex_t=((gex_t.T-m)/s_p).T\n",
    "    gex.loc[gex_t.index,gex_t.columns]=gex_t"
   ]
  },
  {
   "cell_type": "code",
   "execution_count": 24,
   "metadata": {
    "collapsed": false,
    "deletable": true,
    "editable": true
   },
   "outputs": [],
   "source": [
    "meta.to_csv('../results/benchmark/datasets/tcga_meta.csv',sep=',')\n",
    "gex.round(3).to_csv('../results/benchmark/datasets/tcga_data.csv',sep=',')\n"
   ]
  },
  {
   "cell_type": "markdown",
   "metadata": {
    "collapsed": true,
    "deletable": true,
    "editable": true
   },
   "source": [
    "### Calculating gene activity scores on benchmark data"
   ]
  },
  {
   "cell_type": "code",
   "execution_count": 8,
   "metadata": {
    "collapsed": false,
    "deletable": true,
    "editable": true
   },
   "outputs": [
    {
     "data": {
      "text/plain": [
       "0"
      ]
     },
     "execution_count": 8,
     "metadata": {},
     "output_type": "execute_result"
    }
   ],
   "source": [
    "call(['Rscript','../code/run_viper.R'])"
   ]
  }
 ],
 "metadata": {
  "kernelspec": {
   "display_name": "Python 3",
   "language": "python",
   "name": "python3"
  },
  "language_info": {
   "codemirror_mode": {
    "name": "ipython",
    "version": 3
   },
   "file_extension": ".py",
   "mimetype": "text/x-python",
   "name": "python",
   "nbconvert_exporter": "python",
   "pygments_lexer": "ipython3",
   "version": "3.5.2"
  }
 },
 "nbformat": 4,
 "nbformat_minor": 2
}
