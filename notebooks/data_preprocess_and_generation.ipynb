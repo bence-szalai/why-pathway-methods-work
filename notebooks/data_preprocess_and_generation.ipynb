{
 "cells": [
  {
   "cell_type": "markdown",
   "metadata": {
    "deletable": true,
    "editable": true
   },
   "source": [
    "## Analysis pipline for *Why pathway methods work?* project"
   ]
  },
  {
   "cell_type": "markdown",
   "metadata": {
    "deletable": true,
    "editable": true
   },
   "source": [
    "### Preprocess gene sets"
   ]
  },
  {
   "cell_type": "code",
   "execution_count": 1,
   "metadata": {
    "collapsed": false,
    "deletable": true,
    "editable": true
   },
   "outputs": [],
   "source": [
    "from subprocess import call\n",
    "import os\n",
    "import sys\n",
    "import pickle as pckl\n",
    "\n",
    "sys.path.append('../code/')"
   ]
  },
  {
   "cell_type": "code",
   "execution_count": 2,
   "metadata": {
    "collapsed": true,
    "deletable": true,
    "editable": true
   },
   "outputs": [],
   "source": [
    "import numpy as np\n",
    "import pandas as pd"
   ]
  },
  {
   "cell_type": "code",
   "execution_count": 3,
   "metadata": {
    "collapsed": false,
    "deletable": true,
    "editable": true
   },
   "outputs": [
    {
     "data": {
      "text/plain": [
       "0"
      ]
     },
     "execution_count": 3,
     "metadata": {},
     "output_type": "execute_result"
    }
   ],
   "source": [
    "#getting csv regulons from DoRothEA\n",
    "call(['Rscript','../code/get_regulon_from_rdata.R'])"
   ]
  },
  {
   "cell_type": "code",
   "execution_count": 4,
   "metadata": {
    "collapsed": false,
    "deletable": true,
    "editable": true
   },
   "outputs": [
    {
     "data": {
      "text/plain": [
       "0"
      ]
     },
     "execution_count": 4,
     "metadata": {},
     "output_type": "execute_result"
    }
   ],
   "source": [
    "#getting csv gene sets from msigdb\n",
    "call(['Rscript','../code/get_msigdb_genesets.R'])"
   ]
  },
  {
   "cell_type": "code",
   "execution_count": 2,
   "metadata": {
    "collapsed": true,
    "deletable": true,
    "editable": true
   },
   "outputs": [],
   "source": [
    "import make_genesets"
   ]
  },
  {
   "cell_type": "code",
   "execution_count": 3,
   "metadata": {
    "collapsed": true,
    "deletable": true,
    "editable": true
   },
   "outputs": [],
   "source": [
    "#prepocess dorothea regulons\n",
    "for confidence in ['A','B','C','D','E','BEST']:\n",
    "    make_genesets.make_gene_dict_dorothea(confidence)"
   ]
  },
  {
   "cell_type": "code",
   "execution_count": 4,
   "metadata": {
    "collapsed": false,
    "deletable": true,
    "editable": true
   },
   "outputs": [],
   "source": [
    "#multi level gene sets for dorothea\n",
    "make_genesets.make_multi_level_dorothea()"
   ]
  },
  {
   "cell_type": "code",
   "execution_count": 5,
   "metadata": {
    "collapsed": true,
    "deletable": true,
    "editable": true
   },
   "outputs": [],
   "source": [
    "#prepocess msigdb regulons\n",
    "for setname in ['BIOCARTA','CGP','KEGG','REACTOME']:\n",
    "    make_genesets.make_gene_dict_msigdb(setname)"
   ]
  },
  {
   "cell_type": "markdown",
   "metadata": {
    "deletable": true,
    "editable": true
   },
   "source": [
    "Checking the size of different gene sets."
   ]
  },
  {
   "cell_type": "code",
   "execution_count": 3,
   "metadata": {
    "collapsed": true,
    "deletable": true,
    "editable": true
   },
   "outputs": [],
   "source": [
    "from matplotlib import pyplot as plt\n",
    "import seaborn as sns\n",
    "%matplotlib inline\n",
    "sns.set_style(\"whitegrid\")"
   ]
  },
  {
   "cell_type": "code",
   "execution_count": 21,
   "metadata": {
    "collapsed": false,
    "deletable": true,
    "editable": true
   },
   "outputs": [],
   "source": [
    "gene_set_lengths={}\n",
    "for confidence in ['A','B','C','D','E','AB','ABC','ABCD','ABCDE','BEST']:\n",
    "    fin=open('../results/genesets/single/dicts/dorothea_%s.pkl' % confidence,'br')\n",
    "    genesets=pckl.load(fin)\n",
    "    fin.close()\n",
    "    l=[len(genesets[x]) for x in genesets.keys()]\n",
    "    gene_set_lengths['DoRothEA_'+confidence]=np.array(l)\n",
    "for setname in ['CGP','KEGG','REACTOME','BIOCARTA']:\n",
    "    fin=open('../results/genesets/single/dicts/%s.pkl' % setname,'br')\n",
    "    genesets=pckl.load(fin)\n",
    "    fin.close()\n",
    "    l=[len(genesets[x]) for x in genesets.keys()]\n",
    "    gene_set_lengths[setname]=np.array(l)"
   ]
  },
  {
   "cell_type": "code",
   "execution_count": 24,
   "metadata": {
    "collapsed": false,
    "deletable": true,
    "editable": true
   },
   "outputs": [
    {
     "name": "stderr",
     "output_type": "stream",
     "text": [
      "/Users/benceszalai/Library/Enthought/Canopy/edm/envs/Python3/lib/python3.5/site-packages/scipy/stats/stats.py:1706: FutureWarning: Using a non-tuple sequence for multidimensional indexing is deprecated; use `arr[tuple(seq)]` instead of `arr[seq]`. In the future this will be interpreted as an array index, `arr[np.array(seq)]`, which will result either in an error or a different result.\n",
      "  return np.add.reduce(sorted[indexer] * weights, axis=axis) / sumval\n"
     ]
    },
    {
     "data": {
      "text/plain": [
       "<matplotlib.text.Text at 0x17c232da0>"
      ]
     },
     "execution_count": 24,
     "metadata": {},
     "output_type": "execute_result"
    },
    {
     "data": {
      "image/png": "[encoded data removed]",
      "text/plain": [
       "<matplotlib.figure.Figure at 0x179683c18>"
      ]
     },
     "metadata": {},
     "output_type": "display_data"
    }
   ],
   "source": [
    "for confidence in ['DoRothEA_A','DoRothEA_AB','DoRothEA_ABC','KEGG','REACTOME','BIOCARTA','CGP']:\n",
    "    sns.distplot(np.array(gene_set_lengths[confidence])[gene_set_lengths[confidence]<200]\n",
    "                 ,hist=False,label=confidence)\n",
    "plt.xlabel('Length of gene set')\n",
    "plt.ylabel('Densitiy')"
   ]
  },
  {
   "cell_type": "code",
   "execution_count": 4,
   "metadata": {
    "collapsed": true,
    "deletable": true,
    "editable": true
   },
   "outputs": [],
   "source": [
    "import geneset_similarity"
   ]
  },
  {
   "cell_type": "code",
   "execution_count": 5,
   "metadata": {
    "collapsed": false,
    "deletable": true,
    "editable": true
   },
   "outputs": [
    {
     "name": "stderr",
     "output_type": "stream",
     "text": [
      "../code/geneset_similarity.py:20: FutureWarning: \n",
      "Passing list-likes to .loc or [] with any missing label will raise\n",
      "KeyError in the future, you can use .reindex() as an alternative.\n",
      "\n",
      "See the documentation here:\n",
      "https://pandas.pydata.org/pandas-docs/stable/indexing.html#deprecate-loc-reindex-listlike\n",
      "  data1=data1.loc[all_genes]\n",
      "../code/geneset_similarity.py:20: FutureWarning: \n",
      "Passing list-likes to .loc or [] with any missing label will raise\n",
      "KeyError in the future, you can use .reindex() as an alternative.\n",
      "\n",
      "See the documentation here:\n",
      "https://pandas.pydata.org/pandas-docs/stable/indexing.html#deprecate-loc-reindex-listlike\n",
      "  data1=data1.loc[all_genes]\n",
      "../code/geneset_similarity.py:21: FutureWarning: \n",
      "Passing list-likes to .loc or [] with any missing label will raise\n",
      "KeyError in the future, you can use .reindex() as an alternative.\n",
      "\n",
      "See the documentation here:\n",
      "https://pandas.pydata.org/pandas-docs/stable/indexing.html#deprecate-loc-reindex-listlike\n",
      "  data2=data2.loc[all_genes]\n"
     ]
    }
   ],
   "source": [
    "setnames=['dorothea_AB','dorothea_ABC','KEGG','BIOCARTA','REACTOME','CGP']\n",
    "for setname1 in setnames:\n",
    "    for setname2 in setnames:\n",
    "        if setname1<setname2:\n",
    "            geneset_similarity.get_composational_similarity(setname1,setname2)"
   ]
  },
  {
   "cell_type": "code",
   "execution_count": 14,
   "metadata": {
    "collapsed": false,
    "deletable": true,
    "editable": true
   },
   "outputs": [
    {
     "data": {
      "text/plain": [
       "0"
      ]
     },
     "execution_count": 14,
     "metadata": {},
     "output_type": "execute_result"
    }
   ],
   "source": [
    "#make rdata file from the gene sets for viper\n",
    "call(['Rscript','../code/make_viper_regulon.R'])"
   ]
  },
  {
   "cell_type": "markdown",
   "metadata": {
    "deletable": true,
    "editable": true
   },
   "source": [
    "### Preprocess benchamrking datasets\n",
    "Now as we are having our gene sets (and gene set similarities) ready, we need the benchmarking datasets. For benchmarking we will use 2 datasets:\n",
    "* perturbation gene expression profiles form PROGENy\n",
    "* tumor vs. normal in TCGA data"
   ]
  },
  {
   "cell_type": "code",
   "execution_count": 10,
   "metadata": {
    "collapsed": true,
    "deletable": true,
    "editable": true
   },
   "outputs": [],
   "source": [
    "import pandas as pd\n",
    "import numpy as np"
   ]
  },
  {
   "cell_type": "code",
   "execution_count": 22,
   "metadata": {
    "collapsed": true,
    "deletable": true,
    "editable": true
   },
   "outputs": [],
   "source": [
    "#PROGENY prepocess\n",
    "zscores=pd.read_csv('../data/progeny/zscores_14PW_PROGENy.csv',sep=',',header=0,index_col=0)\n",
    "indexes=pd.read_csv('../data/progeny/index_14PW_PROGENy.csv',sep=',',header=0,index_col=0)\n",
    "indexes.index=indexes['id']\n",
    "del indexes['id']"
   ]
  },
  {
   "cell_type": "code",
   "execution_count": 25,
   "metadata": {
    "collapsed": false,
    "deletable": true,
    "editable": true
   },
   "outputs": [
    {
     "data": {
      "text/plain": [
       "6684"
      ]
     },
     "execution_count": 25,
     "metadata": {},
     "output_type": "execute_result"
    }
   ],
   "source": [
    "np.sum(zscores.isna().sum(1)==0)"
   ]
  },
  {
   "cell_type": "code",
   "execution_count": 27,
   "metadata": {
    "collapsed": false,
    "deletable": true,
    "editable": true
   },
   "outputs": [
    {
     "data": {
      "text/plain": [
       "<matplotlib.text.Text at 0x13032c898>"
      ]
     },
     "execution_count": 27,
     "metadata": {},
     "output_type": "execute_result"
    },
    {
     "data": {
      "image/png": "[encoded data removed]",
      "text/plain": [
       "<matplotlib.figure.Figure at 0x10abf3940>"
      ]
     },
     "metadata": {},
     "output_type": "display_data"
    }
   ],
   "source": [
    "#removing NAs\n",
    "sns.distplot(zscores.isna().sum(1),norm_hist=False,kde=False,bins=100)\n",
    "plt.xlabel('Missing in experiments')\n",
    "plt.ylabel('Number of genes')"
   ]
  },
  {
   "cell_type": "code",
   "execution_count": 28,
   "metadata": {
    "collapsed": false,
    "deletable": true,
    "editable": true
   },
   "outputs": [],
   "source": [
    "#we keep only genes with 0 missing values\n",
    "fil=zscores.isna().sum(1)==0\n",
    "zscores=zscores[fil]"
   ]
  },
  {
   "cell_type": "code",
   "execution_count": 29,
   "metadata": {
    "collapsed": false
   },
   "outputs": [
    {
     "data": {
      "text/plain": [
       "(6684, 652)"
      ]
     },
     "execution_count": 29,
     "metadata": {},
     "output_type": "execute_result"
    }
   ],
   "source": [
    "zscores.shape"
   ]
  },
  {
   "cell_type": "code",
   "execution_count": 30,
   "metadata": {
    "collapsed": false,
    "deletable": true,
    "editable": true
   },
   "outputs": [
    {
     "data": {
      "text/plain": [
       "{'Androgen',\n",
       " 'EGFR',\n",
       " 'Estrogen',\n",
       " 'Hypoxia',\n",
       " 'JAK-STAT',\n",
       " 'MAPK',\n",
       " 'NFkB',\n",
       " 'PI3K',\n",
       " 'TGFb',\n",
       " 'TNFa',\n",
       " 'Trail',\n",
       " 'VEGF',\n",
       " 'WNT',\n",
       " 'WNT3',\n",
       " 'p53'}"
      ]
     },
     "execution_count": 30,
     "metadata": {},
     "output_type": "execute_result"
    }
   ],
   "source": [
    "set(indexes['pathway'])"
   ]
  },
  {
   "cell_type": "code",
   "execution_count": 32,
   "metadata": {
    "collapsed": false,
    "deletable": true,
    "editable": true
   },
   "outputs": [],
   "source": [
    "#WNT3 is mislabelled, it is WNT correctly\n",
    "fil=indexes['pathway']=='WNT3'\n",
    "indexes.loc[indexes.index[fil],'pathway']='WNT'"
   ]
  },
  {
   "cell_type": "code",
   "execution_count": 33,
   "metadata": {
    "collapsed": false,
    "deletable": true,
    "editable": true
   },
   "outputs": [],
   "source": [
    "assert np.sum(indexes.index!=zscores.columns)==0"
   ]
  },
  {
   "cell_type": "code",
   "execution_count": 34,
   "metadata": {
    "collapsed": false,
    "deletable": true,
    "editable": true
   },
   "outputs": [],
   "source": [
    "#multiply gene expressions with the sign of perturbation\n",
    "zscores=zscores*indexes['sign']"
   ]
  },
  {
   "cell_type": "code",
   "execution_count": 36,
   "metadata": {
    "collapsed": false,
    "deletable": true,
    "editable": true
   },
   "outputs": [],
   "source": [
    "zscores.to_csv('../results/benchmark/datasets/progeny_data.csv',sep=',')\n",
    "pd.DataFrame(indexes['pathway']).to_csv('../results/benchmark/datasets/progeny_meta.csv',sep=',')"
   ]
  },
  {
   "cell_type": "code",
   "execution_count": 37,
   "metadata": {
    "collapsed": true,
    "deletable": true,
    "editable": true
   },
   "outputs": [],
   "source": [
    "from statsmodels.nonparametric.smoothers_lowess import lowess"
   ]
  },
  {
   "cell_type": "code",
   "execution_count": 38,
   "metadata": {
    "collapsed": true,
    "deletable": true,
    "editable": true
   },
   "outputs": [],
   "source": [
    "#TCGA data\n",
    "gex=pd.read_csv('../data/tcga/GSE62944_merged_expression_voom.csv',sep=',',header=0,index_col=0)"
   ]
  },
  {
   "cell_type": "code",
   "execution_count": 39,
   "metadata": {
    "collapsed": true,
    "deletable": true,
    "editable": true
   },
   "outputs": [],
   "source": [
    "tumor=pd.read_csv('../data/tcga/GSE62944_06_01_15_TCGA_24_CancerType_Samples.txt',\n",
    "                  sep='\\t',index_col=0,header=None)\n",
    "tumor.columns=['TCGA']\n",
    "tumor['Tumor']=1\n",
    "normal=pd.read_csv('../data/tcga/GSE62944_06_01_15_TCGA_24_Normal_CancerType_Samples.txt',\n",
    "                   sep='\\t',index_col=0,header=None)\n",
    "normal.columns=['TCGA']\n",
    "normal['Tumor']=0\n",
    "meta=pd.concat([tumor,normal])"
   ]
  },
  {
   "cell_type": "code",
   "execution_count": 40,
   "metadata": {
    "collapsed": false,
    "deletable": true,
    "editable": true
   },
   "outputs": [],
   "source": [
    "samples=list(set(gex.columns) & set(meta.index))\n",
    "gex=gex[samples]\n",
    "meta=meta.loc[samples]"
   ]
  },
  {
   "cell_type": "code",
   "execution_count": 41,
   "metadata": {
    "collapsed": false,
    "deletable": true,
    "editable": true
   },
   "outputs": [],
   "source": [
    "tissues=meta[meta['Tumor']==0]['TCGA'].value_counts()>=10\n",
    "tissues=tissues.index[tissues]\n",
    "fil=np.in1d(meta['TCGA'],tissues)\n",
    "meta=meta[fil]\n",
    "tissues=(meta[meta['Tumor']==1]['TCGA'].value_counts()).index\n",
    "fil=np.in1d(meta['TCGA'],tissues)\n",
    "meta=meta[fil]\n",
    "gex=gex[meta.index]"
   ]
  },
  {
   "cell_type": "code",
   "execution_count": 42,
   "metadata": {
    "collapsed": false,
    "deletable": true,
    "editable": true
   },
   "outputs": [],
   "source": [
    "#normalise TCGA tissue wise\n",
    "for t in tissues:\n",
    "    samples=meta.index[meta['TCGA']==t]\n",
    "    gex_t=gex[samples]\n",
    "    m=np.mean(gex_t,1)\n",
    "    s=np.std(gex_t,1)\n",
    "    s_p=lowess(np.std(gex_t,1),np.mean(gex_t,1),return_sorted=False)\n",
    "    gex_t=((gex_t.T-m)/s_p).T\n",
    "    gex.loc[gex_t.index,gex_t.columns]=gex_t"
   ]
  },
  {
   "cell_type": "code",
   "execution_count": 43,
   "metadata": {
    "collapsed": false,
    "deletable": true,
    "editable": true
   },
   "outputs": [],
   "source": [
    "meta.to_csv('../results/benchmark/datasets/tcga_meta.csv',sep=',')\n",
    "gex.round(3).to_csv('../results/benchmark/datasets/tcga_data.csv',sep=',')\n"
   ]
  },
  {
   "cell_type": "markdown",
   "metadata": {
    "collapsed": true,
    "deletable": true,
    "editable": true
   },
   "source": [
    "### Calculating gene activity scores on benchmark data"
   ]
  },
  {
   "cell_type": "code",
   "execution_count": 8,
   "metadata": {
    "collapsed": false,
    "deletable": true,
    "editable": true
   },
   "outputs": [
    {
     "data": {
      "text/plain": [
       "0"
      ]
     },
     "execution_count": 8,
     "metadata": {},
     "output_type": "execute_result"
    }
   ],
   "source": [
    "call(['Rscript','../code/run_viper.R'])"
   ]
  }
 ],
 "metadata": {
  "kernelspec": {
   "display_name": "Python 3",
   "language": "python",
   "name": "python3"
  },
  "language_info": {
   "codemirror_mode": {
    "name": "ipython",
    "version": 3
   },
   "file_extension": ".py",
   "mimetype": "text/x-python",
   "name": "python",
   "nbconvert_exporter": "python",
   "pygments_lexer": "ipython3",
   "version": "3.5.2"
  }
 },
 "nbformat": 4,
 "nbformat_minor": 2
}
