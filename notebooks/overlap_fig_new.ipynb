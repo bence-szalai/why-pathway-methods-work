{
 "cells": [
  {
   "cell_type": "code",
   "execution_count": 1470,
   "metadata": {
    "collapsed": true,
    "deletable": true,
    "editable": true
   },
   "outputs": [],
   "source": [
    "import numpy as np\n",
    "import pandas as pd\n",
    "\n",
    "from matplotlib import pyplot as plt\n",
    "import seaborn as sns\n",
    "%matplotlib inline\n",
    "sns.set_style(\"whitegrid\")\n",
    "\n",
    "import statsmodels.formula.api as smf\n",
    "import statsmodels.api as sm"
   ]
  },
  {
   "cell_type": "code",
   "execution_count": 1485,
   "metadata": {
    "collapsed": true,
    "deletable": true,
    "editable": true
   },
   "outputs": [],
   "source": [
    "dnames=['BEST_dorothea_AB','BEST_dorothea_CD','KEGG','REACTOME','CGP','BIOCARTA']\n",
    "bname='progeny'\n",
    "atype='_abs'\n",
    "rtype='_filtered'"
   ]
  },
  {
   "cell_type": "code",
   "execution_count": 1486,
   "metadata": {
    "collapsed": false
   },
   "outputs": [],
   "source": [
    "delta={}\n",
    "for dname1 in dnames:\n",
    "    delta[dname1]=[]\n",
    "    for dname2 in list(set(dnames)-set([dname1])):\n",
    "        score=pd.read_csv('../results/benchmark/z_scores/%s/single/%s%s%s.csv' % (bname,dname1,rtype,atype),\n",
    "                      sep=',',header=0,index_col=0).abs().max()\n",
    "        score_1minus2=pd.read_csv('../results/benchmark/z_scores/%s/overlap/%s%s_minus_%s%s%s.csv' % (bname,dname1,rtype,dname2,rtype,atype),\n",
    "                                     sep=',',header=0,index_col=0).abs().max()\n",
    "        if dname1<dname2:\n",
    "            score=score[pd.Series(score_1minus2.index).apply(lambda x:x.split('*')[0]).values]\n",
    "        else:\n",
    "            score=score[pd.Series(score_1minus2.index).apply(lambda x:x.split('*')[1]).values]\n",
    "        delta[dname1]+=list(score_1minus2.values-score.values)\n",
    "delta_df=pd.DataFrame(columns=['Data','Delta'])\n",
    "for dname in delta:\n",
    "    temp=pd.DataFrame(columns=delta_df.columns)\n",
    "    temp['Delta']=delta[dname]\n",
    "    temp['Data']=dname\n",
    "    delta_df=pd.concat([delta_df,temp])\n",
    "fil=delta_df['Delta'].abs()<2\n",
    "delta_df=delta_df[fil]"
   ]
  },
  {
   "cell_type": "code",
   "execution_count": 1487,
   "metadata": {
    "collapsed": false
   },
   "outputs": [
    {
     "name": "stderr",
     "output_type": "stream",
     "text": [
      "/Users/benceszalai/Library/Enthought/Canopy/edm/envs/Python3/lib/python3.5/site-packages/scipy/stats/stats.py:1706: FutureWarning: Using a non-tuple sequence for multidimensional indexing is deprecated; use `arr[tuple(seq)]` instead of `arr[seq]`. In the future this will be interpreted as an array index, `arr[np.array(seq)]`, which will result either in an error or a different result.\n",
      "  return np.add.reduce(sorted[indexer] * weights, axis=axis) / sumval\n"
     ]
    },
    {
     "data": {
      "text/plain": [
       "<matplotlib.axes._subplots.AxesSubplot at 0x129f9cd30>"
      ]
     },
     "execution_count": 1487,
     "metadata": {},
     "output_type": "execute_result"
    },
    {
     "data": {
      "image/png": "[encoded data removed]",
      "text/plain": [
       "<matplotlib.figure.Figure at 0x1a914eef0>"
      ]
     },
     "metadata": {},
     "output_type": "display_data"
    }
   ],
   "source": [
    "sns.barplot(x='Data',y='Delta',data=delta_df)"
   ]
  },
  {
   "cell_type": "code",
   "execution_count": 1488,
   "metadata": {
    "collapsed": true
   },
   "outputs": [],
   "source": [
    "model=smf.ols('Delta ~ Data',data=delta_df).fit()"
   ]
  },
  {
   "cell_type": "code",
   "execution_count": 1489,
   "metadata": {
    "collapsed": false
   },
   "outputs": [
    {
     "data": {
      "text/html": [
       "<div>\n",
       "<style scoped>\n",
       "    .dataframe tbody tr th:only-of-type {\n",
       "        vertical-align: middle;\n",
       "    }\n",
       "\n",
       "    .dataframe tbody tr th {\n",
       "        vertical-align: top;\n",
       "    }\n",
       "\n",
       "    .dataframe thead th {\n",
       "        text-align: right;\n",
       "    }\n",
       "</style>\n",
       "<table border=\"1\" class=\"dataframe\">\n",
       "  <thead>\n",
       "    <tr style=\"text-align: right;\">\n",
       "      <th></th>\n",
       "      <th>df</th>\n",
       "      <th>sum_sq</th>\n",
       "      <th>mean_sq</th>\n",
       "      <th>F</th>\n",
       "      <th>PR(&gt;F)</th>\n",
       "    </tr>\n",
       "  </thead>\n",
       "  <tbody>\n",
       "    <tr>\n",
       "      <th>Data</th>\n",
       "      <td>5.0</td>\n",
       "      <td>43.346225</td>\n",
       "      <td>8.669245</td>\n",
       "      <td>35.979324</td>\n",
       "      <td>5.930465e-37</td>\n",
       "    </tr>\n",
       "    <tr>\n",
       "      <th>Residual</th>\n",
       "      <td>150453.0</td>\n",
       "      <td>36251.762385</td>\n",
       "      <td>0.240951</td>\n",
       "      <td>NaN</td>\n",
       "      <td>NaN</td>\n",
       "    </tr>\n",
       "  </tbody>\n",
       "</table>\n",
       "</div>"
      ],
      "text/plain": [
       "                df        sum_sq   mean_sq          F        PR(>F)\n",
       "Data           5.0     43.346225  8.669245  35.979324  5.930465e-37\n",
       "Residual  150453.0  36251.762385  0.240951        NaN           NaN"
      ]
     },
     "execution_count": 1489,
     "metadata": {},
     "output_type": "execute_result"
    }
   ],
   "source": [
    "sm.stats.anova_lm(model)"
   ]
  },
  {
   "cell_type": "code",
   "execution_count": 1490,
   "metadata": {
    "collapsed": false
   },
   "outputs": [
    {
     "data": {
      "text/plain": [
       "Intercept                   1.755653e-55\n",
       "Data[T.BEST_dorothea_CD]    1.462425e-01\n",
       "Data[T.BIOCARTA]            3.637553e-15\n",
       "Data[T.CGP]                 9.771311e-01\n",
       "Data[T.KEGG]                3.071182e-05\n",
       "Data[T.REACTOME]            2.696825e-01\n",
       "dtype: float64"
      ]
     },
     "execution_count": 1490,
     "metadata": {},
     "output_type": "execute_result"
    }
   ],
   "source": [
    "model.pvalues"
   ]
  },
  {
   "cell_type": "code",
   "execution_count": 1491,
   "metadata": {
    "collapsed": false
   },
   "outputs": [
    {
     "data": {
      "text/plain": [
       "Intercept                  -0.077514\n",
       "Data[T.BEST_dorothea_CD]   -0.012183\n",
       "Data[T.BIOCARTA]           -0.052691\n",
       "Data[T.CGP]                 0.000155\n",
       "Data[T.KEGG]               -0.024462\n",
       "Data[T.REACTOME]            0.005971\n",
       "dtype: float64"
      ]
     },
     "execution_count": 1491,
     "metadata": {},
     "output_type": "execute_result"
    }
   ],
   "source": [
    "model.params"
   ]
  },
  {
   "cell_type": "code",
   "execution_count": 1492,
   "metadata": {
    "collapsed": false
   },
   "outputs": [],
   "source": [
    "delta={}\n",
    "for dname1 in dnames:\n",
    "    delta[dname1]=[]\n",
    "    for dname2 in list(set(dnames)-set([dname1])):\n",
    "        score=pd.read_csv('../results/benchmark/z_scores/%s/single/%s%s%s.csv' % (bname,dname2,rtype,atype),\n",
    "                      sep=',',header=0,index_col=0).abs().max()\n",
    "        score_2minus1=pd.read_csv('../results/benchmark/z_scores/%s/overlap/%s%s_minus_%s%s%s.csv' % (bname,dname2,rtype,dname1,rtype,atype),\n",
    "                                     sep=',',header=0,index_col=0).abs().max()\n",
    "        if dname2<dname1:\n",
    "            score=score[pd.Series(score_2minus1.index).apply(lambda x:x.split('*')[0]).values]\n",
    "        else:\n",
    "            score=score[pd.Series(score_2minus1.index).apply(lambda x:x.split('*')[1]).values]\n",
    "        delta[dname1]+=list(score_2minus1.values-score.values)\n",
    "delta_df=pd.DataFrame(columns=['Data','Delta'])\n",
    "for dname in delta:\n",
    "    temp=pd.DataFrame(columns=delta_df.columns)\n",
    "    temp['Delta']=delta[dname]\n",
    "    temp['Data']=dname\n",
    "    delta_df=pd.concat([delta_df,temp])\n",
    "fil=delta_df['Delta'].abs()<2\n",
    "delta_df=delta_df[fil]"
   ]
  },
  {
   "cell_type": "code",
   "execution_count": 1493,
   "metadata": {
    "collapsed": false
   },
   "outputs": [
    {
     "name": "stderr",
     "output_type": "stream",
     "text": [
      "/Users/benceszalai/Library/Enthought/Canopy/edm/envs/Python3/lib/python3.5/site-packages/scipy/stats/stats.py:1706: FutureWarning: Using a non-tuple sequence for multidimensional indexing is deprecated; use `arr[tuple(seq)]` instead of `arr[seq]`. In the future this will be interpreted as an array index, `arr[np.array(seq)]`, which will result either in an error or a different result.\n",
      "  return np.add.reduce(sorted[indexer] * weights, axis=axis) / sumval\n"
     ]
    },
    {
     "data": {
      "text/plain": [
       "<matplotlib.axes._subplots.AxesSubplot at 0x12284d438>"
      ]
     },
     "execution_count": 1493,
     "metadata": {},
     "output_type": "execute_result"
    },
    {
     "data": {
      "image/png": "[encoded data removed]",
      "text/plain": [
       "<matplotlib.figure.Figure at 0x10b0fa470>"
      ]
     },
     "metadata": {},
     "output_type": "display_data"
    }
   ],
   "source": [
    "sns.barplot(x='Data',y='Delta',data=delta_df)"
   ]
  },
  {
   "cell_type": "code",
   "execution_count": 1494,
   "metadata": {
    "collapsed": false
   },
   "outputs": [],
   "source": [
    "model=smf.ols('Delta ~ Data',data=delta_df).fit()"
   ]
  },
  {
   "cell_type": "code",
   "execution_count": 1495,
   "metadata": {
    "collapsed": false
   },
   "outputs": [
    {
     "data": {
      "text/html": [
       "<div>\n",
       "<style scoped>\n",
       "    .dataframe tbody tr th:only-of-type {\n",
       "        vertical-align: middle;\n",
       "    }\n",
       "\n",
       "    .dataframe tbody tr th {\n",
       "        vertical-align: top;\n",
       "    }\n",
       "\n",
       "    .dataframe thead th {\n",
       "        text-align: right;\n",
       "    }\n",
       "</style>\n",
       "<table border=\"1\" class=\"dataframe\">\n",
       "  <thead>\n",
       "    <tr style=\"text-align: right;\">\n",
       "      <th></th>\n",
       "      <th>df</th>\n",
       "      <th>sum_sq</th>\n",
       "      <th>mean_sq</th>\n",
       "      <th>F</th>\n",
       "      <th>PR(&gt;F)</th>\n",
       "    </tr>\n",
       "  </thead>\n",
       "  <tbody>\n",
       "    <tr>\n",
       "      <th>Data</th>\n",
       "      <td>5.0</td>\n",
       "      <td>141.858054</td>\n",
       "      <td>28.371611</td>\n",
       "      <td>118.069438</td>\n",
       "      <td>4.362404e-125</td>\n",
       "    </tr>\n",
       "    <tr>\n",
       "      <th>Residual</th>\n",
       "      <td>150453.0</td>\n",
       "      <td>36153.250555</td>\n",
       "      <td>0.240296</td>\n",
       "      <td>NaN</td>\n",
       "      <td>NaN</td>\n",
       "    </tr>\n",
       "  </tbody>\n",
       "</table>\n",
       "</div>"
      ],
      "text/plain": [
       "                df        sum_sq    mean_sq           F         PR(>F)\n",
       "Data           5.0    141.858054  28.371611  118.069438  4.362404e-125\n",
       "Residual  150453.0  36153.250555   0.240296         NaN            NaN"
      ]
     },
     "execution_count": 1495,
     "metadata": {},
     "output_type": "execute_result"
    }
   ],
   "source": [
    "sm.stats.anova_lm(model)"
   ]
  },
  {
   "cell_type": "code",
   "execution_count": 1496,
   "metadata": {
    "collapsed": false
   },
   "outputs": [
    {
     "data": {
      "text/plain": [
       "Intercept                   5.209275e-250\n",
       "Data[T.BEST_dorothea_CD]     5.196359e-54\n",
       "Data[T.BIOCARTA]             3.942672e-39\n",
       "Data[T.CGP]                  1.577791e-30\n",
       "Data[T.KEGG]                 8.315070e-76\n",
       "Data[T.REACTOME]             7.462958e-85\n",
       "dtype: float64"
      ]
     },
     "execution_count": 1496,
     "metadata": {},
     "output_type": "execute_result"
    }
   ],
   "source": [
    "model.pvalues"
   ]
  },
  {
   "cell_type": "code",
   "execution_count": 1497,
   "metadata": {
    "collapsed": false
   },
   "outputs": [
    {
     "data": {
      "text/plain": [
       "Intercept                  -0.168598\n",
       "Data[T.BEST_dorothea_CD]    0.129032\n",
       "Data[T.BIOCARTA]            0.086329\n",
       "Data[T.CGP]                 0.062574\n",
       "Data[T.KEGG]                0.109516\n",
       "Data[T.REACTOME]            0.106338\n",
       "dtype: float64"
      ]
     },
     "execution_count": 1497,
     "metadata": {},
     "output_type": "execute_result"
    }
   ],
   "source": [
    "model.params"
   ]
  },
  {
   "cell_type": "code",
   "execution_count": null,
   "metadata": {
    "collapsed": true
   },
   "outputs": [],
   "source": []
  },
  {
   "cell_type": "code",
   "execution_count": null,
   "metadata": {
    "collapsed": true
   },
   "outputs": [],
   "source": []
  }
 ],
 "metadata": {
  "kernelspec": {
   "display_name": "Python 3",
   "language": "python",
   "name": "python3"
  },
  "language_info": {
   "codemirror_mode": {
    "name": "ipython",
    "version": 3
   },
   "file_extension": ".py",
   "mimetype": "text/x-python",
   "name": "python",
   "nbconvert_exporter": "python",
   "pygments_lexer": "ipython3",
   "version": "3.5.2"
  }
 },
 "nbformat": 4,
 "nbformat_minor": 2
}
