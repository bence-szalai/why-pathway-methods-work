{
 "cells": [
  {
   "cell_type": "code",
   "execution_count": 1,
   "metadata": {},
   "outputs": [],
   "source": [
    "import numpy as np\n",
    "import pandas as pd\n",
    "\n",
    "from matplotlib import pyplot as plt\n",
    "import seaborn as sns\n",
    "%matplotlib inline\n",
    "sns.set_style(\"whitegrid\")\n",
    "\n",
    "import statsmodels.formula.api as smf\n",
    "import statsmodels.api as sm"
   ]
  },
  {
   "cell_type": "code",
   "execution_count": 2,
   "metadata": {
    "collapsed": true
   },
   "outputs": [],
   "source": [
    "dnames=['BEST_dorothea_AB','BEST_dorothea_CD','KEGG','REACTOME','CGP','BIOCARTA']\n",
    "bname='progeny'\n",
    "atype='_abs'\n",
    "rtype='_filtered'"
   ]
  },
  {
   "cell_type": "code",
   "execution_count": 3,
   "metadata": {},
   "outputs": [],
   "source": [
    "delta={}\n",
    "for dname1 in dnames:\n",
    "    delta[dname1]=[]\n",
    "    for dname2 in list(set(dnames)-set([dname1])):\n",
    "        score=pd.read_csv('../results/benchmark/z_scores/%s/single/%s%s%s.csv' % (bname,dname1,rtype,atype),\n",
    "                      sep=',',header=0,index_col=0).abs().max()\n",
    "        score_1minus2=pd.read_csv('../results/benchmark/z_scores/%s/overlap/%s%s_minus_%s%s%s.csv' % (bname,dname1,rtype,dname2,rtype,atype),\n",
    "                                     sep=',',header=0,index_col=0).abs().max()\n",
    "        if dname1<dname2:\n",
    "            score=score[pd.Series(score_1minus2.index).apply(lambda x:x.split('*')[0]).values]\n",
    "        else:\n",
    "            score=score[pd.Series(score_1minus2.index).apply(lambda x:x.split('*')[1]).values]\n",
    "        delta[dname1]+=list(score_1minus2.values-score.values)\n",
    "delta_df=pd.DataFrame(columns=['Data','Delta'])\n",
    "for dname in delta:\n",
    "    temp=pd.DataFrame(columns=delta_df.columns)\n",
    "    temp['Delta']=delta[dname]\n",
    "    temp['Data']=dname\n",
    "    delta_df=pd.concat([delta_df,temp])\n",
    "fil=delta_df['Delta'].abs()<2\n",
    "delta_df=delta_df[fil]"
   ]
  },
  {
   "cell_type": "code",
   "execution_count": 4,
   "metadata": {},
   "outputs": [
    {
     "name": "stderr",
     "output_type": "stream",
     "text": [
      "/Users/benceszalai/Library/Enthought/Canopy/edm/envs/Python3/lib/python3.5/site-packages/scipy/stats/stats.py:1706: FutureWarning: Using a non-tuple sequence for multidimensional indexing is deprecated; use `arr[tuple(seq)]` instead of `arr[seq]`. In the future this will be interpreted as an array index, `arr[np.array(seq)]`, which will result either in an error or a different result.\n",
      "  return np.add.reduce(sorted[indexer] * weights, axis=axis) / sumval\n"
     ]
    },
    {
     "data": {
      "text/plain": [
       "<matplotlib.axes._subplots.AxesSubplot at 0x122a24470>"
      ]
     },
     "execution_count": 4,
     "metadata": {},
     "output_type": "execute_result"
    },
    {
     "data": {
      "image/png": "[encoded data removed]",
      "text/plain": [
       "<matplotlib.figure.Figure at 0x1301fce80>"
      ]
     },
     "metadata": {},
     "output_type": "display_data"
    }
   ],
   "source": [
    "sns.barplot(x='Data',y='Delta',data=delta_df)"
   ]
  },
  {
   "cell_type": "code",
   "execution_count": 5,
   "metadata": {
    "collapsed": true
   },
   "outputs": [],
   "source": [
    "model=smf.ols('Delta ~ Data',data=delta_df).fit()"
   ]
  },
  {
   "cell_type": "code",
   "execution_count": 6,
   "metadata": {},
   "outputs": [
    {
     "data": {
      "text/html": [
       "<div>\n",
       "<style scoped>\n",
       "    .dataframe tbody tr th:only-of-type {\n",
       "        vertical-align: middle;\n",
       "    }\n",
       "\n",
       "    .dataframe tbody tr th {\n",
       "        vertical-align: top;\n",
       "    }\n",
       "\n",
       "    .dataframe thead th {\n",
       "        text-align: right;\n",
       "    }\n",
       "</style>\n",
       "<table border=\"1\" class=\"dataframe\">\n",
       "  <thead>\n",
       "    <tr style=\"text-align: right;\">\n",
       "      <th></th>\n",
       "      <th>df</th>\n",
       "      <th>sum_sq</th>\n",
       "      <th>mean_sq</th>\n",
       "      <th>F</th>\n",
       "      <th>PR(&gt;F)</th>\n",
       "    </tr>\n",
       "  </thead>\n",
       "  <tbody>\n",
       "    <tr>\n",
       "      <th>Data</th>\n",
       "      <td>5.0</td>\n",
       "      <td>43.346225</td>\n",
       "      <td>8.669245</td>\n",
       "      <td>35.979324</td>\n",
       "      <td>5.930465e-37</td>\n",
       "    </tr>\n",
       "    <tr>\n",
       "      <th>Residual</th>\n",
       "      <td>150453.0</td>\n",
       "      <td>36251.762385</td>\n",
       "      <td>0.240951</td>\n",
       "      <td>NaN</td>\n",
       "      <td>NaN</td>\n",
       "    </tr>\n",
       "  </tbody>\n",
       "</table>\n",
       "</div>"
      ],
      "text/plain": [
       "                df        sum_sq   mean_sq          F        PR(>F)\n",
       "Data           5.0     43.346225  8.669245  35.979324  5.930465e-37\n",
       "Residual  150453.0  36251.762385  0.240951        NaN           NaN"
      ]
     },
     "execution_count": 6,
     "metadata": {},
     "output_type": "execute_result"
    }
   ],
   "source": [
    "sm.stats.anova_lm(model)"
   ]
  },
  {
   "cell_type": "code",
   "execution_count": 7,
   "metadata": {},
   "outputs": [
    {
     "data": {
      "text/plain": [
       "Intercept                   1.755653e-55\n",
       "Data[T.BEST_dorothea_CD]    1.462425e-01\n",
       "Data[T.BIOCARTA]            3.637553e-15\n",
       "Data[T.CGP]                 9.771311e-01\n",
       "Data[T.KEGG]                3.071182e-05\n",
       "Data[T.REACTOME]            2.696825e-01\n",
       "dtype: float64"
      ]
     },
     "execution_count": 7,
     "metadata": {},
     "output_type": "execute_result"
    }
   ],
   "source": [
    "model.pvalues"
   ]
  },
  {
   "cell_type": "code",
   "execution_count": 8,
   "metadata": {},
   "outputs": [
    {
     "data": {
      "text/plain": [
       "Intercept                  -0.077514\n",
       "Data[T.BEST_dorothea_CD]   -0.012183\n",
       "Data[T.BIOCARTA]           -0.052691\n",
       "Data[T.CGP]                 0.000155\n",
       "Data[T.KEGG]               -0.024462\n",
       "Data[T.REACTOME]            0.005971\n",
       "dtype: float64"
      ]
     },
     "execution_count": 8,
     "metadata": {},
     "output_type": "execute_result"
    }
   ],
   "source": [
    "model.params"
   ]
  },
  {
   "cell_type": "code",
   "execution_count": 9,
   "metadata": {},
   "outputs": [],
   "source": [
    "delta={}\n",
    "for dname1 in dnames:\n",
    "    delta[dname1]=[]\n",
    "    for dname2 in list(set(dnames)-set([dname1])):\n",
    "        score=pd.read_csv('../results/benchmark/z_scores/%s/single/%s%s%s.csv' % (bname,dname2,rtype,atype),\n",
    "                      sep=',',header=0,index_col=0).abs().max()\n",
    "        score_2minus1=pd.read_csv('../results/benchmark/z_scores/%s/overlap/%s%s_minus_%s%s%s.csv' % (bname,dname2,rtype,dname1,rtype,atype),\n",
    "                                     sep=',',header=0,index_col=0).abs().max()\n",
    "        if dname2<dname1:\n",
    "            score=score[pd.Series(score_2minus1.index).apply(lambda x:x.split('*')[0]).values]\n",
    "        else:\n",
    "            score=score[pd.Series(score_2minus1.index).apply(lambda x:x.split('*')[1]).values]\n",
    "        delta[dname1]+=list(score_2minus1.values-score.values)\n",
    "delta_df=pd.DataFrame(columns=['Data','Delta'])\n",
    "for dname in delta:\n",
    "    temp=pd.DataFrame(columns=delta_df.columns)\n",
    "    temp['Delta']=delta[dname]\n",
    "    temp['Data']=dname\n",
    "    delta_df=pd.concat([delta_df,temp])\n",
    "fil=delta_df['Delta'].abs()<2\n",
    "delta_df=delta_df[fil]"
   ]
  },
  {
   "cell_type": "code",
   "execution_count": 10,
   "metadata": {},
   "outputs": [
    {
     "name": "stderr",
     "output_type": "stream",
     "text": [
      "/Users/benceszalai/Library/Enthought/Canopy/edm/envs/Python3/lib/python3.5/site-packages/scipy/stats/stats.py:1706: FutureWarning: Using a non-tuple sequence for multidimensional indexing is deprecated; use `arr[tuple(seq)]` instead of `arr[seq]`. In the future this will be interpreted as an array index, `arr[np.array(seq)]`, which will result either in an error or a different result.\n",
      "  return np.add.reduce(sorted[indexer] * weights, axis=axis) / sumval\n"
     ]
    },
    {
     "data": {
      "text/plain": [
       "<matplotlib.axes._subplots.AxesSubplot at 0x1104f4240>"
      ]
     },
     "execution_count": 10,
     "metadata": {},
     "output_type": "execute_result"
    },
    {
     "data": {
      "image/png": "[encoded data removed]",
      "text/plain": [
       "<matplotlib.figure.Figure at 0x120785080>"
      ]
     },
     "metadata": {},
     "output_type": "display_data"
    }
   ],
   "source": [
    "sns.barplot(x='Data',y='Delta',data=delta_df)"
   ]
  },
  {
   "cell_type": "code",
   "execution_count": 11,
   "metadata": {},
   "outputs": [],
   "source": [
    "model=smf.ols('Delta ~ Data',data=delta_df).fit()"
   ]
  },
  {
   "cell_type": "code",
   "execution_count": 12,
   "metadata": {},
   "outputs": [
    {
     "data": {
      "text/html": [
       "<div>\n",
       "<style scoped>\n",
       "    .dataframe tbody tr th:only-of-type {\n",
       "        vertical-align: middle;\n",
       "    }\n",
       "\n",
       "    .dataframe tbody tr th {\n",
       "        vertical-align: top;\n",
       "    }\n",
       "\n",
       "    .dataframe thead th {\n",
       "        text-align: right;\n",
       "    }\n",
       "</style>\n",
       "<table border=\"1\" class=\"dataframe\">\n",
       "  <thead>\n",
       "    <tr style=\"text-align: right;\">\n",
       "      <th></th>\n",
       "      <th>df</th>\n",
       "      <th>sum_sq</th>\n",
       "      <th>mean_sq</th>\n",
       "      <th>F</th>\n",
       "      <th>PR(&gt;F)</th>\n",
       "    </tr>\n",
       "  </thead>\n",
       "  <tbody>\n",
       "    <tr>\n",
       "      <th>Data</th>\n",
       "      <td>5.0</td>\n",
       "      <td>141.858054</td>\n",
       "      <td>28.371611</td>\n",
       "      <td>118.069438</td>\n",
       "      <td>4.362404e-125</td>\n",
       "    </tr>\n",
       "    <tr>\n",
       "      <th>Residual</th>\n",
       "      <td>150453.0</td>\n",
       "      <td>36153.250555</td>\n",
       "      <td>0.240296</td>\n",
       "      <td>NaN</td>\n",
       "      <td>NaN</td>\n",
       "    </tr>\n",
       "  </tbody>\n",
       "</table>\n",
       "</div>"
      ],
      "text/plain": [
       "                df        sum_sq    mean_sq           F         PR(>F)\n",
       "Data           5.0    141.858054  28.371611  118.069438  4.362404e-125\n",
       "Residual  150453.0  36153.250555   0.240296         NaN            NaN"
      ]
     },
     "execution_count": 12,
     "metadata": {},
     "output_type": "execute_result"
    }
   ],
   "source": [
    "sm.stats.anova_lm(model)"
   ]
  },
  {
   "cell_type": "code",
   "execution_count": 13,
   "metadata": {},
   "outputs": [
    {
     "data": {
      "text/plain": [
       "Intercept                   5.209275e-250\n",
       "Data[T.BEST_dorothea_CD]     5.196359e-54\n",
       "Data[T.BIOCARTA]             3.942672e-39\n",
       "Data[T.CGP]                  1.577791e-30\n",
       "Data[T.KEGG]                 8.315070e-76\n",
       "Data[T.REACTOME]             7.462958e-85\n",
       "dtype: float64"
      ]
     },
     "execution_count": 13,
     "metadata": {},
     "output_type": "execute_result"
    }
   ],
   "source": [
    "model.pvalues"
   ]
  },
  {
   "cell_type": "code",
   "execution_count": 14,
   "metadata": {},
   "outputs": [
    {
     "data": {
      "text/plain": [
       "Intercept                  -0.168598\n",
       "Data[T.BEST_dorothea_CD]    0.129032\n",
       "Data[T.BIOCARTA]            0.086329\n",
       "Data[T.CGP]                 0.062574\n",
       "Data[T.KEGG]                0.109516\n",
       "Data[T.REACTOME]            0.106338\n",
       "dtype: float64"
      ]
     },
     "execution_count": 14,
     "metadata": {},
     "output_type": "execute_result"
    }
   ],
   "source": [
    "model.params"
   ]
  },
  {
   "cell_type": "code",
   "execution_count": 10,
   "metadata": {},
   "outputs": [],
   "source": [
    "results=pd.DataFrame(columns=['Database','Geneset','Size'])\n",
    "for db in ['BEST_dorothea_AB','BEST_dorothea_CD','KEGG','REACTOME','CGP','BIOCARTA']:\n",
    "    data=pd.read_csv('../results/genesets/single/csvs/%s_filtered.csv' % db,\n",
    "                sep=',',header=0,index_col=0)\n",
    "    data=data['Set'].value_counts()\n",
    "    results_temp=pd.DataFrame(index=range(len(data)),columns=results.columns)\n",
    "    results_temp['Database']=db; results_temp['Geneset']=data.index; results_temp['Size']=data.values\n",
    "    results=pd.concat([results,results_temp],0)\n",
    "results['Size']=results['Size'].astype(float)"
   ]
  },
  {
   "cell_type": "code",
   "execution_count": 11,
   "metadata": {},
   "outputs": [
    {
     "name": "stderr",
     "output_type": "stream",
     "text": [
      "/Users/benceszalai/Library/Enthought/Canopy/edm/envs/Python3/lib/python3.5/site-packages/scipy/stats/stats.py:1706: FutureWarning: Using a non-tuple sequence for multidimensional indexing is deprecated; use `arr[tuple(seq)]` instead of `arr[seq]`. In the future this will be interpreted as an array index, `arr[np.array(seq)]`, which will result either in an error or a different result.\n",
      "  return np.add.reduce(sorted[indexer] * weights, axis=axis) / sumval\n"
     ]
    },
    {
     "data": {
      "text/plain": [
       "<matplotlib.axes._subplots.AxesSubplot at 0x13287fd68>"
      ]
     },
     "execution_count": 11,
     "metadata": {},
     "output_type": "execute_result"
    },
    {
     "data": {
      "image/png": "[encoded data removed]",
      "text/plain": [
       "<matplotlib.figure.Figure at 0x1184214e0>"
      ]
     },
     "metadata": {},
     "output_type": "display_data"
    }
   ],
   "source": [
    "sns.violinplot(x='Database',y='Size',data=results)"
   ]
  },
  {
   "cell_type": "code",
   "execution_count": 12,
   "metadata": {},
   "outputs": [],
   "source": [
    "data=pd.read_csv('../results/benchmark/rocaucs/gdsc/single/BEST_dorothea_AB_filtered.csv',sep=',',header=0,\n",
    "                index_col=0)"
   ]
  },
  {
   "cell_type": "code",
   "execution_count": 15,
   "metadata": {},
   "outputs": [
    {
     "data": {
      "text/plain": [
       "Index(['AR', 'ARNTL', 'ATF1', 'ATF2', 'ATF4', 'BACH1', 'CDX2', 'CEBPA',\n",
       "       'CEBPB', 'CEBPD',\n",
       "       ...\n",
       "       'TFDP1', 'TP63', 'TWIST1', 'USF1', 'USF2', 'VDR', 'WT1', 'YY1',\n",
       "       'ZBTB33', 'ZEB1'],\n",
       "      dtype='object', length=109)"
      ]
     },
     "execution_count": 15,
     "metadata": {},
     "output_type": "execute_result"
    }
   ],
   "source": [
    "data['AR']"
   ]
  },
  {
   "cell_type": "code",
   "execution_count": 33,
   "metadata": {},
   "outputs": [
    {
     "data": {
      "text/plain": [
       "<matplotlib.axes._subplots.AxesSubplot at 0x1104b5048>"
      ]
     },
     "execution_count": 33,
     "metadata": {},
     "output_type": "execute_result"
    },
    {
     "data": {
      "image/png": "[encoded data removed]",
      "text/plain": [
       "<matplotlib.figure.Figure at 0x1104b4940>"
      ]
     },
     "metadata": {},
     "output_type": "display_data"
    }
   ],
   "source": [
    "data.loc['VHL_mut'].sort_values().hist()"
   ]
  },
  {
   "cell_type": "code",
   "execution_count": 24,
   "metadata": {},
   "outputs": [
    {
     "data": {
      "text/plain": [
       "Index(['ACVR2A_mut', 'AKAP9_mut', 'ALK_mut', 'ANK3_mut', 'APC_mut',\n",
       "       'ARFGEF1_mut', 'ARHGAP29_mut', 'ARID1A_mut', 'ARID2_mut', 'ARID4A_mut',\n",
       "       'ARID4B_mut', 'ASH1L_mut', 'ASPM_mut', 'ASXL1_mut', 'ATM_mut',\n",
       "       'ATR_mut', 'B2M_mut', 'BAP1_mut', 'BCOR_mut', 'BMPR2_mut', 'BPTF_mut',\n",
       "       'BRAF_mut', 'BRCA1_mut', 'BRCA2_mut', 'BRWD1_mut', 'CASP8_mut',\n",
       "       'CDH1_mut', 'CDKN2A_mut', 'CEP290_mut', 'CHD8_mut', 'CHD9_mut',\n",
       "       'CIC_mut', 'CREBBP_mut', 'CTCF_mut', 'CTNNB1_mut', 'DNMT3A_mut',\n",
       "       'EGFR_mut', 'EP300_mut', 'EZH2_mut', 'F8_mut', 'FAT1_mut', 'FAT2_mut',\n",
       "       'FBXW7_mut', 'INPPL1_mut', 'KALRN_mut', 'KDM6A_mut', 'KRAS_mut',\n",
       "       'LAMA2_mut', 'LPHN2_mut', 'LRPPRC_mut', 'MACF1_mut', 'MAGI2_mut',\n",
       "       'MECOM_mut', 'MGA_mut', 'MLH1_mut', 'MLL_mut', 'MLL2_mut', 'MLL3_mut',\n",
       "       'MLLT4_mut', 'MYH11_mut', 'MYH9_mut', 'NCOR1_mut', 'NCOR2_mut',\n",
       "       'NF1_mut', 'NF2_mut', 'NOTCH1_mut', 'NRAS_mut', 'NSD1_mut', 'PBRM1_mut',\n",
       "       'PIK3CA_mut', 'PIK3R1_mut', 'PTCH1_mut', 'PTEN_mut', 'RB1_mut',\n",
       "       'RNF43_mut', 'ROBO2_mut', 'SACS_mut', 'SETD2_mut', 'SMAD4_mut',\n",
       "       'SMARCA4_mut', 'SPTAN1_mut', 'STK11_mut', 'TET2_mut', 'TP53_mut',\n",
       "       'VHL_mut', 'XRN1_mut', 'ZFHX3_mut', 'ZNF292_mut'],\n",
       "      dtype='object')"
      ]
     },
     "execution_count": 24,
     "metadata": {},
     "output_type": "execute_result"
    }
   ],
   "source": [
    "data.index"
   ]
  },
  {
   "cell_type": "code",
   "execution_count": null,
   "metadata": {},
   "outputs": [],
   "source": []
  }
 ],
 "metadata": {
  "kernelspec": {
   "display_name": "Python 3",
   "language": "python",
   "name": "python3"
  },
  "language_info": {
   "codemirror_mode": {
    "name": "ipython",
    "version": 3
   },
   "file_extension": ".py",
   "mimetype": "text/x-python",
   "name": "python",
   "nbconvert_exporter": "python",
   "pygments_lexer": "ipython3",
   "version": "3.5.2"
  },
  "pycharm": {
   "stem_cell": {
    "cell_type": "raw",
    "metadata": {
     "collapsed": false
    },
    "source": []
   }
  }
 },
 "nbformat": 4,
 "nbformat_minor": 2
}
