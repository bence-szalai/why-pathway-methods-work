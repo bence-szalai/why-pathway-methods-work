{
 "cells": [
  {
   "cell_type": "code",
   "execution_count": 619,
   "metadata": {},
   "outputs": [],
   "source": [
    "import numpy as np\n",
    "import pandas as pd\n",
    "\n",
    "from matplotlib import pyplot as plt\n",
    "import seaborn as sns\n",
    "%matplotlib inline\n",
    "sns.set_style(\"whitegrid\")\n",
    "\n",
    "import statsmodels.formula.api as smf\n",
    "import statsmodels.api as sm"
   ]
  },
  {
   "cell_type": "code",
   "execution_count": 1258,
   "metadata": {},
   "outputs": [],
   "source": [
    "dnames=['BEST_dorothea_AB','BEST_dorothea_CD','KEGG','REACTOME','CGP','BIOCARTA']\n",
    "bname='gdsc'\n",
    "atype='_abs'\n",
    "rtype='_filtered'"
   ]
  },
  {
   "cell_type": "code",
   "execution_count": 1259,
   "metadata": {},
   "outputs": [],
   "source": [
    "delta={}\n",
    "for dname1 in dnames:\n",
    "    delta[dname1]=[]\n",
    "    for dname2 in list(set(dnames)-set([dname1])):\n",
    "        score=pd.read_csv('../results/benchmark/z_scores/%s/single/%s%s%s.csv' % (bname,dname1,rtype,atype),\n",
    "                      sep=',',header=0,index_col=0).abs().max(1)\n",
    "        score_1minus2=pd.read_csv('../results/benchmark/z_scores/%s/overlap/%s%s_minus_%s%s%s.csv' % (bname,dname1,rtype,dname2,rtype,atype),\n",
    "                                     sep=',',header=0,index_col=0).abs().max(1)\n",
    "        if dname1<dname2:\n",
    "            score=score[pd.Series(score_1minus2.index).apply(lambda x:x.split('*')[0]).values]\n",
    "        else:\n",
    "            score=score[pd.Series(score_1minus2.index).apply(lambda x:x.split('*')[1]).values]\n",
    "        delta[dname1]+=list(score_1minus2.values)#-score.values)\n",
    "delta_df=pd.DataFrame(columns=['Data','Delta'])\n",
    "for dname in delta:\n",
    "    temp=pd.DataFrame(columns=delta_df.columns)\n",
    "    temp['Delta']=delta[dname]\n",
    "    temp['Data']=dname\n",
    "    delta_df=pd.concat([delta_df,temp])\n",
    "#fil=delta_df['Delta'].abs()<1\n",
    "#delta_df=delta_df[fil]"
   ]
  },
  {
   "cell_type": "code",
   "execution_count": 1260,
   "metadata": {},
   "outputs": [],
   "source": [
    "delta_df['Group']='Real'\n",
    "delta_rnd['Group']='Random'\n",
    "delta_df=pd.concat([delta_df,delta_rnd])"
   ]
  },
  {
   "cell_type": "code",
   "execution_count": 1234,
   "metadata": {},
   "outputs": [],
   "source": []
  },
  {
   "cell_type": "code",
   "execution_count": 1257,
   "metadata": {},
   "outputs": [],
   "source": [
    "delta_rnd=delta_df.copy()"
   ]
  },
  {
   "cell_type": "code",
   "execution_count": 1223,
   "metadata": {},
   "outputs": [
    {
     "data": {
      "text/html": [
       "<div>\n",
       "<style scoped>\n",
       "    .dataframe tbody tr th:only-of-type {\n",
       "        vertical-align: middle;\n",
       "    }\n",
       "\n",
       "    .dataframe tbody tr th {\n",
       "        vertical-align: top;\n",
       "    }\n",
       "\n",
       "    .dataframe thead th {\n",
       "        text-align: right;\n",
       "    }\n",
       "</style>\n",
       "<table border=\"1\" class=\"dataframe\">\n",
       "  <thead>\n",
       "    <tr style=\"text-align: right;\">\n",
       "      <th></th>\n",
       "      <th>Delta</th>\n",
       "    </tr>\n",
       "    <tr>\n",
       "      <th>Data</th>\n",
       "      <th></th>\n",
       "    </tr>\n",
       "  </thead>\n",
       "  <tbody>\n",
       "    <tr>\n",
       "      <th>BEST_dorothea_AB</th>\n",
       "      <td>4.438949</td>\n",
       "    </tr>\n",
       "    <tr>\n",
       "      <th>BEST_dorothea_CD</th>\n",
       "      <td>3.711349</td>\n",
       "    </tr>\n",
       "    <tr>\n",
       "      <th>BIOCARTA</th>\n",
       "      <td>3.794703</td>\n",
       "    </tr>\n",
       "    <tr>\n",
       "      <th>CGP</th>\n",
       "      <td>3.623642</td>\n",
       "    </tr>\n",
       "    <tr>\n",
       "      <th>KEGG</th>\n",
       "      <td>3.787310</td>\n",
       "    </tr>\n",
       "    <tr>\n",
       "      <th>REACTOME</th>\n",
       "      <td>3.853564</td>\n",
       "    </tr>\n",
       "  </tbody>\n",
       "</table>\n",
       "</div>"
      ],
      "text/plain": [
       "                     Delta\n",
       "Data                      \n",
       "BEST_dorothea_AB  4.438949\n",
       "BEST_dorothea_CD  3.711349\n",
       "BIOCARTA          3.794703\n",
       "CGP               3.623642\n",
       "KEGG              3.787310\n",
       "REACTOME          3.853564"
      ]
     },
     "execution_count": 1223,
     "metadata": {},
     "output_type": "execute_result"
    }
   ],
   "source": [
    "delta_df.groupby('Data').mean()"
   ]
  },
  {
   "cell_type": "code",
   "execution_count": 1261,
   "metadata": {
    "scrolled": false
   },
   "outputs": [
    {
     "name": "stderr",
     "output_type": "stream",
     "text": [
      "/Users/benceszalai/Library/Enthought/Canopy/edm/envs/Python3/lib/python3.5/site-packages/scipy/stats/stats.py:1706: FutureWarning: Using a non-tuple sequence for multidimensional indexing is deprecated; use `arr[tuple(seq)]` instead of `arr[seq]`. In the future this will be interpreted as an array index, `arr[np.array(seq)]`, which will result either in an error or a different result.\n",
      "  return np.add.reduce(sorted[indexer] * weights, axis=axis) / sumval\n"
     ]
    },
    {
     "data": {
      "text/plain": [
       "(array([0, 1, 2, 3, 4, 5]), <a list of 6 Text xticklabel objects>)"
      ]
     },
     "execution_count": 1261,
     "metadata": {},
     "output_type": "execute_result"
    },
    {
     "data": {
      "image/png": "[encoded data removed]",
      "text/plain": [
       "<matplotlib.figure.Figure at 0x112b89ac8>"
      ]
     },
     "metadata": {},
     "output_type": "display_data"
    }
   ],
   "source": [
    "sns.barplot(x='Data',y='Delta',hue='Group',data=delta_df)\n",
    "plt.xticks(rotation=45)"
   ]
  },
  {
   "cell_type": "code",
   "execution_count": 1220,
   "metadata": {},
   "outputs": [
    {
     "name": "stderr",
     "output_type": "stream",
     "text": [
      "/Users/benceszalai/Library/Enthought/Canopy/edm/envs/Python3/lib/python3.5/site-packages/scipy/stats/stats.py:1706: FutureWarning: Using a non-tuple sequence for multidimensional indexing is deprecated; use `arr[tuple(seq)]` instead of `arr[seq]`. In the future this will be interpreted as an array index, `arr[np.array(seq)]`, which will result either in an error or a different result.\n",
      "  return np.add.reduce(sorted[indexer] * weights, axis=axis) / sumval\n"
     ]
    },
    {
     "data": {
      "text/plain": [
       "(array([0, 1, 2, 3, 4, 5]), <a list of 6 Text xticklabel objects>)"
      ]
     },
     "execution_count": 1220,
     "metadata": {},
     "output_type": "execute_result"
    },
    {
     "data": {
      "image/png": "[encoded data removed]",
      "text/plain": [
       "<matplotlib.figure.Figure at 0x11d7c9e48>"
      ]
     },
     "metadata": {},
     "output_type": "display_data"
    }
   ],
   "source": [
    "sns.barplot(x='Data',y='Delta',data=delta_df)\n",
    "plt.xticks(rotation=45)"
   ]
  },
  {
   "cell_type": "code",
   "execution_count": 1262,
   "metadata": {},
   "outputs": [],
   "source": [
    "model=smf.ols('Delta ~ Data * Group',data=delta_df).fit()"
   ]
  },
  {
   "cell_type": "code",
   "execution_count": 1263,
   "metadata": {},
   "outputs": [
    {
     "data": {
      "text/html": [
       "<div>\n",
       "<style scoped>\n",
       "    .dataframe tbody tr th:only-of-type {\n",
       "        vertical-align: middle;\n",
       "    }\n",
       "\n",
       "    .dataframe tbody tr th {\n",
       "        vertical-align: top;\n",
       "    }\n",
       "\n",
       "    .dataframe thead th {\n",
       "        text-align: right;\n",
       "    }\n",
       "</style>\n",
       "<table border=\"1\" class=\"dataframe\">\n",
       "  <thead>\n",
       "    <tr style=\"text-align: right;\">\n",
       "      <th></th>\n",
       "      <th>df</th>\n",
       "      <th>sum_sq</th>\n",
       "      <th>mean_sq</th>\n",
       "      <th>F</th>\n",
       "      <th>PR(&gt;F)</th>\n",
       "    </tr>\n",
       "  </thead>\n",
       "  <tbody>\n",
       "    <tr>\n",
       "      <th>Data</th>\n",
       "      <td>5.0</td>\n",
       "      <td>7271.988218</td>\n",
       "      <td>1454.397644</td>\n",
       "      <td>1651.478202</td>\n",
       "      <td>0.000000e+00</td>\n",
       "    </tr>\n",
       "    <tr>\n",
       "      <th>Group</th>\n",
       "      <td>1.0</td>\n",
       "      <td>2278.444099</td>\n",
       "      <td>2278.444099</td>\n",
       "      <td>2587.188436</td>\n",
       "      <td>0.000000e+00</td>\n",
       "    </tr>\n",
       "    <tr>\n",
       "      <th>Data:Group</th>\n",
       "      <td>5.0</td>\n",
       "      <td>669.752729</td>\n",
       "      <td>133.950546</td>\n",
       "      <td>152.101736</td>\n",
       "      <td>9.185630e-162</td>\n",
       "    </tr>\n",
       "    <tr>\n",
       "      <th>Residual</th>\n",
       "      <td>173870.0</td>\n",
       "      <td>153121.075398</td>\n",
       "      <td>0.880664</td>\n",
       "      <td>NaN</td>\n",
       "      <td>NaN</td>\n",
       "    </tr>\n",
       "  </tbody>\n",
       "</table>\n",
       "</div>"
      ],
      "text/plain": [
       "                  df         sum_sq      mean_sq            F         PR(>F)\n",
       "Data             5.0    7271.988218  1454.397644  1651.478202   0.000000e+00\n",
       "Group            1.0    2278.444099  2278.444099  2587.188436   0.000000e+00\n",
       "Data:Group       5.0     669.752729   133.950546   152.101736  9.185630e-162\n",
       "Residual    173870.0  153121.075398     0.880664          NaN            NaN"
      ]
     },
     "execution_count": 1263,
     "metadata": {},
     "output_type": "execute_result"
    }
   ],
   "source": [
    "sm.stats.anova_lm(model)"
   ]
  },
  {
   "cell_type": "code",
   "execution_count": 1264,
   "metadata": {},
   "outputs": [
    {
     "data": {
      "text/plain": [
       "Intercept                                 0.000000e+00\n",
       "Data[T.BEST_dorothea_CD]                  1.934654e-44\n",
       "Data[T.BIOCARTA]                          2.557146e-02\n",
       "Data[T.CGP]                               3.008200e-33\n",
       "Data[T.KEGG]                              1.646620e-11\n",
       "Data[T.REACTOME]                          2.013270e-29\n",
       "Group[T.Real]                             8.070483e-64\n",
       "Data[T.BEST_dorothea_CD]:Group[T.Real]    4.022587e-03\n",
       "Data[T.BIOCARTA]:Group[T.Real]            7.762637e-05\n",
       "Data[T.CGP]:Group[T.Real]                 5.689774e-02\n",
       "Data[T.KEGG]:Group[T.Real]                1.085575e-08\n",
       "Data[T.REACTOME]:Group[T.Real]            6.552450e-30\n",
       "dtype: float64"
      ]
     },
     "execution_count": 1264,
     "metadata": {},
     "output_type": "execute_result"
    }
   ],
   "source": [
    "model.pvalues"
   ]
  },
  {
   "cell_type": "code",
   "execution_count": 1265,
   "metadata": {},
   "outputs": [
    {
     "data": {
      "text/plain": [
       "Intercept                                 3.654561\n",
       "Data[T.BEST_dorothea_CD]                 -0.616565\n",
       "Data[T.BIOCARTA]                         -0.282468\n",
       "Data[T.CGP]                              -0.368530\n",
       "Data[T.KEGG]                             -0.235052\n",
       "Data[T.REACTOME]                         -0.347228\n",
       "Group[T.Real]                             0.508771\n",
       "Data[T.BEST_dorothea_CD]:Group[T.Real]    0.134680\n",
       "Data[T.BIOCARTA]:Group[T.Real]           -0.502339\n",
       "Data[T.CGP]:Group[T.Real]                 0.061550\n",
       "Data[T.KEGG]:Group[T.Real]               -0.209368\n",
       "Data[T.REACTOME]:Group[T.Real]           -0.368961\n",
       "dtype: float64"
      ]
     },
     "execution_count": 1265,
     "metadata": {},
     "output_type": "execute_result"
    }
   ],
   "source": [
    "model.params"
   ]
  },
  {
   "cell_type": "code",
   "execution_count": 1250,
   "metadata": {},
   "outputs": [],
   "source": [
    "delta={}\n",
    "for dname1 in dnames:\n",
    "    delta[dname1]=[]\n",
    "    for dname2 in list(set(dnames)-set([dname1])):\n",
    "        score=pd.read_csv('../results/benchmark/z_scores/%s/single/%s%s%s.csv' % (bname,dname2,rtype,atype),\n",
    "                      sep=',',header=0,index_col=0).abs().mean(1)\n",
    "        score_2minus1=pd.read_csv('../results/benchmark/z_scores/%s/overlap/%s%s_minus_%s%s%s.csv' % (bname,dname2,rtype,dname1,rtype,atype),\n",
    "                                     sep=',',header=0,index_col=0).abs().mean(1)\n",
    "        if dname2<dname1:\n",
    "            score=score[pd.Series(score_2minus1.index).apply(lambda x:x.split('*')[0]).values]\n",
    "        else:\n",
    "            score=score[pd.Series(score_2minus1.index).apply(lambda x:x.split('*')[1]).values]\n",
    "        delta[dname1]+=list(score_2minus1.values-score.values)\n",
    "delta_df=pd.DataFrame(columns=['Data','Delta'])\n",
    "for dname in delta:\n",
    "    temp=pd.DataFrame(columns=delta_df.columns)\n",
    "    temp['Delta']=delta[dname]\n",
    "    temp['Data']=dname\n",
    "    delta_df=pd.concat([delta_df,temp])\n",
    "#fil=delta_df['Delta'].abs()<2\n",
    "#delta_df=delta_df[fil]"
   ]
  },
  {
   "cell_type": "code",
   "execution_count": 1251,
   "metadata": {},
   "outputs": [],
   "source": [
    "delta_df['Group']='Real'\n",
    "delta_rnd['Group']='Random'\n",
    "delta_df=pd.concat([delta_df,delta_rnd])"
   ]
  },
  {
   "cell_type": "code",
   "execution_count": 1248,
   "metadata": {},
   "outputs": [],
   "source": [
    "delta_rnd=delta_df.copy()"
   ]
  },
  {
   "cell_type": "code",
   "execution_count": 1216,
   "metadata": {},
   "outputs": [
    {
     "data": {
      "text/html": [
       "<div>\n",
       "<style scoped>\n",
       "    .dataframe tbody tr th:only-of-type {\n",
       "        vertical-align: middle;\n",
       "    }\n",
       "\n",
       "    .dataframe tbody tr th {\n",
       "        vertical-align: top;\n",
       "    }\n",
       "\n",
       "    .dataframe thead th {\n",
       "        text-align: right;\n",
       "    }\n",
       "</style>\n",
       "<table border=\"1\" class=\"dataframe\">\n",
       "  <thead>\n",
       "    <tr style=\"text-align: right;\">\n",
       "      <th></th>\n",
       "      <th>Delta</th>\n",
       "    </tr>\n",
       "    <tr>\n",
       "      <th>Data</th>\n",
       "      <th></th>\n",
       "    </tr>\n",
       "  </thead>\n",
       "  <tbody>\n",
       "    <tr>\n",
       "      <th>BEST_dorothea_AB</th>\n",
       "      <td>-0.099270</td>\n",
       "    </tr>\n",
       "    <tr>\n",
       "      <th>BEST_dorothea_CD</th>\n",
       "      <td>-0.017851</td>\n",
       "    </tr>\n",
       "    <tr>\n",
       "      <th>BIOCARTA</th>\n",
       "      <td>-0.022401</td>\n",
       "    </tr>\n",
       "    <tr>\n",
       "      <th>CGP</th>\n",
       "      <td>-0.043713</td>\n",
       "    </tr>\n",
       "    <tr>\n",
       "      <th>KEGG</th>\n",
       "      <td>-0.043356</td>\n",
       "    </tr>\n",
       "    <tr>\n",
       "      <th>REACTOME</th>\n",
       "      <td>-0.028409</td>\n",
       "    </tr>\n",
       "  </tbody>\n",
       "</table>\n",
       "</div>"
      ],
      "text/plain": [
       "                     Delta\n",
       "Data                      \n",
       "BEST_dorothea_AB -0.099270\n",
       "BEST_dorothea_CD -0.017851\n",
       "BIOCARTA         -0.022401\n",
       "CGP              -0.043713\n",
       "KEGG             -0.043356\n",
       "REACTOME         -0.028409"
      ]
     },
     "execution_count": 1216,
     "metadata": {},
     "output_type": "execute_result"
    }
   ],
   "source": [
    "delta_df.groupby('Data').mean()"
   ]
  },
  {
   "cell_type": "code",
   "execution_count": 1252,
   "metadata": {},
   "outputs": [
    {
     "name": "stderr",
     "output_type": "stream",
     "text": [
      "/Users/benceszalai/Library/Enthought/Canopy/edm/envs/Python3/lib/python3.5/site-packages/scipy/stats/stats.py:1706: FutureWarning: Using a non-tuple sequence for multidimensional indexing is deprecated; use `arr[tuple(seq)]` instead of `arr[seq]`. In the future this will be interpreted as an array index, `arr[np.array(seq)]`, which will result either in an error or a different result.\n",
      "  return np.add.reduce(sorted[indexer] * weights, axis=axis) / sumval\n"
     ]
    },
    {
     "data": {
      "text/plain": [
       "(array([0, 1, 2, 3, 4, 5]), <a list of 6 Text xticklabel objects>)"
      ]
     },
     "execution_count": 1252,
     "metadata": {},
     "output_type": "execute_result"
    },
    {
     "data": {
      "image/png": "[encoded data removed]",
      "text/plain": [
       "<matplotlib.figure.Figure at 0x10e0590b8>"
      ]
     },
     "metadata": {},
     "output_type": "display_data"
    }
   ],
   "source": [
    "sns.barplot(x='Data',y='Delta',hue='Group',data=delta_df)\n",
    "plt.xticks(rotation=45)"
   ]
  },
  {
   "cell_type": "code",
   "execution_count": 1192,
   "metadata": {},
   "outputs": [],
   "source": [
    "model=smf.ols('Delta ~ Data',data=delta_df).fit()"
   ]
  },
  {
   "cell_type": "code",
   "execution_count": 1193,
   "metadata": {},
   "outputs": [
    {
     "data": {
      "text/html": [
       "<div>\n",
       "<style scoped>\n",
       "    .dataframe tbody tr th:only-of-type {\n",
       "        vertical-align: middle;\n",
       "    }\n",
       "\n",
       "    .dataframe tbody tr th {\n",
       "        vertical-align: top;\n",
       "    }\n",
       "\n",
       "    .dataframe thead th {\n",
       "        text-align: right;\n",
       "    }\n",
       "</style>\n",
       "<table border=\"1\" class=\"dataframe\">\n",
       "  <thead>\n",
       "    <tr style=\"text-align: right;\">\n",
       "      <th></th>\n",
       "      <th>df</th>\n",
       "      <th>sum_sq</th>\n",
       "      <th>mean_sq</th>\n",
       "      <th>F</th>\n",
       "      <th>PR(&gt;F)</th>\n",
       "    </tr>\n",
       "  </thead>\n",
       "  <tbody>\n",
       "    <tr>\n",
       "      <th>Data</th>\n",
       "      <td>5.0</td>\n",
       "      <td>0.079818</td>\n",
       "      <td>0.015964</td>\n",
       "      <td>1.730285</td>\n",
       "      <td>0.123867</td>\n",
       "    </tr>\n",
       "    <tr>\n",
       "      <th>Residual</th>\n",
       "      <td>16676.0</td>\n",
       "      <td>153.853328</td>\n",
       "      <td>0.009226</td>\n",
       "      <td>NaN</td>\n",
       "      <td>NaN</td>\n",
       "    </tr>\n",
       "  </tbody>\n",
       "</table>\n",
       "</div>"
      ],
      "text/plain": [
       "               df      sum_sq   mean_sq         F    PR(>F)\n",
       "Data          5.0    0.079818  0.015964  1.730285  0.123867\n",
       "Residual  16676.0  153.853328  0.009226       NaN       NaN"
      ]
     },
     "execution_count": 1193,
     "metadata": {},
     "output_type": "execute_result"
    }
   ],
   "source": [
    "sm.stats.anova_lm(model)"
   ]
  },
  {
   "cell_type": "code",
   "execution_count": 1194,
   "metadata": {},
   "outputs": [
    {
     "data": {
      "text/plain": [
       "Intercept                   0.001199\n",
       "Data[T.BEST_dorothea_CD]    0.049739\n",
       "Data[T.BIOCARTA]            0.644242\n",
       "Data[T.CGP]                 0.009373\n",
       "Data[T.KEGG]                0.113879\n",
       "Data[T.REACTOME]            0.008062\n",
       "dtype: float64"
      ]
     },
     "execution_count": 1194,
     "metadata": {},
     "output_type": "execute_result"
    }
   ],
   "source": [
    "model.pvalues"
   ]
  },
  {
   "cell_type": "code",
   "execution_count": 1195,
   "metadata": {},
   "outputs": [
    {
     "data": {
      "text/plain": [
       "Intercept                  -0.008834\n",
       "Data[T.BEST_dorothea_CD]    0.010006\n",
       "Data[T.BIOCARTA]            0.005817\n",
       "Data[T.CGP]                 0.007721\n",
       "Data[T.KEGG]                0.005386\n",
       "Data[T.REACTOME]            0.007931\n",
       "dtype: float64"
      ]
     },
     "execution_count": 1195,
     "metadata": {},
     "output_type": "execute_result"
    }
   ],
   "source": [
    "model.params"
   ]
  },
  {
   "cell_type": "code",
   "execution_count": 70,
   "metadata": {},
   "outputs": [],
   "source": [
    "results=pd.DataFrame(columns=['Database','Geneset','Size'])\n",
    "for db in ['BEST_dorothea_AB','BEST_dorothea_CD','KEGG','REACTOME','CGP','BIOCARTA']:\n",
    "    data=pd.read_csv('../results/genesets/single/csvs/%s_filtered.csv' % db,\n",
    "                sep=',',header=0,index_col=0)\n",
    "    data=data['Set'].value_counts()\n",
    "    results_temp=pd.DataFrame(index=range(len(data)),columns=results.columns)\n",
    "    results_temp['Database']=db; results_temp['Geneset']=data.index; results_temp['Size']=data.values\n",
    "    results=pd.concat([results,results_temp],0)\n",
    "results['Size']=results['Size'].astype(float)"
   ]
  },
  {
   "cell_type": "code",
   "execution_count": 11,
   "metadata": {},
   "outputs": [
    {
     "name": "stderr",
     "output_type": "stream",
     "text": [
      "/Users/benceszalai/Library/Enthought/Canopy/edm/envs/Python3/lib/python3.5/site-packages/scipy/stats/stats.py:1706: FutureWarning: Using a non-tuple sequence for multidimensional indexing is deprecated; use `arr[tuple(seq)]` instead of `arr[seq]`. In the future this will be interpreted as an array index, `arr[np.array(seq)]`, which will result either in an error or a different result.\n",
      "  return np.add.reduce(sorted[indexer] * weights, axis=axis) / sumval\n"
     ]
    },
    {
     "data": {
      "text/plain": [
       "<matplotlib.axes._subplots.AxesSubplot at 0x13287fd68>"
      ]
     },
     "execution_count": 11,
     "metadata": {},
     "output_type": "execute_result"
    },
    {
     "data": {
      "image/png": "[encoded data removed]",
      "text/plain": [
       "<matplotlib.figure.Figure at 0x1184214e0>"
      ]
     },
     "metadata": {},
     "output_type": "display_data"
    }
   ],
   "source": [
    "sns.violinplot(x='Database',y='Size',data=results)"
   ]
  },
  {
   "cell_type": "code",
   "execution_count": 12,
   "metadata": {},
   "outputs": [],
   "source": [
    "data=pd.read_csv('../results/benchmark/rocaucs/gdsc/single/BEST_dorothea_AB_filtered.csv',sep=',',header=0,\n",
    "                index_col=0)"
   ]
  },
  {
   "cell_type": "code",
   "execution_count": 15,
   "metadata": {},
   "outputs": [
    {
     "data": {
      "text/plain": [
       "Index(['AR', 'ARNTL', 'ATF1', 'ATF2', 'ATF4', 'BACH1', 'CDX2', 'CEBPA',\n",
       "       'CEBPB', 'CEBPD',\n",
       "       ...\n",
       "       'TFDP1', 'TP63', 'TWIST1', 'USF1', 'USF2', 'VDR', 'WT1', 'YY1',\n",
       "       'ZBTB33', 'ZEB1'],\n",
       "      dtype='object', length=109)"
      ]
     },
     "execution_count": 15,
     "metadata": {},
     "output_type": "execute_result"
    }
   ],
   "source": [
    "data['AR']"
   ]
  },
  {
   "cell_type": "code",
   "execution_count": 33,
   "metadata": {},
   "outputs": [
    {
     "data": {
      "text/plain": [
       "<matplotlib.axes._subplots.AxesSubplot at 0x1104b5048>"
      ]
     },
     "execution_count": 33,
     "metadata": {},
     "output_type": "execute_result"
    },
    {
     "data": {
      "image/png": "[encoded data removed]",
      "text/plain": [
       "<matplotlib.figure.Figure at 0x1104b4940>"
      ]
     },
     "metadata": {},
     "output_type": "display_data"
    }
   ],
   "source": [
    "data.loc['VHL_mut'].sort_values().hist()"
   ]
  },
  {
   "cell_type": "code",
   "execution_count": 24,
   "metadata": {},
   "outputs": [
    {
     "data": {
      "text/plain": [
       "Index(['ACVR2A_mut', 'AKAP9_mut', 'ALK_mut', 'ANK3_mut', 'APC_mut',\n",
       "       'ARFGEF1_mut', 'ARHGAP29_mut', 'ARID1A_mut', 'ARID2_mut', 'ARID4A_mut',\n",
       "       'ARID4B_mut', 'ASH1L_mut', 'ASPM_mut', 'ASXL1_mut', 'ATM_mut',\n",
       "       'ATR_mut', 'B2M_mut', 'BAP1_mut', 'BCOR_mut', 'BMPR2_mut', 'BPTF_mut',\n",
       "       'BRAF_mut', 'BRCA1_mut', 'BRCA2_mut', 'BRWD1_mut', 'CASP8_mut',\n",
       "       'CDH1_mut', 'CDKN2A_mut', 'CEP290_mut', 'CHD8_mut', 'CHD9_mut',\n",
       "       'CIC_mut', 'CREBBP_mut', 'CTCF_mut', 'CTNNB1_mut', 'DNMT3A_mut',\n",
       "       'EGFR_mut', 'EP300_mut', 'EZH2_mut', 'F8_mut', 'FAT1_mut', 'FAT2_mut',\n",
       "       'FBXW7_mut', 'INPPL1_mut', 'KALRN_mut', 'KDM6A_mut', 'KRAS_mut',\n",
       "       'LAMA2_mut', 'LPHN2_mut', 'LRPPRC_mut', 'MACF1_mut', 'MAGI2_mut',\n",
       "       'MECOM_mut', 'MGA_mut', 'MLH1_mut', 'MLL_mut', 'MLL2_mut', 'MLL3_mut',\n",
       "       'MLLT4_mut', 'MYH11_mut', 'MYH9_mut', 'NCOR1_mut', 'NCOR2_mut',\n",
       "       'NF1_mut', 'NF2_mut', 'NOTCH1_mut', 'NRAS_mut', 'NSD1_mut', 'PBRM1_mut',\n",
       "       'PIK3CA_mut', 'PIK3R1_mut', 'PTCH1_mut', 'PTEN_mut', 'RB1_mut',\n",
       "       'RNF43_mut', 'ROBO2_mut', 'SACS_mut', 'SETD2_mut', 'SMAD4_mut',\n",
       "       'SMARCA4_mut', 'SPTAN1_mut', 'STK11_mut', 'TET2_mut', 'TP53_mut',\n",
       "       'VHL_mut', 'XRN1_mut', 'ZFHX3_mut', 'ZNF292_mut'],\n",
       "      dtype='object')"
      ]
     },
     "execution_count": 24,
     "metadata": {},
     "output_type": "execute_result"
    }
   ],
   "source": [
    "data.index"
   ]
  },
  {
   "cell_type": "code",
   "execution_count": 159,
   "metadata": {},
   "outputs": [],
   "source": [
    "data=pd.read_csv('../results/benchmark/rocaucs//progeny/single/BEST_dorothea_AB_random_abs.csv',\n",
    "                sep=',',header=0,index_col=0)"
   ]
  },
  {
   "cell_type": "code",
   "execution_count": 163,
   "metadata": {},
   "outputs": [
    {
     "data": {
      "text/plain": [
       "MAPK        0.390010\n",
       "NFkB        0.687330\n",
       "WNT         0.535927\n",
       "Trail       0.525234\n",
       "p53         0.328817\n",
       "Hypoxia     0.413305\n",
       "VEGF        0.491703\n",
       "EGFR        0.418274\n",
       "Estrogen    0.369440\n",
       "PI3K        0.441244\n",
       "JAK-STAT    0.650248\n",
       "Androgen    0.691179\n",
       "TGFb        0.525072\n",
       "TNFa        0.575310\n",
       "Name: Random_611, dtype: float64"
      ]
     },
     "execution_count": 163,
     "metadata": {},
     "output_type": "execute_result"
    }
   ],
   "source": [
    "data['Random_611']"
   ]
  },
  {
   "cell_type": "code",
   "execution_count": 201,
   "metadata": {},
   "outputs": [],
   "source": [
    "gs=pd.read_csv('../results/genesets/single/csvs/BEST_dorothea_AB_random.csv',\n",
    "              sep=',',header=0,index_col=0)"
   ]
  },
  {
   "cell_type": "code",
   "execution_count": 208,
   "metadata": {},
   "outputs": [
    {
     "data": {
      "text/plain": [
       "CDKN1A      0.005871\n",
       "MYC         0.005412\n",
       "CCND1       0.004632\n",
       "PTGS2       0.004151\n",
       "BCL2        0.003990\n",
       "VEGFA       0.003509\n",
       "TP53        0.003371\n",
       "HMOX1       0.003165\n",
       "SERPINE1    0.003096\n",
       "FOS         0.002935\n",
       "MMP9        0.002913\n",
       "TERT        0.002867\n",
       "MMP2        0.002821\n",
       "CYP19A1     0.002752\n",
       "EGFR        0.002614\n",
       "PLAUR       0.002546\n",
       "CCND2       0.002523\n",
       "IL12B       0.002500\n",
       "ABCB1       0.002431\n",
       "TNF         0.002408\n",
       "IL5         0.002408\n",
       "JUN         0.002408\n",
       "IFNG        0.002362\n",
       "CCL5        0.002316\n",
       "CDH1        0.002293\n",
       "IL2         0.002293\n",
       "IL10        0.002247\n",
       "NOS2        0.002179\n",
       "ESR1        0.002179\n",
       "IL6         0.002156\n",
       "              ...   \n",
       "NR0B1       0.000092\n",
       "CXCR1       0.000092\n",
       "PGK1        0.000092\n",
       "BMP6        0.000092\n",
       "SMC2        0.000092\n",
       "JAK1        0.000092\n",
       "PAX5        0.000092\n",
       "NPPA        0.000092\n",
       "CYP2C9      0.000092\n",
       "PPP1R3C     0.000092\n",
       "PURA        0.000092\n",
       "UBR1        0.000092\n",
       "KRT8        0.000069\n",
       "ICAM3       0.000069\n",
       "CASP7       0.000069\n",
       "EPHB1       0.000069\n",
       "HNRPA1      0.000069\n",
       "TAC3        0.000069\n",
       "ABCG5       0.000069\n",
       "GALNT10     0.000069\n",
       "HDAC1       0.000069\n",
       "TLR4        0.000069\n",
       "TUBA1B      0.000069\n",
       "CRY1        0.000069\n",
       "ADAMTS2     0.000069\n",
       "CD28        0.000046\n",
       "COL6A1      0.000046\n",
       "PRKCD       0.000046\n",
       "GRAMD1A     0.000046\n",
       "ZBTB7B      0.000046\n",
       "Name: Gene, Length: 2329, dtype: float64"
      ]
     },
     "execution_count": 208,
     "metadata": {},
     "output_type": "execute_result"
    }
   ],
   "source": [
    "gs['Gene'].value_counts()/gs['Gene'].value_counts().sum()"
   ]
  },
  {
   "cell_type": "code",
   "execution_count": null,
   "metadata": {},
   "outputs": [],
   "source": []
  }
 ],
 "metadata": {
  "kernelspec": {
   "display_name": "Python 3",
   "language": "python",
   "name": "python3"
  },
  "language_info": {
   "codemirror_mode": {
    "name": "ipython",
    "version": 3
   },
   "file_extension": ".py",
   "mimetype": "text/x-python",
   "name": "python",
   "nbconvert_exporter": "python",
   "pygments_lexer": "ipython3",
   "version": "3.5.2"
  },
  "pycharm": {
   "stem_cell": {
    "cell_type": "raw",
    "metadata": {
     "collapsed": false
    },
    "source": []
   }
  }
 },
 "nbformat": 4,
 "nbformat_minor": 2
}
