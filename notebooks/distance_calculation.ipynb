{
 "cells": [
  {
   "cell_type": "code",
   "execution_count": 1,
   "metadata": {
    "collapsed": false,
    "deletable": true,
    "editable": true
   },
   "outputs": [],
   "source": [
    "import pandas as pd\n",
    "import numpy as np\n",
    "\n",
    "from matplotlib import pyplot as plt\n",
    "import seaborn as sns\n",
    "%matplotlib inline\n",
    "sns.set_style('whitegrid')"
   ]
  },
  {
   "cell_type": "markdown",
   "metadata": {
    "deletable": true,
    "editable": true
   },
   "source": [
    "### Omnipath\n",
    "We create an undirected network from Omnipath."
   ]
  },
  {
   "cell_type": "code",
   "execution_count": 2,
   "metadata": {
    "collapsed": true,
    "deletable": true,
    "editable": true
   },
   "outputs": [],
   "source": [
    "data=pd.read_csv('../data/omnipath/interactions.txt',sep='\\t',header=0,index_col=None)"
   ]
  },
  {
   "cell_type": "code",
   "execution_count": 3,
   "metadata": {
    "collapsed": false,
    "deletable": true,
    "editable": true
   },
   "outputs": [
    {
     "data": {
      "text/html": [
       "<div>\n",
       "<style scoped>\n",
       "    .dataframe tbody tr th:only-of-type {\n",
       "        vertical-align: middle;\n",
       "    }\n",
       "\n",
       "    .dataframe tbody tr th {\n",
       "        vertical-align: top;\n",
       "    }\n",
       "\n",
       "    .dataframe thead th {\n",
       "        text-align: right;\n",
       "    }\n",
       "</style>\n",
       "<table border=\"1\" class=\"dataframe\">\n",
       "  <thead>\n",
       "    <tr style=\"text-align: right;\">\n",
       "      <th></th>\n",
       "      <th>source</th>\n",
       "      <th>target</th>\n",
       "      <th>is_directed</th>\n",
       "      <th>is_stimulation</th>\n",
       "      <th>is_inhibition</th>\n",
       "      <th>consensus_direction</th>\n",
       "      <th>consensus_stimulation</th>\n",
       "      <th>consensus_inhibition</th>\n",
       "      <th>dip_url</th>\n",
       "    </tr>\n",
       "  </thead>\n",
       "  <tbody>\n",
       "    <tr>\n",
       "      <th>0</th>\n",
       "      <td>P17612</td>\n",
       "      <td>P55064</td>\n",
       "      <td>1</td>\n",
       "      <td>0</td>\n",
       "      <td>0</td>\n",
       "      <td>1</td>\n",
       "      <td>0</td>\n",
       "      <td>0</td>\n",
       "      <td>NaN</td>\n",
       "    </tr>\n",
       "    <tr>\n",
       "      <th>1</th>\n",
       "      <td>P55064</td>\n",
       "      <td>Q9HBA0</td>\n",
       "      <td>0</td>\n",
       "      <td>0</td>\n",
       "      <td>0</td>\n",
       "      <td>0</td>\n",
       "      <td>0</td>\n",
       "      <td>0</td>\n",
       "      <td>NaN</td>\n",
       "    </tr>\n",
       "    <tr>\n",
       "      <th>2</th>\n",
       "      <td>O43318</td>\n",
       "      <td>Q00610</td>\n",
       "      <td>1</td>\n",
       "      <td>0</td>\n",
       "      <td>0</td>\n",
       "      <td>1</td>\n",
       "      <td>0</td>\n",
       "      <td>0</td>\n",
       "      <td>NaN</td>\n",
       "    </tr>\n",
       "    <tr>\n",
       "      <th>3</th>\n",
       "      <td>P14672</td>\n",
       "      <td>Q00610</td>\n",
       "      <td>1</td>\n",
       "      <td>0</td>\n",
       "      <td>0</td>\n",
       "      <td>1</td>\n",
       "      <td>0</td>\n",
       "      <td>0</td>\n",
       "      <td>NaN</td>\n",
       "    </tr>\n",
       "    <tr>\n",
       "      <th>4</th>\n",
       "      <td>Q00610</td>\n",
       "      <td>P14672</td>\n",
       "      <td>1</td>\n",
       "      <td>0</td>\n",
       "      <td>0</td>\n",
       "      <td>1</td>\n",
       "      <td>0</td>\n",
       "      <td>0</td>\n",
       "      <td>NaN</td>\n",
       "    </tr>\n",
       "  </tbody>\n",
       "</table>\n",
       "</div>"
      ],
      "text/plain": [
       "   source  target  is_directed  is_stimulation  is_inhibition  \\\n",
       "0  P17612  P55064            1               0              0   \n",
       "1  P55064  Q9HBA0            0               0              0   \n",
       "2  O43318  Q00610            1               0              0   \n",
       "3  P14672  Q00610            1               0              0   \n",
       "4  Q00610  P14672            1               0              0   \n",
       "\n",
       "   consensus_direction  consensus_stimulation  consensus_inhibition dip_url  \n",
       "0                    1                      0                     0     NaN  \n",
       "1                    0                      0                     0     NaN  \n",
       "2                    1                      0                     0     NaN  \n",
       "3                    1                      0                     0     NaN  \n",
       "4                    1                      0                     0     NaN  "
      ]
     },
     "execution_count": 3,
     "metadata": {},
     "output_type": "execute_result"
    }
   ],
   "source": [
    "data.head()"
   ]
  },
  {
   "cell_type": "code",
   "execution_count": 4,
   "metadata": {
    "collapsed": false,
    "deletable": true,
    "editable": true
   },
   "outputs": [],
   "source": [
    "#split complexes\n",
    "fil1=data['source'].apply(lambda x:'COMPLEX' in x)\n",
    "fil2=data['target'].apply(lambda x:'COMPLEX' in x)\n",
    "data_comp=data[fil1|fil2].copy()\n",
    "data_nocomp=data[~(fil1|fil2)].copy()"
   ]
  },
  {
   "cell_type": "code",
   "execution_count": 5,
   "metadata": {
    "collapsed": false,
    "deletable": true,
    "editable": true
   },
   "outputs": [],
   "source": [
    "#create interactions for complex members\n",
    "data_comp_good=pd.DataFrame(columns=data_comp.columns)\n",
    "for i in data_comp.index:\n",
    "    targets=data_comp.loc[i,'target']\n",
    "    sources=data_comp.loc[i,'source']\n",
    "    if 'COMPLEX' in targets:\n",
    "        targets=targets.split('COMPLEX:')[1].split('-')\n",
    "    else:\n",
    "        targets=[targets]\n",
    "    if 'COMPLEX' in sources:\n",
    "        sources=sources.split('COMPLEX:')[1].split('-')\n",
    "    else:\n",
    "        sources=[sources]\n",
    "    info=list(data_comp.loc[i].values[2:])\n",
    "    for s in sources:\n",
    "        for t in targets:\n",
    "            new=pd.DataFrame(index=[0],columns=data_comp_good.columns)\n",
    "            new.loc[0]=[s,t]+info\n",
    "            data_comp_good=data_comp_good.append(new,ignore_index=True)"
   ]
  },
  {
   "cell_type": "code",
   "execution_count": 6,
   "metadata": {
    "collapsed": false,
    "deletable": true,
    "editable": true
   },
   "outputs": [],
   "source": [
    "data_good=pd.concat([data_nocomp,data_comp_good],ignore_index=True)"
   ]
  },
  {
   "cell_type": "code",
   "execution_count": 7,
   "metadata": {
    "collapsed": false,
    "deletable": true,
    "editable": true
   },
   "outputs": [],
   "source": [
    "data_good=data_good[['source','target']]\n",
    "data_good.to_csv('../data/omnipath/all_interactions.csv',sep=',')\n",
    "data=data_good"
   ]
  },
  {
   "cell_type": "code",
   "execution_count": 8,
   "metadata": {
    "collapsed": false,
    "deletable": true,
    "editable": true
   },
   "outputs": [],
   "source": [
    "#make network undirected\n",
    "data=pd.read_csv('../data/omnipath/all_interactions.csv',sep=',',header=0,index_col=0)\n",
    "data_rev=pd.DataFrame(index=data.index,columns=data.columns)\n",
    "data_rev['source']=data['target']\n",
    "data_rev['target']=data['source']\n",
    "data=pd.concat([data,data_rev],ignore_index=True)\n",
    "data=data.drop_duplicates()"
   ]
  },
  {
   "cell_type": "code",
   "execution_count": 9,
   "metadata": {
    "collapsed": false
   },
   "outputs": [],
   "source": [
    "#remove self interacions\n",
    "fil=data['source']!=data['target']\n",
    "data=data[fil]"
   ]
  },
  {
   "cell_type": "markdown",
   "metadata": {},
   "source": [
    "Calculating distance matrix."
   ]
  },
  {
   "cell_type": "code",
   "execution_count": 10,
   "metadata": {
    "collapsed": false,
    "deletable": true,
    "editable": true
   },
   "outputs": [],
   "source": [
    "#create adj. matirx\n",
    "data['Interaction']=1\n",
    "AM=data.pivot(index='source',columns='target',values='Interaction')\n",
    "AM[AM.isnull()]=0\n",
    "#add self edge\n",
    "AM=AM+np.eye(N=len(AM))"
   ]
  },
  {
   "cell_type": "code",
   "execution_count": 11,
   "metadata": {
    "collapsed": false,
    "deletable": true,
    "editable": true
   },
   "outputs": [],
   "source": [
    "AM.to_csv('../data/omnipath/AM.csv',sep=',')"
   ]
  },
  {
   "cell_type": "code",
   "execution_count": 12,
   "metadata": {
    "collapsed": false,
    "deletable": true,
    "editable": true
   },
   "outputs": [
    {
     "name": "stdout",
     "output_type": "stream",
     "text": [
      "1 117624870\n",
      "2 117529366\n",
      "3 114002418\n",
      "4 85617132\n",
      "5 40740544\n",
      "6 18909274\n",
      "7 12872908\n",
      "8 11480066\n",
      "9 11167680\n",
      "10 11118020\n",
      "11 11112142\n",
      "12 11111454\n",
      "13 11111366\n"
     ]
    }
   ],
   "source": [
    "#calculate distance matrix\n",
    "prot_ids=AM.index\n",
    "AM=AM.values\n",
    "DM=np.full((len(prot_ids),len(prot_ids)),np.inf)\n",
    "RW=np.eye(len(prot_ids)) #starting position\n",
    "k=0\n",
    "DM[RW==1]=k\n",
    "while True:\n",
    "    k+=1\n",
    "    #number of steps, remaining not reachable\n",
    "    print(k,(DM==np.inf).sum())\n",
    "    RW_new=np.dot(RW,AM)\n",
    "    RW_new[RW_new!=0]=1\n",
    "    if (RW_new!=RW).sum()==0:\n",
    "        break\n",
    "    DM[(RW_new==1)&(RW!=1)]=k\n",
    "    RW=RW_new"
   ]
  },
  {
   "cell_type": "code",
   "execution_count": 13,
   "metadata": {
    "collapsed": false,
    "deletable": true,
    "editable": true
   },
   "outputs": [],
   "source": [
    "AM=pd.DataFrame(AM,index=prot_ids,columns=prot_ids)\n",
    "DM=pd.DataFrame(DM,index=prot_ids,columns=prot_ids)\n",
    "DM.to_csv('../data/omnipath/DM.csv',sep=',')"
   ]
  },
  {
   "cell_type": "code",
   "execution_count": 14,
   "metadata": {
    "collapsed": false
   },
   "outputs": [],
   "source": [
    "#filter out unconnected nodes\n",
    "n_unconnected=(DM==np.inf).sum().min()\n",
    "giant_component=DM.index[(DM==np.inf).sum()==n_unconnected]\n",
    "AM=AM.loc[giant_component,giant_component]\n",
    "DM=DM.loc[giant_component,giant_component]"
   ]
  },
  {
   "cell_type": "code",
   "execution_count": 15,
   "metadata": {
    "collapsed": false
   },
   "outputs": [],
   "source": [
    "AM.to_csv('../data/omnipath/AM_GC.csv',sep=',')\n",
    "DM.to_csv('../data/omnipath/DM_GC.csv',sep=',')"
   ]
  },
  {
   "cell_type": "markdown",
   "metadata": {},
   "source": [
    "As alternative, we calculate the DSD using the script from [here](https://github.com/reemagit/DSD/blob/master/DSD/calculator.py)."
   ]
  },
  {
   "cell_type": "code",
   "execution_count": 46,
   "metadata": {
    "collapsed": true
   },
   "outputs": [],
   "source": [
    "AM=pd.read_csv('../data/omnipath/AM_GC.csv',sep=',',header=0,index_col=0)"
   ]
  },
  {
   "cell_type": "code",
   "execution_count": 3,
   "metadata": {
    "collapsed": false
   },
   "outputs": [],
   "source": [
    "def remove_self_edges(x):\n",
    "    y=x.copy()\n",
    "    y[y.name]=0\n",
    "    return y"
   ]
  },
  {
   "cell_type": "code",
   "execution_count": 4,
   "metadata": {
    "collapsed": false
   },
   "outputs": [],
   "source": [
    "#remove self edges, needed for DSD\n",
    "AM=AM.apply(remove_self_edges,axis=0)"
   ]
  },
  {
   "cell_type": "code",
   "execution_count": 7,
   "metadata": {
    "collapsed": true
   },
   "outputs": [],
   "source": [
    "#use numpy arrays for calculations\n",
    "prot_ids=AM.index\n",
    "AM=AM.values"
   ]
  },
  {
   "cell_type": "code",
   "execution_count": 8,
   "metadata": {
    "collapsed": false
   },
   "outputs": [],
   "source": [
    "n = AM.shape[0]\n",
    "degree = AM.sum(axis=1)\n",
    "p = AM / degree\n",
    "pi = degree / degree.sum()"
   ]
  },
  {
   "cell_type": "code",
   "execution_count": 9,
   "metadata": {
    "collapsed": false
   },
   "outputs": [],
   "source": [
    "from scipy.spatial.distance import pdist, squareform\n",
    "from numpy.linalg import inv"
   ]
  },
  {
   "cell_type": "code",
   "execution_count": 10,
   "metadata": {
    "collapsed": true
   },
   "outputs": [],
   "source": [
    "DM=squareform(pdist(inv(np.eye(n) - p - pi.T),metric='cityblock'))"
   ]
  },
  {
   "cell_type": "code",
   "execution_count": 12,
   "metadata": {
    "collapsed": false
   },
   "outputs": [],
   "source": [
    "DM=pd.DataFrame(DM,index=prot_ids,columns=prot_ids)\n",
    "DM.to_csv('../data/omnipath/DSD.csv',sep=',')"
   ]
  },
  {
   "cell_type": "markdown",
   "metadata": {},
   "source": [
    "DSD can be calculated also with k steps."
   ]
  },
  {
   "cell_type": "code",
   "execution_count": null,
   "metadata": {
    "collapsed": true
   },
   "outputs": [],
   "source": []
  }
 ],
 "metadata": {
  "kernelspec": {
   "display_name": "Python 3",
   "language": "python",
   "name": "python3"
  },
  "language_info": {
   "codemirror_mode": {
    "name": "ipython",
    "version": 3
   },
   "file_extension": ".py",
   "mimetype": "text/x-python",
   "name": "python",
   "nbconvert_exporter": "python",
   "pygments_lexer": "ipython3",
   "version": "3.5.2"
  }
 },
 "nbformat": 4,
 "nbformat_minor": 2
}
