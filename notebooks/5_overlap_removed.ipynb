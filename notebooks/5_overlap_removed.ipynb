{
 "cells": [
  {
   "cell_type": "code",
   "execution_count": 77,
   "metadata": {},
   "outputs": [],
   "source": [
    "import numpy as np\n",
    "import pandas as pd\n",
    "\n",
    "from matplotlib import pyplot as plt\n",
    "import seaborn as sns\n",
    "%matplotlib inline\n",
    "sns.set_style(\"whitegrid\")\n",
    "\n",
    "import statsmodels.formula.api as smf\n",
    "import statsmodels.api as sm"
   ]
  },
  {
   "cell_type": "code",
   "execution_count": 78,
   "metadata": {},
   "outputs": [],
   "source": [
    "dnames=['BEST_dorothea_AB','BEST_dorothea_CD','KEGG','REACTOME','CGP','BIOCARTA']\n",
    "bname='progeny'\n",
    "atype='_abs'"
   ]
  },
  {
   "cell_type": "code",
   "execution_count": 79,
   "metadata": {},
   "outputs": [],
   "source": [
    "scores={}\n",
    "for dname1 in dnames:\n",
    "    scores[dname1]=[]\n",
    "    for dname2 in list(set(dnames)-set([dname1])):\n",
    "        score_1minus2=pd.read_csv('../results/benchmark/z_scores/%s/overlap/%s%s_minus_%s%s%s.csv' % (bname,dname1,'_filtered',dname2,'_filtered',atype),\n",
    "                                     sep=',',header=0,index_col=0).abs().max(1)\n",
    "        scores[dname1]+=list(score_1minus2.values)\n",
    "scores_df=pd.DataFrame(columns=['Data','Delta'])\n",
    "for dname in scores:\n",
    "    temp=pd.DataFrame(columns=scores_df.columns)\n",
    "    temp['Delta']=scores[dname]\n",
    "    temp['Data']=dname\n",
    "    scores_df=pd.concat([scores_df,temp])\n",
    "scores_df['Random']=False\n",
    "scores_random={}\n",
    "for dname1 in dnames:\n",
    "    scores_random[dname1]=[]\n",
    "    for dname2 in list(set(dnames)-set([dname1])):\n",
    "        score_1minus2=pd.read_csv('../results/benchmark/z_scores/%s/overlap/%s%s_minus_%s%s%s.csv' % (bname,dname1,'_random_uniform_0',dname2,'_random_uniform_0',atype),\n",
    "                                     sep=',',header=0,index_col=0).abs().max(1)\n",
    "        scores_random[dname1]+=list(score_1minus2.values)\n",
    "scores_random_df=pd.DataFrame(columns=['Data','Delta'])\n",
    "for dname in scores_random:\n",
    "    temp=pd.DataFrame(columns=scores_random_df.columns)\n",
    "    temp['Delta']=scores_random[dname]\n",
    "    temp['Data']=dname\n",
    "    scores_random_df=pd.concat([scores_random_df,temp])\n",
    "scores_random_df['Random']=True\n",
    "\n",
    "scores=pd.concat([scores_df, scores_random_df])"
   ]
  },
  {
   "cell_type": "code",
   "execution_count": 80,
   "metadata": {},
   "outputs": [
    {
     "data": {
      "text/plain": [
       "<matplotlib.axes._subplots.AxesSubplot at 0x11b82eeb8>"
      ]
     },
     "execution_count": 80,
     "metadata": {},
     "output_type": "execute_result"
    },
    {
     "data": {
      "image/png": "[encoded data removed]",
      "text/plain": [
       "<matplotlib.figure.Figure at 0x1219302e8>"
      ]
     },
     "metadata": {},
     "output_type": "display_data"
    }
   ],
   "source": [
    "sns.boxplot(scores['Data'],scores['Delta'], hue=scores['Random'])"
   ]
  },
  {
   "cell_type": "code",
   "execution_count": 93,
   "metadata": {},
   "outputs": [],
   "source": [
    "dnames=['BEST_dorothea_AB','BEST_dorothea_CD','KEGG','REACTOME','CGP','BIOCARTA']\n",
    "bname='progeny'\n",
    "atype='_abs'"
   ]
  },
  {
   "cell_type": "code",
   "execution_count": 94,
   "metadata": {},
   "outputs": [],
   "source": [
    "delta={}\n",
    "for dname1 in dnames:\n",
    "    delta[dname1]=[]\n",
    "    for dname2 in list(set(dnames)-set([dname1])):\n",
    "        score=pd.read_csv('../results/benchmark/z_scores/%s/single/%s%s%s.csv' % (bname,dname2,'_filtered',atype),\n",
    "                      sep=',',header=0,index_col=0).abs().max(1)\n",
    "        score_2minus1=pd.read_csv('../results/benchmark/z_scores/%s/overlap/%s%s_minus_%s%s%s.csv' % (bname,dname2,'_filtered',dname1,'_filtered',atype),\n",
    "                                     sep=',',header=0,index_col=0).abs().max(1)\n",
    "        if dname2<dname1:\n",
    "            score=score[pd.Series(score_2minus1.index).apply(lambda x:x.split('*')[0]).values]\n",
    "        else:\n",
    "            score=score[pd.Series(score_2minus1.index).apply(lambda x:x.split('*')[1]).values]\n",
    "        delta[dname1]+=list(score_2minus1.values-score.values)\n",
    "delta_df=pd.DataFrame(columns=['Data','Delta'])\n",
    "for dname in delta:\n",
    "    temp=pd.DataFrame(columns=delta_df.columns)\n",
    "    temp['Delta']=delta[dname]\n",
    "    temp['Data']=dname\n",
    "    delta_df=pd.concat([delta_df,temp])\n",
    "delta_df['Random']=False    \n",
    "delta_random={}\n",
    "for dname1 in dnames:\n",
    "    delta_random[dname1]=[]\n",
    "    for dname2 in list(set(dnames)-set([dname1])):\n",
    "        score=pd.read_csv('../results/benchmark/z_scores/%s/single/%s%s%s.csv' % (bname,dname2,'_random_uniform_0',atype),\n",
    "                      sep=',',header=0,index_col=0).abs().max(1)\n",
    "        score_2minus1=pd.read_csv('../results/benchmark/z_scores/%s/overlap/%s%s_minus_%s%s%s.csv' % (bname,dname2,'_random_uniform_0',dname1,'_random_uniform_0',atype),\n",
    "                                     sep=',',header=0,index_col=0).abs().max(1)\n",
    "        if dname2<dname1:\n",
    "            score=score[pd.Series(score_2minus1.index).apply(lambda x:x.split('*')[0]).values]\n",
    "        else:\n",
    "            score=score[pd.Series(score_2minus1.index).apply(lambda x:x.split('*')[1]).values]\n",
    "        delta_random[dname1]+=list(score_2minus1.values-score.values)\n",
    "delta_random_df=pd.DataFrame(columns=['Data','Delta'])\n",
    "for dname in delta_random:\n",
    "    temp=pd.DataFrame(columns=delta_random_df.columns)\n",
    "    temp['Delta']=delta_random[dname]\n",
    "    temp['Data']=dname\n",
    "    delta_random_df=pd.concat([delta_random_df,temp])\n",
    "delta_random_df['Random']=True\n",
    "delta = pd.concat([delta_df,delta_random_df])"
   ]
  },
  {
   "cell_type": "code",
   "execution_count": 95,
   "metadata": {},
   "outputs": [
    {
     "name": "stderr",
     "output_type": "stream",
     "text": [
      "/Users/benceszalai/Library/Enthought/Canopy/edm/envs/Python3/lib/python3.5/site-packages/scipy/stats/stats.py:1706: FutureWarning: Using a non-tuple sequence for multidimensional indexing is deprecated; use `arr[tuple(seq)]` instead of `arr[seq]`. In the future this will be interpreted as an array index, `arr[np.array(seq)]`, which will result either in an error or a different result.\n",
      "  return np.add.reduce(sorted[indexer] * weights, axis=axis) / sumval\n"
     ]
    },
    {
     "data": {
      "text/plain": [
       "<matplotlib.axes._subplots.AxesSubplot at 0x11b82e390>"
      ]
     },
     "execution_count": 95,
     "metadata": {},
     "output_type": "execute_result"
    },
    {
     "data": {
      "image/png": "[encoded data removed]",
      "text/plain": [
       "<matplotlib.figure.Figure at 0x121724828>"
      ]
     },
     "metadata": {},
     "output_type": "display_data"
    }
   ],
   "source": [
    "sns.barplot(delta['Data'],delta['Delta'],hue=delta['Random'])"
   ]
  },
  {
   "cell_type": "code",
   "execution_count": 92,
   "metadata": {},
   "outputs": [
    {
     "data": {
      "text/plain": [
       "204.79999999999998"
      ]
     },
     "execution_count": 92,
     "metadata": {},
     "output_type": "execute_result"
    }
   ],
   "source": [
    "sns.color_palette('GnBu',2)[1][2]*256"
   ]
  },
  {
   "cell_type": "code",
   "execution_count": 99,
   "metadata": {},
   "outputs": [],
   "source": [
    "temp=pd.read_csv('../results/benchmark/z_scores/gdsc/single/KEGG_filtered_abs.csv',sep=',',header=0,index_col=0)"
   ]
  },
  {
   "cell_type": "code",
   "execution_count": 100,
   "metadata": {},
   "outputs": [
    {
     "data": {
      "text/plain": [
       "KEGG_ECM_RECEPTOR_INTERACTION                                     -3.489207\n",
       "KEGG_TYPE_I_DIABETES_MELLITUS                                     -3.448693\n",
       "KEGG_SYSTEMIC_LUPUS_ERYTHEMATOSUS                                 -3.381913\n",
       "KEGG_ASTHMA                                                       -3.261263\n",
       "KEGG_HEMATOPOIETIC_CELL_LINEAGE                                   -3.110784\n",
       "KEGG_P53_SIGNALING_PATHWAY                                        -3.028422\n",
       "KEGG_INTESTINAL_IMMUNE_NETWORK_FOR_IGA_PRODUCTION                 -2.796916\n",
       "KEGG_CELL_ADHESION_MOLECULES_CAMS                                 -2.776882\n",
       "KEGG_LYSOSOME                                                     -2.747498\n",
       "KEGG_FOCAL_ADHESION                                               -2.723457\n",
       "KEGG_GRAFT_VERSUS_HOST_DISEASE                                    -2.621506\n",
       "KEGG_ABC_TRANSPORTERS                                             -2.502191\n",
       "KEGG_GLYCOSAMINOGLYCAN_BIOSYNTHESIS_KERATAN_SULFATE               -2.453219\n",
       "KEGG_ALLOGRAFT_REJECTION                                          -2.334350\n",
       "KEGG_VIRAL_MYOCARDITIS                                            -2.312535\n",
       "KEGG_LEISHMANIA_INFECTION                                         -2.290275\n",
       "KEGG_ANTIGEN_PROCESSING_AND_PRESENTATION                          -2.207912\n",
       "KEGG_CALCIUM_SIGNALING_PATHWAY                                    -2.029831\n",
       "KEGG_TGF_BETA_SIGNALING_PATHWAY                                   -1.976852\n",
       "KEGG_ARRHYTHMOGENIC_RIGHT_VENTRICULAR_CARDIOMYOPATHY_ARVC         -1.844181\n",
       "KEGG_VASCULAR_SMOOTH_MUSCLE_CONTRACTION                           -1.770722\n",
       "KEGG_MELANOMA                                                     -1.746681\n",
       "KEGG_NICOTINATE_AND_NICOTINAMIDE_METABOLISM                       -1.675894\n",
       "KEGG_TERPENOID_BACKBONE_BIOSYNTHESIS                              -1.626477\n",
       "KEGG_ALANINE_ASPARTATE_AND_GLUTAMATE_METABOLISM                   -1.621134\n",
       "KEGG_SPHINGOLIPID_METABOLISM                                      -1.604216\n",
       "KEGG_TYPE_II_DIABETES_MELLITUS                                    -1.488018\n",
       "KEGG_AUTOIMMUNE_THYROID_DISEASE                                   -1.481786\n",
       "KEGG_BETA_ALANINE_METABOLISM                                      -1.422573\n",
       "KEGG_DILATED_CARDIOMYOPATHY                                       -1.415895\n",
       "                                                                     ...   \n",
       "KEGG_RNA_POLYMERASE                                                1.688952\n",
       "KEGG_PROTEIN_EXPORT                                                1.705870\n",
       "KEGG_PORPHYRIN_AND_CHLOROPHYLL_METABOLISM                          1.719226\n",
       "KEGG_EPITHELIAL_CELL_SIGNALING_IN_HELICOBACTER_PYLORI_INFECTION    1.755732\n",
       "KEGG_VEGF_SIGNALING_PATHWAY                                        1.758404\n",
       "KEGG_SPLICEOSOME                                                   1.776657\n",
       "KEGG_FC_EPSILON_RI_SIGNALING_PATHWAY                               1.796691\n",
       "KEGG_PENTOSE_AND_GLUCURONATE_INTERCONVERSIONS                      1.800698\n",
       "KEGG_MTOR_SIGNALING_PATHWAY                                        1.815390\n",
       "KEGG_TIGHT_JUNCTION                                                1.852787\n",
       "KEGG_B_CELL_RECEPTOR_SIGNALING_PATHWAY                             1.879944\n",
       "KEGG_PROTEASOME                                                    1.879944\n",
       "KEGG_PEROXISOME                                                    1.931588\n",
       "KEGG_MELANOGENESIS                                                 2.029978\n",
       "KEGG_O_GLYCAN_BIOSYNTHESIS                                         2.036210\n",
       "KEGG_ERBB_SIGNALING_PATHWAY                                        2.114566\n",
       "KEGG_PHENYLALANINE_METABOLISM                                      2.179566\n",
       "KEGG_UBIQUITIN_MEDIATED_PROTEOLYSIS                                2.355421\n",
       "KEGG_FATTY_ACID_METABOLISM                                         2.473400\n",
       "KEGG_GNRH_SIGNALING_PATHWAY                                        2.548639\n",
       "KEGG_T_CELL_RECEPTOR_SIGNALING_PATHWAY                             2.645694\n",
       "KEGG_TYROSINE_METABOLISM                                           2.829563\n",
       "KEGG_ARACHIDONIC_ACID_METABOLISM                                   2.933295\n",
       "KEGG_GLUTATHIONE_METABOLISM                                        3.027678\n",
       "KEGG_HISTIDINE_METABOLISM                                          3.142540\n",
       "KEGG_STEROID_HORMONE_BIOSYNTHESIS                                  3.221341\n",
       "KEGG_DRUG_METABOLISM_CYTOCHROME_P450                               3.806339\n",
       "KEGG_GLYCOLYSIS_GLUCONEOGENESIS                                    3.947913\n",
       "KEGG_RETINOL_METABOLISM                                            4.006235\n",
       "KEGG_METABOLISM_OF_XENOBIOTICS_BY_CYTOCHROME_P450                  4.857463\n",
       "Name: TP53_mut, Length: 181, dtype: float64"
      ]
     },
     "execution_count": 100,
     "metadata": {},
     "output_type": "execute_result"
    }
   ],
   "source": [
    "temp['TP53_mut'].sort_values()"
   ]
  },
  {
   "cell_type": "code",
   "execution_count": null,
   "metadata": {},
   "outputs": [],
   "source": []
  }
 ],
 "metadata": {
  "kernelspec": {
   "display_name": "Python 3",
   "language": "python",
   "name": "python3"
  },
  "language_info": {
   "codemirror_mode": {
    "name": "ipython",
    "version": 3
   },
   "file_extension": ".py",
   "mimetype": "text/x-python",
   "name": "python",
   "nbconvert_exporter": "python",
   "pygments_lexer": "ipython3",
   "version": "3.5.2"
  }
 },
 "nbformat": 4,
 "nbformat_minor": 4
}
